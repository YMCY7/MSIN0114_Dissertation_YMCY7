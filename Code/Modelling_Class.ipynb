{
 "cells": [
  {
   "cell_type": "markdown",
   "id": "6f9b29be",
   "metadata": {},
   "source": [
    "# This Notebook is Model Testing for Class instances of Classification Codes"
   ]
  },
  {
   "cell_type": "code",
   "execution_count": 1,
   "id": "0003f91e",
   "metadata": {},
   "outputs": [
    {
     "name": "stderr",
     "output_type": "stream",
     "text": [
      "2023-07-27 12:13:52.360141: I tensorflow/core/platform/cpu_feature_guard.cc:193] This TensorFlow binary is optimized with oneAPI Deep Neural Network Library (oneDNN) to use the following CPU instructions in performance-critical operations:  SSE4.1 SSE4.2\n",
      "To enable them in other operations, rebuild TensorFlow with the appropriate compiler flags.\n"
     ]
    }
   ],
   "source": [
    "# Import all necessary packages\n",
    "\n",
    "import ast\n",
    "import nltk\n",
    "import string\n",
    "import numpy as np\n",
    "import pandas as pd\n",
    "\n",
    "from nltk.corpus import stopwords\n",
    "from nltk.stem import PorterStemmer\n",
    "from nltk.tokenize import word_tokenize\n",
    "\n",
    "from sklearn.svm import SVC\n",
    "from sklearn.linear_model import LogisticRegression\n",
    "from sklearn.ensemble import RandomForestClassifier\n",
    "from sklearn.model_selection import train_test_split\n",
    "from sklearn.multioutput import MultiOutputClassifier\n",
    "from sklearn.metrics import accuracy_score, hamming_loss\n",
    "from sklearn.feature_extraction.text import TfidfVectorizer\n",
    "from sklearn.preprocessing import MultiLabelBinarizer, LabelEncoder\n",
    "\n",
    "from keras.models import Sequential\n",
    "from keras.layers import Dense\n",
    "from keras.optimizers import Adam\n",
    "from matplotlib import pyplot as plt\n",
    "\n",
    "from prettytable import PrettyTable"
   ]
  },
  {
   "cell_type": "markdown",
   "id": "cd0efa5b",
   "metadata": {},
   "source": [
    "# All Data\n",
    "\n",
    "The subsequent section will test the performance of the following models on the whole dataset:\n",
    "\n",
    "- Logistic Regression\n",
    "- Random Forest Classifier\n",
    "- Support Vector Machine\n",
    "- Deep Nerual Networks\n"
   ]
  },
  {
   "cell_type": "code",
   "execution_count": 3,
   "id": "fab9a352",
   "metadata": {},
   "outputs": [
    {
     "data": {
      "text/html": [
       "<div>\n",
       "<style scoped>\n",
       "    .dataframe tbody tr th:only-of-type {\n",
       "        vertical-align: middle;\n",
       "    }\n",
       "\n",
       "    .dataframe tbody tr th {\n",
       "        vertical-align: top;\n",
       "    }\n",
       "\n",
       "    .dataframe thead th {\n",
       "        text-align: right;\n",
       "    }\n",
       "</style>\n",
       "<table border=\"1\" class=\"dataframe\">\n",
       "  <thead>\n",
       "    <tr style=\"text-align: right;\">\n",
       "      <th></th>\n",
       "      <th>Context</th>\n",
       "      <th>Classification Codes</th>\n",
       "    </tr>\n",
       "  </thead>\n",
       "  <tbody>\n",
       "    <tr>\n",
       "      <th>0</th>\n",
       "      <td>processor compil system receiv predict model r...</td>\n",
       "      <td>[G06]</td>\n",
       "    </tr>\n",
       "    <tr>\n",
       "      <th>1</th>\n",
       "      <td>imag sens devic imag sens devic includ substra...</td>\n",
       "      <td>[H01]</td>\n",
       "    </tr>\n",
       "    <tr>\n",
       "      <th>2</th>\n",
       "      <td>antigen specif immunotherapi covid19 fusion pr...</td>\n",
       "      <td>[A61, C07, C12]</td>\n",
       "    </tr>\n",
       "    <tr>\n",
       "      <th>3</th>\n",
       "      <td>secur deescal data access concept technolog di...</td>\n",
       "      <td>[G06]</td>\n",
       "    </tr>\n",
       "    <tr>\n",
       "      <th>4</th>\n",
       "      <td>system method secur cloudbas physiolog data pr...</td>\n",
       "      <td>[A61, G16, G06]</td>\n",
       "    </tr>\n",
       "  </tbody>\n",
       "</table>\n",
       "</div>"
      ],
      "text/plain": [
       "                                             Context Classification Codes\n",
       "0  processor compil system receiv predict model r...                [G06]\n",
       "1  imag sens devic imag sens devic includ substra...                [H01]\n",
       "2  antigen specif immunotherapi covid19 fusion pr...      [A61, C07, C12]\n",
       "3  secur deescal data access concept technolog di...                [G06]\n",
       "4  system method secur cloudbas physiolog data pr...      [A61, G16, G06]"
      ]
     },
     "execution_count": 3,
     "metadata": {},
     "output_type": "execute_result"
    }
   ],
   "source": [
    "# Load the data\n",
    "df = pd.read_csv('Data_Preprocessed_Class.csv')\n",
    "df['Classification Codes'] = df['Classification Codes'].apply(ast.literal_eval)\n",
    "df.head()"
   ]
  },
  {
   "cell_type": "code",
   "execution_count": 4,
   "id": "0d7b2b90",
   "metadata": {},
   "outputs": [],
   "source": [
    "# As most multi-label classifiers requres each class to have multiple instances.\n",
    "# All codes which appear less than 5 times will be removed\n",
    "\n",
    "for i in range(10):\n",
    "\n",
    "    # Determine the codes to be removed\n",
    "    unique_codes = df['Classification Codes'].explode().value_counts()\n",
    "    codes_to_remove = unique_codes[unique_codes < 5 ].index.tolist()\n",
    "\n",
    "    # Remove rows with empty 'Classification Codes' column\n",
    "    df = df.dropna(subset=['Classification Codes'])\n",
    "\n",
    "    # Remove codes in the list codes_to_remove\n",
    "    df['CodeCount'] = df['Classification Codes'].apply(lambda codes: sum(code in codes_to_remove for code in codes))\n",
    "    df = df[df['CodeCount'] == 0].drop(columns=['CodeCount'])"
   ]
  },
  {
   "cell_type": "code",
   "execution_count": 5,
   "id": "94409c87",
   "metadata": {},
   "outputs": [
    {
     "name": "stdout",
     "output_type": "stream",
     "text": [
      "A61    9163\n",
      "G06    5267\n",
      "H04    3697\n",
      "G16    2111\n",
      "G01    1594\n",
      "       ... \n",
      "F17       6\n",
      "D03       5\n",
      "C22       5\n",
      "A44       5\n",
      "D01       5\n",
      "Name: Classification Codes, Length: 69, dtype: int64\n"
     ]
    }
   ],
   "source": [
    "# Now all codes will have a minimum of 5 instances\n",
    "print(unique_codes)"
   ]
  },
  {
   "cell_type": "code",
   "execution_count": 6,
   "id": "37709cb3",
   "metadata": {},
   "outputs": [],
   "source": [
    "# Encode \"Classification Codes\" column as multi-labels\n",
    "mlb = MultiLabelBinarizer()\n",
    "y = mlb.fit_transform(df['Classification Codes'])\n",
    "\n",
    "# Split the data into training(80%) and testing sets(20%)\n",
    "X_train, X_test, y_train, y_test = train_test_split(df['Context'], y, test_size=0.2, random_state=42)"
   ]
  },
  {
   "cell_type": "code",
   "execution_count": 7,
   "id": "451775bf",
   "metadata": {},
   "outputs": [],
   "source": [
    "# Apply feature extraction using TfidfVectorizer\n",
    "vectorizer = TfidfVectorizer()\n",
    "X_train_vectorized = vectorizer.fit_transform(X_train)\n",
    "X_test_vectorized = vectorizer.transform(X_test)"
   ]
  },
  {
   "cell_type": "markdown",
   "id": "fab897d1",
   "metadata": {},
   "source": [
    "## Logistic Regression "
   ]
  },
  {
   "cell_type": "code",
   "execution_count": 8,
   "id": "aec8debf",
   "metadata": {},
   "outputs": [
    {
     "name": "stdout",
     "output_type": "stream",
     "text": [
      "Accuracy: 0.45472\n",
      "Hamming Loss: 0.013954782608695652\n"
     ]
    }
   ],
   "source": [
    "logistic_regression = LogisticRegression()\n",
    "\n",
    "# Use MultiOutputClassifier for multi-label classification\n",
    "multi_label_classifier = MultiOutputClassifier(logistic_regression)\n",
    "\n",
    "# Train the model\n",
    "multi_label_classifier.fit(X_train_vectorized, y_train)\n",
    "\n",
    "# Make predictions\n",
    "y_pred = multi_label_classifier.predict(X_test_vectorized)\n",
    "\n",
    "# Evaluate the model\n",
    "accuracy = accuracy_score(y_test, y_pred)\n",
    "hamming_loss_value = hamming_loss(y_test, y_pred)\n",
    "\n",
    "print(\"Accuracy:\", accuracy)\n",
    "print(\"Hamming Loss:\", hamming_loss_value)"
   ]
  },
  {
   "cell_type": "markdown",
   "id": "92bd5546",
   "metadata": {},
   "source": [
    "## Random Forest Classifier \n"
   ]
  },
  {
   "cell_type": "code",
   "execution_count": 9,
   "id": "8eeb2c7f",
   "metadata": {},
   "outputs": [
    {
     "name": "stdout",
     "output_type": "stream",
     "text": [
      "Accuracy: 0.51424\n",
      "Hamming Loss: 0.012674782608695652\n"
     ]
    }
   ],
   "source": [
    "classifier = RandomForestClassifier()\n",
    "\n",
    "# Use MultiOutputClassifier for multi-label classification\n",
    "multi_label_classifier = MultiOutputClassifier(classifier)\n",
    "\n",
    "# Train the model\n",
    "multi_label_classifier.fit(X_train_vectorized, y_train)\n",
    "\n",
    "# Make predictions\n",
    "y_pred = multi_label_classifier.predict(X_test_vectorized)\n",
    "\n",
    "# Evaluate the model\n",
    "accuracy = accuracy_score(y_test, y_pred)\n",
    "hamming_loss_value = hamming_loss(y_test, y_pred)\n",
    "\n",
    "print(\"Accuracy:\", accuracy)\n",
    "print(\"Hamming Loss:\", hamming_loss_value)"
   ]
  },
  {
   "cell_type": "markdown",
   "id": "36763dd0",
   "metadata": {},
   "source": [
    "## Support Vector Machine  (One vs Rest)\n"
   ]
  },
  {
   "cell_type": "code",
   "execution_count": 8,
   "id": "8eb76bf0",
   "metadata": {},
   "outputs": [
    {
     "name": "stdout",
     "output_type": "stream",
     "text": [
      "Accuracy: 0.39392\n",
      "Hamming Loss: 0.016422028985507247\n"
     ]
    }
   ],
   "source": [
    "svm_classifier = SVC(kernel='linear')\n",
    "\n",
    "# Use MultiOutputClassifier for multi-label classification\n",
    "multi_label_classifier = MultiOutputClassifier(svm_classifier)\n",
    "\n",
    "# Train the model\n",
    "multi_label_classifier.fit(X_train_vectorized, y_train)\n",
    "\n",
    "# Make predictions\n",
    "y_pred = multi_label_classifier.predict(X_test_vectorized)\n",
    "\n",
    "# Evaluate the model\n",
    "accuracy = accuracy_score(y_test, y_pred)\n",
    "hamming_loss_value = hamming_loss(y_test, y_pred)\n",
    "\n",
    "print(\"Accuracy:\", accuracy)\n",
    "print(\"Hamming Loss:\", hamming_loss_value)"
   ]
  },
  {
   "cell_type": "markdown",
   "id": "872791d8",
   "metadata": {},
   "source": [
    "## Deep Neural Networks "
   ]
  },
  {
   "cell_type": "code",
   "execution_count": 9,
   "id": "d51bf718",
   "metadata": {},
   "outputs": [
    {
     "name": "stderr",
     "output_type": "stream",
     "text": [
      "2023-07-27 12:29:11.210397: I tensorflow/core/platform/cpu_feature_guard.cc:193] This TensorFlow binary is optimized with oneAPI Deep Neural Network Library (oneDNN) to use the following CPU instructions in performance-critical operations:  SSE4.1 SSE4.2\n",
      "To enable them in other operations, rebuild TensorFlow with the appropriate compiler flags.\n"
     ]
    },
    {
     "name": "stdout",
     "output_type": "stream",
     "text": [
      "Epoch 1/10\n",
      "313/313 [==============================] - 12s 35ms/step - loss: 0.0866 - accuracy: 0.6710 - val_loss: 0.0439 - val_accuracy: 0.7844\n",
      "Epoch 2/10\n",
      "313/313 [==============================] - 8s 26ms/step - loss: 0.0297 - accuracy: 0.7888 - val_loss: 0.0419 - val_accuracy: 0.7620\n",
      "Epoch 3/10\n",
      "313/313 [==============================] - 9s 27ms/step - loss: 0.0195 - accuracy: 0.7946 - val_loss: 0.0434 - val_accuracy: 0.7644\n",
      "Epoch 4/10\n",
      "313/313 [==============================] - 9s 30ms/step - loss: 0.0134 - accuracy: 0.8001 - val_loss: 0.0487 - val_accuracy: 0.7612\n",
      "Epoch 5/10\n",
      "313/313 [==============================] - 8s 27ms/step - loss: 0.0096 - accuracy: 0.7992 - val_loss: 0.0528 - val_accuracy: 0.7524\n",
      "Epoch 6/10\n",
      "313/313 [==============================] - 8s 27ms/step - loss: 0.0069 - accuracy: 0.8046 - val_loss: 0.0599 - val_accuracy: 0.7504\n",
      "Epoch 7/10\n",
      "313/313 [==============================] - 9s 27ms/step - loss: 0.0050 - accuracy: 0.7992 - val_loss: 0.0652 - val_accuracy: 0.7432\n",
      "Epoch 8/10\n",
      "313/313 [==============================] - 8s 27ms/step - loss: 0.0042 - accuracy: 0.8008 - val_loss: 0.0709 - val_accuracy: 0.7448\n",
      "Epoch 9/10\n",
      "313/313 [==============================] - 8s 24ms/step - loss: 0.0033 - accuracy: 0.7910 - val_loss: 0.0766 - val_accuracy: 0.7500\n",
      "Epoch 10/10\n",
      "313/313 [==============================] - 8s 25ms/step - loss: 0.0030 - accuracy: 0.8013 - val_loss: 0.0820 - val_accuracy: 0.7548\n",
      "98/98 [==============================] - 1s 11ms/step\n"
     ]
    }
   ],
   "source": [
    "# Convert sparse matrices to dense NumPy arrays\n",
    "X_train_dense = X_train_vectorized.toarray()\n",
    "X_test_dense = X_test_vectorized.toarray()\n",
    "\n",
    "# Build basic deep neural network model\n",
    "model = Sequential()\n",
    "model.add(Dense(64, activation='relu', input_shape=(X_train_dense.shape[1],)))\n",
    "model.add(Dense(32, activation='relu'))\n",
    "model.add(Dense(y.shape[1], activation='sigmoid'))  # Use sigmoid activation for multi-label classification\n",
    "\n",
    "# Compile the model\n",
    "model.compile(optimizer=Adam(learning_rate=0.001), loss='binary_crossentropy', metrics=['accuracy'])\n",
    "\n",
    "# Train the model\n",
    "history = model.fit(X_train_dense, y_train, batch_size=32, epochs=10, validation_split=0.2)\n",
    "\n",
    "# Make predictions\n",
    "y_pred_proba = model.predict(X_test_dense)\n",
    "y_pred = (y_pred_proba > 0.5).astype(int)\n",
    "\n",
    "# Evaluate the model\n",
    "hamming_loss_value = hamming_loss(y_test, y_pred)"
   ]
  },
  {
   "cell_type": "code",
   "execution_count": 10,
   "id": "cc4935f0",
   "metadata": {},
   "outputs": [
    {
     "name": "stdout",
     "output_type": "stream",
     "text": [
      "Epoch 1 - Accuracy: 0.6710, Validation Accuracy: 0.7844\n",
      "Epoch 2 - Accuracy: 0.7888, Validation Accuracy: 0.7620\n",
      "Epoch 3 - Accuracy: 0.7946, Validation Accuracy: 0.7644\n",
      "Epoch 4 - Accuracy: 0.8001, Validation Accuracy: 0.7612\n",
      "Epoch 5 - Accuracy: 0.7992, Validation Accuracy: 0.7524\n",
      "Epoch 6 - Accuracy: 0.8046, Validation Accuracy: 0.7504\n",
      "Epoch 7 - Accuracy: 0.7992, Validation Accuracy: 0.7432\n",
      "Epoch 8 - Accuracy: 0.8008, Validation Accuracy: 0.7448\n",
      "Epoch 9 - Accuracy: 0.7910, Validation Accuracy: 0.7500\n",
      "Epoch 10 - Accuracy: 0.8013, Validation Accuracy: 0.7548\n",
      "\n",
      "Hamming Loss: 0.012855652173913044\n"
     ]
    }
   ],
   "source": [
    "# Get accuracy and validation accuracy\n",
    "accuracy = history.history['accuracy']\n",
    "val_accuracy = history.history['val_accuracy']\n",
    "\n",
    "# Print the accuracy and validation accuracy for each epoch\n",
    "for epoch in range(len(accuracy)):\n",
    "    print(f\"Epoch {epoch + 1} - Accuracy: {accuracy[epoch]:.4f}, Validation Accuracy: {val_accuracy[epoch]:.4f}\")\n",
    "    \n",
    "# Print hamming loss\n",
    "print(\"\\nHamming Loss:\", hamming_loss_value)"
   ]
  },
  {
   "cell_type": "code",
   "execution_count": 11,
   "id": "ceca2c42",
   "metadata": {},
   "outputs": [
    {
     "data": {
      "image/png": "[encoded data removed]",
      "text/plain": [
       "<Figure size 1000x400 with 2 Axes>"
      ]
     },
     "metadata": {},
     "output_type": "display_data"
    }
   ],
   "source": [
    "# Plot the training history\n",
    "plt.figure(figsize=(10, 4))\n",
    "\n",
    "# Accuracy/validation accuracy plot\n",
    "plt.subplot(1, 2, 1)\n",
    "plt.plot(history.history['accuracy'], label='Training Accuracy')\n",
    "plt.plot(history.history['val_accuracy'], label='Validation Accuracy')\n",
    "plt.xlabel('Epoch')\n",
    "plt.ylabel('Accuracy')\n",
    "plt.title('Accuracy during Training')\n",
    "plt.legend()\n",
    "\n",
    "# Loss/validation loss plot\n",
    "plt.subplot(1, 2, 2)\n",
    "plt.plot(history.history['loss'], label='Training Loss')\n",
    "plt.plot(history.history['val_loss'], label='Validation Loss')\n",
    "plt.xlabel('Epoch')\n",
    "plt.ylabel('Loss')\n",
    "plt.title('Loss during Training')\n",
    "plt.legend()\n",
    "\n",
    "plt.tight_layout()\n",
    "plt.show()"
   ]
  },
  {
   "cell_type": "markdown",
   "id": "414b266b",
   "metadata": {},
   "source": [
    "# Top 18 Codes\n",
    "\n",
    "The subsequent section will utalise a subset of the whole data. This subset only contains the set of top 18 codes by frequency these codes are (removed repeated codes):\n",
    "\n",
    "- A61   \n",
    "- G06  \n",
    "- G16\n",
    "- H04\n",
    "\n",
    "\n",
    "The following models will be tested to get the accuracy and hamming loss:\n",
    "\n",
    "- Logistic Regression\n",
    "- Random Forest Classifier\n",
    "- Support Vector Machine\n",
    "- Deep Nerual Networks"
   ]
  },
  {
   "cell_type": "code",
   "execution_count": 12,
   "id": "3a21639c",
   "metadata": {},
   "outputs": [
    {
     "data": {
      "text/html": [
       "<div>\n",
       "<style scoped>\n",
       "    .dataframe tbody tr th:only-of-type {\n",
       "        vertical-align: middle;\n",
       "    }\n",
       "\n",
       "    .dataframe tbody tr th {\n",
       "        vertical-align: top;\n",
       "    }\n",
       "\n",
       "    .dataframe thead th {\n",
       "        text-align: right;\n",
       "    }\n",
       "</style>\n",
       "<table border=\"1\" class=\"dataframe\">\n",
       "  <thead>\n",
       "    <tr style=\"text-align: right;\">\n",
       "      <th></th>\n",
       "      <th>Context</th>\n",
       "      <th>Classification Codes</th>\n",
       "    </tr>\n",
       "  </thead>\n",
       "  <tbody>\n",
       "    <tr>\n",
       "      <th>0</th>\n",
       "      <td>processor compil system receiv predict model r...</td>\n",
       "      <td>[G06]</td>\n",
       "    </tr>\n",
       "    <tr>\n",
       "      <th>1</th>\n",
       "      <td>antigen specif immunotherapi covid19 fusion pr...</td>\n",
       "      <td>[A61]</td>\n",
       "    </tr>\n",
       "    <tr>\n",
       "      <th>2</th>\n",
       "      <td>secur deescal data access concept technolog di...</td>\n",
       "      <td>[G06]</td>\n",
       "    </tr>\n",
       "    <tr>\n",
       "      <th>3</th>\n",
       "      <td>system method secur cloudbas physiolog data pr...</td>\n",
       "      <td>[A61, G16, G06]</td>\n",
       "    </tr>\n",
       "    <tr>\n",
       "      <th>4</th>\n",
       "      <td>collim detector base medic imag system medic i...</td>\n",
       "      <td>[A61]</td>\n",
       "    </tr>\n",
       "  </tbody>\n",
       "</table>\n",
       "</div>"
      ],
      "text/plain": [
       "                                             Context Classification Codes\n",
       "0  processor compil system receiv predict model r...                [G06]\n",
       "1  antigen specif immunotherapi covid19 fusion pr...                [A61]\n",
       "2  secur deescal data access concept technolog di...                [G06]\n",
       "3  system method secur cloudbas physiolog data pr...      [A61, G16, G06]\n",
       "4  collim detector base medic imag system medic i...                [A61]"
      ]
     },
     "execution_count": 12,
     "metadata": {},
     "output_type": "execute_result"
    }
   ],
   "source": [
    "# Load the data for top 18 codes\n",
    "df = pd.read_csv('Data_Preprocessed_Class_Top18.csv')\n",
    "df['Classification Codes'] = df['Classification Codes'].apply(ast.literal_eval)\n",
    "df.head()"
   ]
  },
  {
   "cell_type": "code",
   "execution_count": 13,
   "id": "059ce850",
   "metadata": {},
   "outputs": [],
   "source": [
    "# Encode the \"Classification Codes\" column as multi-labels\n",
    "mlb = MultiLabelBinarizer()\n",
    "y = mlb.fit_transform(df['Classification Codes'])\n",
    "\n",
    "# Split the data into training(80%) and testing sets(20%)\n",
    "X_train, X_test, y_train, y_test = train_test_split(df['Context'], y, test_size=0.2, random_state=42)"
   ]
  },
  {
   "cell_type": "code",
   "execution_count": 14,
   "id": "70a1db22",
   "metadata": {},
   "outputs": [],
   "source": [
    "# Apply feature extraction using TfidfVectorizer\n",
    "vectorizer = TfidfVectorizer()\n",
    "X_train_vectorized = vectorizer.fit_transform(X_train)\n",
    "X_test_vectorized = vectorizer.transform(X_test)"
   ]
  },
  {
   "cell_type": "markdown",
   "id": "3cf599f7",
   "metadata": {},
   "source": [
    "##  Logistic Regression"
   ]
  },
  {
   "cell_type": "code",
   "execution_count": 15,
   "id": "b466738f",
   "metadata": {},
   "outputs": [
    {
     "name": "stdout",
     "output_type": "stream",
     "text": [
      "Accuracy: 0.6414041994750657\n",
      "Hamming Loss: 0.12212926509186352\n"
     ]
    }
   ],
   "source": [
    "logistic_regression = LogisticRegression()\n",
    "\n",
    "# Use MultiOutputClassifier for multi-label classification\n",
    "multi_label_classifier = MultiOutputClassifier(logistic_regression)\n",
    "\n",
    "# Train the model\n",
    "multi_label_classifier.fit(X_train_vectorized, y_train)\n",
    "\n",
    "# Make predictions\n",
    "y_pred = multi_label_classifier.predict(X_test_vectorized)\n",
    "\n",
    "# Evaluate the model\n",
    "accuracy = accuracy_score(y_test, y_pred)\n",
    "hamming_loss_value = hamming_loss(y_test, y_pred)\n",
    "\n",
    "print(\"Accuracy:\", accuracy)\n",
    "print(\"Hamming Loss:\", hamming_loss_value)"
   ]
  },
  {
   "cell_type": "markdown",
   "id": "b68515ae",
   "metadata": {},
   "source": [
    "## Random Forest "
   ]
  },
  {
   "cell_type": "code",
   "execution_count": 16,
   "id": "60fd8f98",
   "metadata": {},
   "outputs": [
    {
     "name": "stdout",
     "output_type": "stream",
     "text": [
      "Accuracy: 0.7001312335958005\n",
      "Hamming Loss: 0.10621719160104987\n"
     ]
    }
   ],
   "source": [
    "classifier = RandomForestClassifier()\n",
    "\n",
    "# Use MultiOutputClassifier for multi-label classification\n",
    "multi_label_classifier = MultiOutputClassifier(classifier)\n",
    "\n",
    "# Train the model\n",
    "multi_label_classifier.fit(X_train_vectorized, y_train)\n",
    "\n",
    "# Make predictions\n",
    "y_pred = multi_label_classifier.predict(X_test_vectorized)\n",
    "\n",
    "# Evaluate the model\n",
    "accuracy = accuracy_score(y_test, y_pred)\n",
    "hamming_loss_value = hamming_loss(y_test, y_pred)\n",
    "\n",
    "print(\"Accuracy:\", accuracy)\n",
    "print(\"Hamming Loss:\", hamming_loss_value)"
   ]
  },
  {
   "cell_type": "markdown",
   "id": "dc0108ee",
   "metadata": {},
   "source": [
    "## Support Vector Machine  (One vs Rest)\n"
   ]
  },
  {
   "cell_type": "code",
   "execution_count": 17,
   "id": "a6023654",
   "metadata": {},
   "outputs": [
    {
     "name": "stdout",
     "output_type": "stream",
     "text": [
      "Accuracy: 0.6122047244094488\n",
      "Hamming Loss: 0.13574475065616798\n"
     ]
    }
   ],
   "source": [
    "svm_classifier = SVC(kernel='linear')\n",
    "\n",
    "# Use MultiOutputClassifier for multi-label classification\n",
    "multi_label_classifier = MultiOutputClassifier(svm_classifier)\n",
    "\n",
    "# Train the model\n",
    "multi_label_classifier.fit(X_train_vectorized, y_train)\n",
    "\n",
    "# Make predictions\n",
    "y_pred = multi_label_classifier.predict(X_test_vectorized)\n",
    "\n",
    "# Evaluate the model\n",
    "accuracy = accuracy_score(y_test, y_pred)\n",
    "hamming_loss_value = hamming_loss(y_test, y_pred)\n",
    "\n",
    "print(\"Accuracy:\", accuracy)\n",
    "print(\"Hamming Loss:\", hamming_loss_value)"
   ]
  },
  {
   "cell_type": "markdown",
   "id": "77e3b3c9",
   "metadata": {},
   "source": [
    "## Deep Neural Networks "
   ]
  },
  {
   "cell_type": "code",
   "execution_count": 18,
   "id": "3cd165a1",
   "metadata": {},
   "outputs": [
    {
     "name": "stdout",
     "output_type": "stream",
     "text": [
      "Epoch 1/10\n",
      "305/305 [==============================] - 12s 38ms/step - loss: 0.2745 - accuracy: 0.8325 - val_loss: 0.2353 - val_accuracy: 0.8470\n",
      "Epoch 2/10\n",
      "305/305 [==============================] - 9s 31ms/step - loss: 0.1401 - accuracy: 0.8637 - val_loss: 0.2631 - val_accuracy: 0.8589\n",
      "Epoch 3/10\n",
      "305/305 [==============================] - 9s 31ms/step - loss: 0.0735 - accuracy: 0.8675 - val_loss: 0.2918 - val_accuracy: 0.8519\n",
      "Epoch 4/10\n",
      "305/305 [==============================] - 9s 30ms/step - loss: 0.0393 - accuracy: 0.8697 - val_loss: 0.3521 - val_accuracy: 0.8228\n",
      "Epoch 5/10\n",
      "305/305 [==============================] - 8s 25ms/step - loss: 0.0213 - accuracy: 0.8673 - val_loss: 0.4208 - val_accuracy: 0.8409\n",
      "Epoch 6/10\n",
      "305/305 [==============================] - 8s 27ms/step - loss: 0.0123 - accuracy: 0.8721 - val_loss: 0.4753 - val_accuracy: 0.8400\n",
      "Epoch 7/10\n",
      "305/305 [==============================] - 7s 24ms/step - loss: 0.0100 - accuracy: 0.8709 - val_loss: 0.4932 - val_accuracy: 0.8261\n",
      "Epoch 8/10\n",
      "305/305 [==============================] - 8s 27ms/step - loss: 0.0079 - accuracy: 0.8635 - val_loss: 0.5679 - val_accuracy: 0.8486\n",
      "Epoch 9/10\n",
      "305/305 [==============================] - 7s 24ms/step - loss: 0.0086 - accuracy: 0.8663 - val_loss: 0.6197 - val_accuracy: 0.8413\n",
      "Epoch 10/10\n",
      "305/305 [==============================] - 8s 27ms/step - loss: 0.0127 - accuracy: 0.8712 - val_loss: 0.6700 - val_accuracy: 0.8437\n",
      "96/96 [==============================] - 1s 12ms/step\n"
     ]
    }
   ],
   "source": [
    "# Convert sparse matrices to dense NumPy arrays\n",
    "X_train_dense = X_train_vectorized.toarray()\n",
    "X_test_dense = X_test_vectorized.toarray()\n",
    "\n",
    "# Build deep neural network model\n",
    "model = Sequential()\n",
    "model.add(Dense(64, activation='relu', input_shape=(X_train_dense.shape[1],)))\n",
    "model.add(Dense(32, activation='relu'))\n",
    "model.add(Dense(y.shape[1], activation='sigmoid'))  # Use sigmoid activation for multi-label classification\n",
    "\n",
    "# Compile the model\n",
    "model.compile(optimizer=Adam(learning_rate=0.001), loss='binary_crossentropy', metrics=['accuracy'])\n",
    "\n",
    "# Train the model\n",
    "history = model.fit(X_train_dense, y_train, batch_size=32, epochs=10, validation_split=0.2)\n",
    "\n",
    "# Make predictions\n",
    "y_pred_proba = model.predict(X_test_dense)\n",
    "y_pred = (y_pred_proba > 0.5).astype(int)\n",
    "\n",
    "# Evaluate the model\n",
    "hamming_loss_value = hamming_loss(y_test, y_pred)"
   ]
  },
  {
   "cell_type": "code",
   "execution_count": 19,
   "id": "46bad7ea",
   "metadata": {},
   "outputs": [
    {
     "name": "stdout",
     "output_type": "stream",
     "text": [
      "Epoch 1 - Accuracy: 0.8325, Validation Accuracy: 0.8470\n",
      "Epoch 2 - Accuracy: 0.8637, Validation Accuracy: 0.8589\n",
      "Epoch 3 - Accuracy: 0.8675, Validation Accuracy: 0.8519\n",
      "Epoch 4 - Accuracy: 0.8697, Validation Accuracy: 0.8228\n",
      "Epoch 5 - Accuracy: 0.8673, Validation Accuracy: 0.8409\n",
      "Epoch 6 - Accuracy: 0.8721, Validation Accuracy: 0.8400\n",
      "Epoch 7 - Accuracy: 0.8709, Validation Accuracy: 0.8261\n",
      "Epoch 8 - Accuracy: 0.8635, Validation Accuracy: 0.8486\n",
      "Epoch 9 - Accuracy: 0.8663, Validation Accuracy: 0.8413\n",
      "Epoch 10 - Accuracy: 0.8712, Validation Accuracy: 0.8437\n",
      "\n",
      "Hamming Loss: 0.0978510498687664\n"
     ]
    }
   ],
   "source": [
    "# Get accuracy and validation accuracy\n",
    "accuracy = history.history['accuracy']\n",
    "val_accuracy = history.history['val_accuracy']\n",
    "\n",
    "# Print the accuracy and validation accuracy for each epoch\n",
    "for epoch in range(len(accuracy)):\n",
    "    print(f\"Epoch {epoch + 1} - Accuracy: {accuracy[epoch]:.4f}, Validation Accuracy: {val_accuracy[epoch]:.4f}\")\n",
    "    \n",
    "# Print hamming loss\n",
    "print(\"\\nHamming Loss:\", hamming_loss_value)"
   ]
  },
  {
   "cell_type": "code",
   "execution_count": 20,
   "id": "beb9814b",
   "metadata": {},
   "outputs": [
    {
     "data": {
      "image/png": "[encoded data removed]",
      "text/plain": [
       "<Figure size 1000x400 with 2 Axes>"
      ]
     },
     "metadata": {},
     "output_type": "display_data"
    }
   ],
   "source": [
    "# Plot the training history\n",
    "plt.figure(figsize=(10, 4))\n",
    "\n",
    "# Accuracy/validation accuracy plot\n",
    "plt.subplot(1, 2, 1)\n",
    "plt.plot(history.history['accuracy'], label='Training Accuracy')\n",
    "plt.plot(history.history['val_accuracy'], label='Validation Accuracy')\n",
    "plt.xlabel('Epoch')\n",
    "plt.ylabel('Accuracy')\n",
    "plt.title('Accuracy during Training')\n",
    "plt.legend()\n",
    "\n",
    "# Loss/validation loss plot\n",
    "plt.subplot(1, 2, 2)\n",
    "plt.plot(history.history['loss'], label='Training Loss')\n",
    "plt.plot(history.history['val_loss'], label='Validation Loss')\n",
    "plt.xlabel('Epoch')\n",
    "plt.ylabel('Loss')\n",
    "plt.title('Loss during Training')\n",
    "plt.legend()\n",
    "\n",
    "plt.tight_layout()\n",
    "plt.show()"
   ]
  },
  {
   "cell_type": "markdown",
   "id": "bcabe28e",
   "metadata": {},
   "source": [
    "# Selected 7 Codes\n",
    "\n",
    "The subsequent section will utalise a smaller subset of the whole data. This subset only contains the set of selected 7 codes by Beyond Blood, these codes are (removed repeated codes):\n",
    "\n",
    "- A61      \n",
    "- G06\n",
    "- G16\n",
    "\n",
    "The following models will be tested to get the accuracy and hamming loss:\n",
    "\n",
    "- Logistic Regression\n",
    "- Random Forest Classifier\n",
    "- Support Vector Machine\n",
    "- Deep Nerual Networks"
   ]
  },
  {
   "cell_type": "code",
   "execution_count": 21,
   "id": "7052519c",
   "metadata": {},
   "outputs": [
    {
     "data": {
      "text/html": [
       "<div>\n",
       "<style scoped>\n",
       "    .dataframe tbody tr th:only-of-type {\n",
       "        vertical-align: middle;\n",
       "    }\n",
       "\n",
       "    .dataframe tbody tr th {\n",
       "        vertical-align: top;\n",
       "    }\n",
       "\n",
       "    .dataframe thead th {\n",
       "        text-align: right;\n",
       "    }\n",
       "</style>\n",
       "<table border=\"1\" class=\"dataframe\">\n",
       "  <thead>\n",
       "    <tr style=\"text-align: right;\">\n",
       "      <th></th>\n",
       "      <th>Context</th>\n",
       "      <th>Classification Codes</th>\n",
       "    </tr>\n",
       "  </thead>\n",
       "  <tbody>\n",
       "    <tr>\n",
       "      <th>0</th>\n",
       "      <td>processor compil system receiv predict model r...</td>\n",
       "      <td>[G06]</td>\n",
       "    </tr>\n",
       "    <tr>\n",
       "      <th>1</th>\n",
       "      <td>antigen specif immunotherapi covid19 fusion pr...</td>\n",
       "      <td>[A61]</td>\n",
       "    </tr>\n",
       "    <tr>\n",
       "      <th>2</th>\n",
       "      <td>secur deescal data access concept technolog di...</td>\n",
       "      <td>[G06]</td>\n",
       "    </tr>\n",
       "    <tr>\n",
       "      <th>3</th>\n",
       "      <td>system method secur cloudbas physiolog data pr...</td>\n",
       "      <td>[A61, G16, G06]</td>\n",
       "    </tr>\n",
       "    <tr>\n",
       "      <th>4</th>\n",
       "      <td>collim detector base medic imag system medic i...</td>\n",
       "      <td>[A61]</td>\n",
       "    </tr>\n",
       "  </tbody>\n",
       "</table>\n",
       "</div>"
      ],
      "text/plain": [
       "                                             Context Classification Codes\n",
       "0  processor compil system receiv predict model r...                [G06]\n",
       "1  antigen specif immunotherapi covid19 fusion pr...                [A61]\n",
       "2  secur deescal data access concept technolog di...                [G06]\n",
       "3  system method secur cloudbas physiolog data pr...      [A61, G16, G06]\n",
       "4  collim detector base medic imag system medic i...                [A61]"
      ]
     },
     "execution_count": 21,
     "metadata": {},
     "output_type": "execute_result"
    }
   ],
   "source": [
    "# Load the data for selected 7 codes by Beyond Blood\n",
    "df = pd.read_csv('Data_Preprocessed_Class_Selected7.csv')\n",
    "df['Classification Codes'] = df['Classification Codes'].apply(ast.literal_eval)\n",
    "df.head()"
   ]
  },
  {
   "cell_type": "code",
   "execution_count": 22,
   "id": "308a08e2",
   "metadata": {},
   "outputs": [],
   "source": [
    "# Encode the \"Classification Codes\" column as multi-labels\n",
    "mlb = MultiLabelBinarizer()\n",
    "y = mlb.fit_transform(df['Classification Codes'])\n",
    "\n",
    "# Split the data into training and testing sets\n",
    "X_train, X_test, y_train, y_test = train_test_split(df['Context'], y, test_size=0.2, random_state=42)"
   ]
  },
  {
   "cell_type": "code",
   "execution_count": 23,
   "id": "a8536e42",
   "metadata": {},
   "outputs": [],
   "source": [
    "# Apply feature extraction using TfidfVectorizer\n",
    "vectorizer = TfidfVectorizer()\n",
    "X_train_vectorized = vectorizer.fit_transform(X_train)\n",
    "X_test_vectorized = vectorizer.transform(X_test)"
   ]
  },
  {
   "cell_type": "markdown",
   "id": "da32c448",
   "metadata": {},
   "source": [
    "## Logistic Regression "
   ]
  },
  {
   "cell_type": "code",
   "execution_count": 24,
   "id": "cdd60c5b",
   "metadata": {},
   "outputs": [
    {
     "name": "stdout",
     "output_type": "stream",
     "text": [
      "Accuracy: 0.7092065868263473\n",
      "Hamming Loss: 0.12437624750499002\n"
     ]
    }
   ],
   "source": [
    "logistic_regression = LogisticRegression()\n",
    "\n",
    "# Use MultiOutputClassifier for multi-label classification\n",
    "multi_label_classifier = MultiOutputClassifier(logistic_regression)\n",
    "\n",
    "# Train the model\n",
    "multi_label_classifier.fit(X_train_vectorized, y_train)\n",
    "\n",
    "# Make predictions\n",
    "y_pred = multi_label_classifier.predict(X_test_vectorized)\n",
    "\n",
    "# Evaluate the model\n",
    "accuracy = accuracy_score(y_test, y_pred)\n",
    "hamming_loss_value = hamming_loss(y_test, y_pred)\n",
    "\n",
    "print(\"Accuracy:\", accuracy)\n",
    "print(\"Hamming Loss:\", hamming_loss_value)"
   ]
  },
  {
   "cell_type": "markdown",
   "id": "4b919cf5",
   "metadata": {},
   "source": [
    "## Random Forest "
   ]
  },
  {
   "cell_type": "code",
   "execution_count": 25,
   "id": "ab46b98a",
   "metadata": {},
   "outputs": [
    {
     "name": "stdout",
     "output_type": "stream",
     "text": [
      "Accuracy: 0.7559880239520959\n",
      "Hamming Loss: 0.11202594810379242\n"
     ]
    }
   ],
   "source": [
    "classifier = RandomForestClassifier()\n",
    "\n",
    "# Use MultiOutputClassifier for multi-label classification\n",
    "multi_label_classifier = MultiOutputClassifier(classifier)\n",
    "\n",
    "# Train the model\n",
    "multi_label_classifier.fit(X_train_vectorized, y_train)\n",
    "\n",
    "# Make predictions\n",
    "y_pred = multi_label_classifier.predict(X_test_vectorized)\n",
    "\n",
    "# Evaluate the model\n",
    "accuracy = accuracy_score(y_test, y_pred)\n",
    "hamming_loss_value = hamming_loss(y_test, y_pred)\n",
    "\n",
    "print(\"Accuracy:\", accuracy)\n",
    "print(\"Hamming Loss:\", hamming_loss_value)"
   ]
  },
  {
   "cell_type": "markdown",
   "id": "2ee88926",
   "metadata": {},
   "source": [
    "## Support Vector Machine  (One vs Rest)\n"
   ]
  },
  {
   "cell_type": "code",
   "execution_count": 26,
   "id": "c6c5bab4",
   "metadata": {},
   "outputs": [
    {
     "name": "stdout",
     "output_type": "stream",
     "text": [
      "Accuracy: 0.6833832335329342\n",
      "Hamming Loss: 0.1379740518962076\n"
     ]
    }
   ],
   "source": [
    "svm_classifier = SVC(kernel='linear')\n",
    "\n",
    "# Use MultiOutputClassifier for multi-label classification\n",
    "multi_label_classifier = MultiOutputClassifier(svm_classifier)\n",
    "\n",
    "# Train the model\n",
    "multi_label_classifier.fit(X_train_vectorized, y_train)\n",
    "\n",
    "# Make predictions\n",
    "y_pred = multi_label_classifier.predict(X_test_vectorized)\n",
    "\n",
    "# Evaluate the model\n",
    "accuracy = accuracy_score(y_test, y_pred)\n",
    "hamming_loss_value = hamming_loss(y_test, y_pred)\n",
    "\n",
    "print(\"Accuracy:\", accuracy)\n",
    "print(\"Hamming Loss:\", hamming_loss_value)"
   ]
  },
  {
   "cell_type": "markdown",
   "id": "b6229fc4",
   "metadata": {},
   "source": [
    "## Deep Neural Networks"
   ]
  },
  {
   "cell_type": "code",
   "execution_count": 27,
   "id": "cbe2f564",
   "metadata": {},
   "outputs": [
    {
     "name": "stdout",
     "output_type": "stream",
     "text": [
      "Epoch 1/10\n",
      "268/268 [==============================] - 11s 40ms/step - loss: 0.2854 - accuracy: 0.8664 - val_loss: 0.2546 - val_accuracy: 0.8676\n",
      "Epoch 2/10\n",
      "268/268 [==============================] - 7s 27ms/step - loss: 0.1408 - accuracy: 0.8997 - val_loss: 0.2846 - val_accuracy: 0.8760\n",
      "Epoch 3/10\n",
      "268/268 [==============================] - 7s 27ms/step - loss: 0.0717 - accuracy: 0.9018 - val_loss: 0.3567 - val_accuracy: 0.8755\n",
      "Epoch 4/10\n",
      "268/268 [==============================] - 7s 26ms/step - loss: 0.0343 - accuracy: 0.9063 - val_loss: 0.4490 - val_accuracy: 0.8807\n",
      "Epoch 5/10\n",
      "268/268 [==============================] - 8s 29ms/step - loss: 0.0183 - accuracy: 0.9082 - val_loss: 0.5195 - val_accuracy: 0.8601\n",
      "Epoch 6/10\n",
      "268/268 [==============================] - 6s 24ms/step - loss: 0.0102 - accuracy: 0.9112 - val_loss: 0.5906 - val_accuracy: 0.8559\n",
      "Epoch 7/10\n",
      "268/268 [==============================] - 8s 28ms/step - loss: 0.0101 - accuracy: 0.9113 - val_loss: 0.6622 - val_accuracy: 0.8676\n",
      "Epoch 8/10\n",
      "268/268 [==============================] - 7s 27ms/step - loss: 0.0057 - accuracy: 0.9080 - val_loss: 0.6811 - val_accuracy: 0.8629\n",
      "Epoch 9/10\n",
      "268/268 [==============================] - 9s 32ms/step - loss: 0.0050 - accuracy: 0.9121 - val_loss: 0.7388 - val_accuracy: 0.8666\n",
      "Epoch 10/10\n",
      "268/268 [==============================] - 7s 25ms/step - loss: 0.0060 - accuracy: 0.9089 - val_loss: 0.7643 - val_accuracy: 0.8620\n",
      "84/84 [==============================] - 1s 11ms/step\n"
     ]
    }
   ],
   "source": [
    "# Convert sparse matrices to dense NumPy arrays\n",
    "X_train_dense = X_train_vectorized.toarray()\n",
    "X_test_dense = X_test_vectorized.toarray()\n",
    "\n",
    "# Build the deep neural network model\n",
    "model = Sequential()\n",
    "model.add(Dense(64, activation='relu', input_shape=(X_train_dense.shape[1],)))\n",
    "model.add(Dense(32, activation='relu'))\n",
    "model.add(Dense(y.shape[1], activation='sigmoid'))  # Use sigmoid activation for multi-label classification\n",
    "\n",
    "# Compile the model\n",
    "model.compile(optimizer=Adam(learning_rate=0.001), loss='binary_crossentropy', metrics=['accuracy'])\n",
    "\n",
    "# Train the model\n",
    "history = model.fit(X_train_dense, y_train, batch_size=32, epochs=10, validation_split=0.2)\n",
    "\n",
    "# Make predictions\n",
    "y_pred_proba = model.predict(X_test_dense)\n",
    "y_pred = (y_pred_proba > 0.5).astype(int)\n",
    "\n",
    "# Evaluate the model\n",
    "hamming_loss_value = hamming_loss(y_test, y_pred)"
   ]
  },
  {
   "cell_type": "code",
   "execution_count": 28,
   "id": "3c2ed157",
   "metadata": {},
   "outputs": [
    {
     "name": "stdout",
     "output_type": "stream",
     "text": [
      "Epoch 1 - Accuracy: 0.8664, Validation Accuracy: 0.8676\n",
      "Epoch 2 - Accuracy: 0.8997, Validation Accuracy: 0.8760\n",
      "Epoch 3 - Accuracy: 0.9018, Validation Accuracy: 0.8755\n",
      "Epoch 4 - Accuracy: 0.9063, Validation Accuracy: 0.8807\n",
      "Epoch 5 - Accuracy: 0.9082, Validation Accuracy: 0.8601\n",
      "Epoch 6 - Accuracy: 0.9112, Validation Accuracy: 0.8559\n",
      "Epoch 7 - Accuracy: 0.9113, Validation Accuracy: 0.8676\n",
      "Epoch 8 - Accuracy: 0.9080, Validation Accuracy: 0.8629\n",
      "Epoch 9 - Accuracy: 0.9121, Validation Accuracy: 0.8666\n",
      "Epoch 10 - Accuracy: 0.9089, Validation Accuracy: 0.8620\n",
      "\n",
      "Hamming Loss: 0.10117265469061876\n"
     ]
    }
   ],
   "source": [
    "# Get accuracy and validation accuracy\n",
    "accuracy = history.history['accuracy']\n",
    "val_accuracy = history.history['val_accuracy']\n",
    "\n",
    "# Print the accuracy and validation accuracy for each epoch\n",
    "for epoch in range(len(accuracy)):\n",
    "    print(f\"Epoch {epoch + 1} - Accuracy: {accuracy[epoch]:.4f}, Validation Accuracy: {val_accuracy[epoch]:.4f}\")\n",
    "    \n",
    "# Print hamming loss\n",
    "print(\"\\nHamming Loss:\", hamming_loss_value)"
   ]
  },
  {
   "cell_type": "code",
   "execution_count": 29,
   "id": "c0634037",
   "metadata": {},
   "outputs": [
    {
     "data": {
      "image/png": "[encoded data removed]",
      "text/plain": [
       "<Figure size 1000x400 with 2 Axes>"
      ]
     },
     "metadata": {},
     "output_type": "display_data"
    }
   ],
   "source": [
    "# Plot the training history\n",
    "plt.figure(figsize=(10, 4))\n",
    "\n",
    "# Accuracy/validation accuracy plot\n",
    "plt.subplot(1, 2, 1)\n",
    "plt.plot(history.history['accuracy'], label='Training Accuracy')\n",
    "plt.plot(history.history['val_accuracy'], label='Validation Accuracy')\n",
    "plt.xlabel('Epoch')\n",
    "plt.ylabel('Accuracy')\n",
    "plt.title('Accuracy during Training')\n",
    "plt.legend()\n",
    "\n",
    "# Loss/validation loss plot\n",
    "plt.subplot(1, 2, 2)\n",
    "plt.plot(history.history['loss'], label='Training Loss')\n",
    "plt.plot(history.history['val_loss'], label='Validation Loss')\n",
    "plt.xlabel('Epoch')\n",
    "plt.ylabel('Loss')\n",
    "plt.title('Loss during Training')\n",
    "plt.legend()\n",
    "\n",
    "plt.tight_layout()\n",
    "plt.show()"
   ]
  },
  {
   "cell_type": "markdown",
   "id": "f74b1578",
   "metadata": {},
   "source": [
    "# Results\n",
    "This section presents all results from the model into a table format for ease of visualisation"
   ]
  },
  {
   "cell_type": "code",
   "execution_count": 30,
   "id": "e12af619",
   "metadata": {},
   "outputs": [],
   "source": [
    "def results_table(data):\n",
    "    table = PrettyTable()\n",
    "    \n",
    "    # Define column headers\n",
    "    table.field_names = [\"Model\", \"Accuracy\", \"Hamming Loss\"]\n",
    "    \n",
    "    # Add data\n",
    "    for row in data:\n",
    "        table.add_row(row)\n",
    "        \n",
    "    # Align data\n",
    "    table.align[\"Model\"] = \"l\"\n",
    "    table.align[\"Accuracy\"] = \"r\"\n",
    "    table.align[\"Hamming Loss\"] = \"r\"\n",
    "    table.float_format = \".4\"\n",
    "\n",
    "    print(table)"
   ]
  },
  {
   "cell_type": "code",
   "execution_count": 31,
   "id": "c1b42eb6",
   "metadata": {},
   "outputs": [
    {
     "name": "stdout",
     "output_type": "stream",
     "text": [
      "\t\t       \u001b[1mAll Data\u001b[0m\n",
      "+------------------------+----------+--------------+\n",
      "| Model                  | Accuracy | Hamming Loss |\n",
      "+------------------------+----------+--------------+\n",
      "| Logistic Regression    |   0.4547 |       0.0140 |\n",
      "| Random Forest          |   0.5142 |       0.0127 |\n",
      "| Support Vector Machine |   0.3939 |       0.0164 |\n",
      "| Deep Neural Networks   |   0.7644 |       0.0129 |\n",
      "+------------------------+----------+--------------+\n",
      "\n",
      "\n",
      "\t\t        \u001b[1mTop 18\u001b[0m\n",
      "+------------------------+----------+--------------+\n",
      "| Model                  | Accuracy | Hamming Loss |\n",
      "+------------------------+----------+--------------+\n",
      "| Logistic Regression    |   0.6414 |       0.1221 |\n",
      "| Random Forest          |   0.7001 |       0.1062 |\n",
      "| Support Vector Machine |   0.6122 |       0.1357 |\n",
      "| Deep Neural Networks   |   0.8589 |       0.0979 |\n",
      "+------------------------+----------+--------------+\n",
      "\n",
      "\n",
      "\t\t       \u001b[1mSelected 7\u001b[0m\n",
      "+------------------------+----------+--------------+\n",
      "| Model                  | Accuracy | Hamming Loss |\n",
      "+------------------------+----------+--------------+\n",
      "| Logistic Regression    |   0.7092 |       0.1244 |\n",
      "| Random Forest          |   0.7560 |       0.1120 |\n",
      "| Support Vector Machine |   0.6834 |       0.1380 |\n",
      "| Deep Neural Networks   |   0.8807 |       0.1012 |\n",
      "+------------------------+----------+--------------+\n"
     ]
    }
   ],
   "source": [
    "# Data for the table\n",
    "data_all = [\n",
    "    [\"Logistic Regression\", 0.4547, 0.0140],\n",
    "    [\"Random Forest\", 0.5142, 0.0127],\n",
    "    [\"Support Vector Machine\", 0.3939, 0.0164],\n",
    "    [\"Deep Neural Networks\", 0.7644, 0.0129]\n",
    "]\n",
    "\n",
    "data_top18 = [\n",
    "    [\"Logistic Regression\", 0.6414, 0.1221],\n",
    "    [\"Random Forest\", 0.7001, 0.1062],\n",
    "    [\"Support Vector Machine\", 0.6122, 0.1357],\n",
    "    [\"Deep Neural Networks\", 0.8589, 0.0979]\n",
    "]\n",
    "\n",
    "data_selected7 = [\n",
    "    [\"Logistic Regression\", 0.7092, 0.1244],\n",
    "    [\"Random Forest\", 0.7560, 0.1120],\n",
    "    [\"Support Vector Machine\", 0.6834, 0.1380],\n",
    "    [\"Deep Neural Networks\", 0.8807, 0.1012]\n",
    "]\n",
    "\n",
    "print(\"\\t\\t       \\033[1mAll Data\\033[0m\")\n",
    "results_table(data_all)\n",
    "\n",
    "print(\"\\n\\n\\t\\t        \\033[1mTop 18\\033[0m\")\n",
    "results_table(data_top18)\n",
    "\n",
    "print(\"\\n\\n\\t\\t       \\033[1mSelected 7\\033[0m\")\n",
    "results_table(data_selected7)"
   ]
  }
 ],
 "metadata": {
  "kernelspec": {
   "display_name": "Python 3 (ipykernel)",
   "language": "python",
   "name": "python3"
  },
  "language_info": {
   "codemirror_mode": {
    "name": "ipython",
    "version": 3
   },
   "file_extension": ".py",
   "mimetype": "text/x-python",
   "name": "python",
   "nbconvert_exporter": "python",
   "pygments_lexer": "ipython3",
   "version": "3.10.12"
  }
 },
 "nbformat": 4,
 "nbformat_minor": 5
}
