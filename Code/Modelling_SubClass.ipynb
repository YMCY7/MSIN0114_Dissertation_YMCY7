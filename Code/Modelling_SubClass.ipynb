{
 "cells": [
  {
   "cell_type": "markdown",
   "id": "6f9b29be",
   "metadata": {},
   "source": [
    "# This Notebook is Model Testing for SubClass instances of Classification Codes"
   ]
  },
  {
   "cell_type": "code",
   "execution_count": 1,
   "id": "0003f91e",
   "metadata": {},
   "outputs": [
    {
     "name": "stderr",
     "output_type": "stream",
     "text": [
      "2023-07-27 11:26:22.786312: I tensorflow/core/platform/cpu_feature_guard.cc:193] This TensorFlow binary is optimized with oneAPI Deep Neural Network Library (oneDNN) to use the following CPU instructions in performance-critical operations:  SSE4.1 SSE4.2\n",
      "To enable them in other operations, rebuild TensorFlow with the appropriate compiler flags.\n"
     ]
    }
   ],
   "source": [
    "# Import all necessary packages\n",
    "\n",
    "import ast\n",
    "import nltk\n",
    "import string\n",
    "import numpy as np\n",
    "import pandas as pd\n",
    "\n",
    "from nltk.corpus import stopwords\n",
    "from nltk.stem import PorterStemmer\n",
    "from nltk.tokenize import word_tokenize\n",
    "\n",
    "from sklearn.svm import SVC\n",
    "from sklearn.linear_model import LogisticRegression\n",
    "from sklearn.ensemble import RandomForestClassifier\n",
    "from sklearn.model_selection import train_test_split\n",
    "from sklearn.multioutput import MultiOutputClassifier\n",
    "from sklearn.metrics import accuracy_score, hamming_loss\n",
    "from sklearn.feature_extraction.text import TfidfVectorizer\n",
    "from sklearn.preprocessing import MultiLabelBinarizer, LabelEncoder\n",
    "\n",
    "from keras.models import Sequential\n",
    "from keras.layers import Dense\n",
    "from keras.optimizers import Adam\n",
    "from matplotlib import pyplot as plt\n",
    "\n",
    "from prettytable import PrettyTable"
   ]
  },
  {
   "cell_type": "markdown",
   "id": "cd0efa5b",
   "metadata": {},
   "source": [
    "# All Data\n",
    "\n",
    "The subsequent section will test the performance of the following models on the whole dataset:\n",
    "\n",
    "- Logistic Regression\n",
    "- Random Forest Classifier\n",
    "- Support Vector Machine\n",
    "- Deep Nerual Networks\n"
   ]
  },
  {
   "cell_type": "code",
   "execution_count": 3,
   "id": "fab9a352",
   "metadata": {},
   "outputs": [
    {
     "data": {
      "text/html": [
       "<div>\n",
       "<style scoped>\n",
       "    .dataframe tbody tr th:only-of-type {\n",
       "        vertical-align: middle;\n",
       "    }\n",
       "\n",
       "    .dataframe tbody tr th {\n",
       "        vertical-align: top;\n",
       "    }\n",
       "\n",
       "    .dataframe thead th {\n",
       "        text-align: right;\n",
       "    }\n",
       "</style>\n",
       "<table border=\"1\" class=\"dataframe\">\n",
       "  <thead>\n",
       "    <tr style=\"text-align: right;\">\n",
       "      <th></th>\n",
       "      <th>Context</th>\n",
       "      <th>Classification Codes</th>\n",
       "    </tr>\n",
       "  </thead>\n",
       "  <tbody>\n",
       "    <tr>\n",
       "      <th>0</th>\n",
       "      <td>processor compil system receiv predict model r...</td>\n",
       "      <td>[G06N]</td>\n",
       "    </tr>\n",
       "    <tr>\n",
       "      <th>1</th>\n",
       "      <td>imag sens devic imag sens devic includ substra...</td>\n",
       "      <td>[H01L]</td>\n",
       "    </tr>\n",
       "    <tr>\n",
       "      <th>2</th>\n",
       "      <td>antigen specif immunotherapi covid19 fusion pr...</td>\n",
       "      <td>[A61P, C07K, A61K, C12N]</td>\n",
       "    </tr>\n",
       "    <tr>\n",
       "      <th>3</th>\n",
       "      <td>secur deescal data access concept technolog di...</td>\n",
       "      <td>[G06F]</td>\n",
       "    </tr>\n",
       "    <tr>\n",
       "      <th>4</th>\n",
       "      <td>system method secur cloudbas physiolog data pr...</td>\n",
       "      <td>[A61B, G16Z, G16H, G06F]</td>\n",
       "    </tr>\n",
       "  </tbody>\n",
       "</table>\n",
       "</div>"
      ],
      "text/plain": [
       "                                             Context      Classification Codes\n",
       "0  processor compil system receiv predict model r...                    [G06N]\n",
       "1  imag sens devic imag sens devic includ substra...                    [H01L]\n",
       "2  antigen specif immunotherapi covid19 fusion pr...  [A61P, C07K, A61K, C12N]\n",
       "3  secur deescal data access concept technolog di...                    [G06F]\n",
       "4  system method secur cloudbas physiolog data pr...  [A61B, G16Z, G16H, G06F]"
      ]
     },
     "execution_count": 3,
     "metadata": {},
     "output_type": "execute_result"
    }
   ],
   "source": [
    "# Load the data\n",
    "df = pd.read_csv('Data_Preprocessed_SubClass.csv')\n",
    "df['Classification Codes'] = df['Classification Codes'].apply(ast.literal_eval)\n",
    "df.head()"
   ]
  },
  {
   "cell_type": "code",
   "execution_count": 4,
   "id": "0d7b2b90",
   "metadata": {},
   "outputs": [],
   "source": [
    "# As most multi-label classifiers requres each class to have multiple instances.\n",
    "# All codes which appear less than 5 times will be removed\n",
    "\n",
    "for i in range(10):\n",
    "\n",
    "    # Determine the codes to be removed\n",
    "    unique_codes = df['Classification Codes'].explode().value_counts()\n",
    "    codes_to_remove = unique_codes[unique_codes < 5 ].index.tolist()\n",
    "\n",
    "    # Remove rows with empty 'Classification Codes' column\n",
    "    df = df.dropna(subset=['Classification Codes'])\n",
    "\n",
    "    # Remove codes in the list codes_to_remove\n",
    "    df['CodeCount'] = df['Classification Codes'].apply(lambda codes: sum(code in codes_to_remove for code in codes))\n",
    "    df = df[df['CodeCount'] == 0].drop(columns=['CodeCount'])"
   ]
  },
  {
   "cell_type": "code",
   "execution_count": 5,
   "id": "94409c87",
   "metadata": {},
   "outputs": [
    {
     "name": "stdout",
     "output_type": "stream",
     "text": [
      "A61B    5937\n",
      "G06F    2503\n",
      "H04L    2011\n",
      "G16H    2003\n",
      "G06T    1885\n",
      "        ... \n",
      "G21F       5\n",
      "F16B       5\n",
      "A24F       5\n",
      "F16C       5\n",
      "F21W       5\n",
      "Name: Classification Codes, Length: 184, dtype: int64\n"
     ]
    }
   ],
   "source": [
    "# Now all codes will have a minimum of 5 instances\n",
    "print(unique_codes)"
   ]
  },
  {
   "cell_type": "code",
   "execution_count": 6,
   "id": "37709cb3",
   "metadata": {},
   "outputs": [],
   "source": [
    "# Encode \"Classification Codes\" column as multi-labels\n",
    "mlb = MultiLabelBinarizer()\n",
    "y = mlb.fit_transform(df['Classification Codes'])\n",
    "\n",
    "# Split the data into training(80%) and testing sets(20%)\n",
    "X_train, X_test, y_train, y_test = train_test_split(df['Context'], y, test_size=0.2, random_state=42)"
   ]
  },
  {
   "cell_type": "code",
   "execution_count": 7,
   "id": "451775bf",
   "metadata": {},
   "outputs": [],
   "source": [
    "# Apply feature extraction using TfidfVectorizer\n",
    "vectorizer = TfidfVectorizer()\n",
    "X_train_vectorized = vectorizer.fit_transform(X_train)\n",
    "X_test_vectorized = vectorizer.transform(X_test)"
   ]
  },
  {
   "cell_type": "markdown",
   "id": "fab897d1",
   "metadata": {},
   "source": [
    "## Logistic Regression "
   ]
  },
  {
   "cell_type": "code",
   "execution_count": 10,
   "id": "aec8debf",
   "metadata": {},
   "outputs": [
    {
     "name": "stdout",
     "output_type": "stream",
     "text": [
      "Accuracy: 0.20777957860615884\n",
      "Hamming Loss: 0.010178986681699668\n"
     ]
    }
   ],
   "source": [
    "logistic_regression = LogisticRegression()\n",
    "\n",
    "# Use MultiOutputClassifier for multi-label classification\n",
    "multi_label_classifier = MultiOutputClassifier(logistic_regression)\n",
    "\n",
    "# Train the model\n",
    "multi_label_classifier.fit(X_train_vectorized, y_train)\n",
    "\n",
    "# Make predictions\n",
    "y_pred = multi_label_classifier.predict(X_test_vectorized)\n",
    "\n",
    "# Evaluate the model\n",
    "accuracy = accuracy_score(y_test, y_pred)\n",
    "hamming_loss_value = hamming_loss(y_test, y_pred)\n",
    "\n",
    "print(\"Accuracy:\", accuracy)\n",
    "print(\"Hamming Loss:\", hamming_loss_value)"
   ]
  },
  {
   "cell_type": "markdown",
   "id": "92bd5546",
   "metadata": {},
   "source": [
    "## Random Forest Classifier \n"
   ]
  },
  {
   "cell_type": "code",
   "execution_count": 13,
   "id": "8eeb2c7f",
   "metadata": {},
   "outputs": [
    {
     "name": "stdout",
     "output_type": "stream",
     "text": [
      "Accuracy: 0.2119935170178282\n",
      "Hamming Loss: 0.00960291734197731\n"
     ]
    }
   ],
   "source": [
    "classifier = RandomForestClassifier()\n",
    "\n",
    "# Use MultiOutputClassifier for multi-label classification\n",
    "multi_label_classifier = MultiOutputClassifier(classifier)\n",
    "\n",
    "# Train the model\n",
    "multi_label_classifier.fit(X_train_vectorized, y_train)\n",
    "\n",
    "# Make predictions\n",
    "y_pred = multi_label_classifier.predict(X_test_vectorized)\n",
    "\n",
    "# Evaluate the model\n",
    "accuracy = accuracy_score(y_test, y_pred)\n",
    "hamming_loss_value = hamming_loss(y_test, y_pred)\n",
    "\n",
    "print(\"Accuracy:\", accuracy)\n",
    "print(\"Hamming Loss:\", hamming_loss_value)"
   ]
  },
  {
   "cell_type": "markdown",
   "id": "36763dd0",
   "metadata": {},
   "source": [
    "## Support Vector Machine  (One vs Rest)\n"
   ]
  },
  {
   "cell_type": "code",
   "execution_count": 8,
   "id": "8eb76bf0",
   "metadata": {},
   "outputs": [
    {
     "name": "stdout",
     "output_type": "stream",
     "text": [
      "Accuracy: 0.16499189627228525\n",
      "Hamming Loss: 0.01193185821999859\n"
     ]
    }
   ],
   "source": [
    "svm_classifier = SVC(kernel='linear')\n",
    "\n",
    "# Use MultiOutputClassifier for multi-label classification\n",
    "multi_label_classifier = MultiOutputClassifier(svm_classifier)\n",
    "\n",
    "# Train the model\n",
    "multi_label_classifier.fit(X_train_vectorized, y_train)\n",
    "\n",
    "# Make predictions\n",
    "y_pred = multi_label_classifier.predict(X_test_vectorized)\n",
    "\n",
    "# Evaluate the model\n",
    "accuracy = accuracy_score(y_test, y_pred)\n",
    "hamming_loss_value = hamming_loss(y_test, y_pred)\n",
    "\n",
    "print(\"Accuracy:\", accuracy)\n",
    "print(\"Hamming Loss:\", hamming_loss_value)"
   ]
  },
  {
   "cell_type": "markdown",
   "id": "872791d8",
   "metadata": {},
   "source": [
    "## Deep Neural Networks "
   ]
  },
  {
   "cell_type": "code",
   "execution_count": 9,
   "id": "d51bf718",
   "metadata": {},
   "outputs": [
    {
     "name": "stdout",
     "output_type": "stream",
     "text": [
      "Epoch 1/10\n"
     ]
    },
    {
     "name": "stderr",
     "output_type": "stream",
     "text": [
      "2023-07-27 11:56:41.355522: I tensorflow/core/platform/cpu_feature_guard.cc:193] This TensorFlow binary is optimized with oneAPI Deep Neural Network Library (oneDNN) to use the following CPU instructions in performance-critical operations:  SSE4.1 SSE4.2\n",
      "To enable them in other operations, rebuild TensorFlow with the appropriate compiler flags.\n"
     ]
    },
    {
     "name": "stdout",
     "output_type": "stream",
     "text": [
      "309/309 [==============================] - 9s 26ms/step - loss: 0.0867 - accuracy: 0.4549 - val_loss: 0.0353 - val_accuracy: 0.5065\n",
      "Epoch 2/10\n",
      "309/309 [==============================] - 7s 22ms/step - loss: 0.0279 - accuracy: 0.5858 - val_loss: 0.0318 - val_accuracy: 0.5446\n",
      "Epoch 3/10\n",
      "309/309 [==============================] - 7s 23ms/step - loss: 0.0203 - accuracy: 0.6052 - val_loss: 0.0314 - val_accuracy: 0.5579\n",
      "Epoch 4/10\n",
      "309/309 [==============================] - 7s 22ms/step - loss: 0.0155 - accuracy: 0.6171 - val_loss: 0.0327 - val_accuracy: 0.5588\n",
      "Epoch 5/10\n",
      "309/309 [==============================] - 7s 22ms/step - loss: 0.0122 - accuracy: 0.6235 - val_loss: 0.0352 - val_accuracy: 0.5239\n",
      "Epoch 6/10\n",
      "309/309 [==============================] - 8s 24ms/step - loss: 0.0097 - accuracy: 0.6204 - val_loss: 0.0378 - val_accuracy: 0.5280\n",
      "Epoch 7/10\n",
      "309/309 [==============================] - 7s 23ms/step - loss: 0.0079 - accuracy: 0.6263 - val_loss: 0.0412 - val_accuracy: 0.5166\n",
      "Epoch 8/10\n",
      "309/309 [==============================] - 8s 25ms/step - loss: 0.0066 - accuracy: 0.6227 - val_loss: 0.0448 - val_accuracy: 0.5365\n",
      "Epoch 9/10\n",
      "309/309 [==============================] - 7s 23ms/step - loss: 0.0055 - accuracy: 0.6304 - val_loss: 0.0484 - val_accuracy: 0.5130\n",
      "Epoch 10/10\n",
      "309/309 [==============================] - 8s 26ms/step - loss: 0.0047 - accuracy: 0.6215 - val_loss: 0.0536 - val_accuracy: 0.5097\n",
      "97/97 [==============================] - 1s 11ms/step\n"
     ]
    }
   ],
   "source": [
    "# Convert sparse matrices to dense NumPy arrays\n",
    "X_train_dense = X_train_vectorized.toarray()\n",
    "X_test_dense = X_test_vectorized.toarray()\n",
    "\n",
    "# Build basic deep neural network model\n",
    "model = Sequential()\n",
    "model.add(Dense(64, activation='relu', input_shape=(X_train_dense.shape[1],)))\n",
    "model.add(Dense(32, activation='relu'))\n",
    "model.add(Dense(y.shape[1], activation='sigmoid'))  # Use sigmoid activation for multi-label classification\n",
    "\n",
    "# Compile the model\n",
    "model.compile(optimizer=Adam(learning_rate=0.001), loss='binary_crossentropy', metrics=['accuracy'])\n",
    "\n",
    "# Train the model\n",
    "history = model.fit(X_train_dense, y_train, batch_size=32, epochs=10, validation_split=0.2)\n",
    "\n",
    "# Make predictions\n",
    "y_pred_proba = model.predict(X_test_dense)\n",
    "y_pred = (y_pred_proba > 0.5).astype(int)\n",
    "\n",
    "# Evaluate the model\n",
    "hamming_loss_value = hamming_loss(y_test, y_pred)"
   ]
  },
  {
   "cell_type": "code",
   "execution_count": 10,
   "id": "cc4935f0",
   "metadata": {},
   "outputs": [
    {
     "name": "stdout",
     "output_type": "stream",
     "text": [
      "Epoch 1 - Accuracy: 0.4549, Validation Accuracy: 0.5065\n",
      "Epoch 2 - Accuracy: 0.5858, Validation Accuracy: 0.5446\n",
      "Epoch 3 - Accuracy: 0.6052, Validation Accuracy: 0.5579\n",
      "Epoch 4 - Accuracy: 0.6171, Validation Accuracy: 0.5588\n",
      "Epoch 5 - Accuracy: 0.6235, Validation Accuracy: 0.5239\n",
      "Epoch 6 - Accuracy: 0.6204, Validation Accuracy: 0.5280\n",
      "Epoch 7 - Accuracy: 0.6263, Validation Accuracy: 0.5166\n",
      "Epoch 8 - Accuracy: 0.6227, Validation Accuracy: 0.5365\n",
      "Epoch 9 - Accuracy: 0.6304, Validation Accuracy: 0.5130\n",
      "Epoch 10 - Accuracy: 0.6215, Validation Accuracy: 0.5097\n",
      "\n",
      "Hamming Loss: 0.008989852723557184\n"
     ]
    }
   ],
   "source": [
    "# Get accuracy and validation accuracy\n",
    "accuracy = history.history['accuracy']\n",
    "val_accuracy = history.history['val_accuracy']\n",
    "\n",
    "# Print the accuracy and validation accuracy for each epoch\n",
    "for epoch in range(len(accuracy)):\n",
    "    print(f\"Epoch {epoch + 1} - Accuracy: {accuracy[epoch]:.4f}, Validation Accuracy: {val_accuracy[epoch]:.4f}\")\n",
    "    \n",
    "# Print hamming loss\n",
    "print(\"\\nHamming Loss:\", hamming_loss_value)"
   ]
  },
  {
   "cell_type": "code",
   "execution_count": 11,
   "id": "ceca2c42",
   "metadata": {},
   "outputs": [
    {
     "data": {
      "image/png": "[encoded data removed]",
      "text/plain": [
       "<Figure size 1000x400 with 2 Axes>"
      ]
     },
     "metadata": {},
     "output_type": "display_data"
    }
   ],
   "source": [
    "# Plot the training history\n",
    "plt.figure(figsize=(10, 4))\n",
    "\n",
    "# Accuracy/validation accuracy plot\n",
    "plt.subplot(1, 2, 1)\n",
    "plt.plot(history.history['accuracy'], label='Training Accuracy')\n",
    "plt.plot(history.history['val_accuracy'], label='Validation Accuracy')\n",
    "plt.xlabel('Epoch')\n",
    "plt.ylabel('Accuracy')\n",
    "plt.title('Accuracy during Training')\n",
    "plt.legend()\n",
    "\n",
    "# Loss/validation loss plot\n",
    "plt.subplot(1, 2, 2)\n",
    "plt.plot(history.history['loss'], label='Training Loss')\n",
    "plt.plot(history.history['val_loss'], label='Validation Loss')\n",
    "plt.xlabel('Epoch')\n",
    "plt.ylabel('Loss')\n",
    "plt.title('Loss during Training')\n",
    "plt.legend()\n",
    "\n",
    "plt.tight_layout()\n",
    "plt.show()"
   ]
  },
  {
   "cell_type": "markdown",
   "id": "414b266b",
   "metadata": {},
   "source": [
    "# Top 18 Codes\n",
    "\n",
    "The subsequent section will utalise a subset of the whole data. This subset only contains the set of top 18 codes by frequency these codes are (removed repeated codes):\n",
    "\n",
    "- A61B  \n",
    "- A61K \n",
    "- G06K \n",
    "- G06N \n",
    "- G06T \n",
    "- G16H    \n",
    "- H04L\n",
    "- H04W \n",
    "\n",
    "\n",
    "\n",
    "The following models will be tested to get the accuracy and hamming loss:\n",
    "\n",
    "- Logistic Regression\n",
    "- Random Forest Classifier\n",
    "- Support Vector Machine\n",
    "- Deep Nerual Networks"
   ]
  },
  {
   "cell_type": "code",
   "execution_count": 12,
   "id": "3a21639c",
   "metadata": {},
   "outputs": [
    {
     "data": {
      "text/html": [
       "<div>\n",
       "<style scoped>\n",
       "    .dataframe tbody tr th:only-of-type {\n",
       "        vertical-align: middle;\n",
       "    }\n",
       "\n",
       "    .dataframe tbody tr th {\n",
       "        vertical-align: top;\n",
       "    }\n",
       "\n",
       "    .dataframe thead th {\n",
       "        text-align: right;\n",
       "    }\n",
       "</style>\n",
       "<table border=\"1\" class=\"dataframe\">\n",
       "  <thead>\n",
       "    <tr style=\"text-align: right;\">\n",
       "      <th></th>\n",
       "      <th>Context</th>\n",
       "      <th>Classification Codes</th>\n",
       "    </tr>\n",
       "  </thead>\n",
       "  <tbody>\n",
       "    <tr>\n",
       "      <th>0</th>\n",
       "      <td>processor compil system receiv predict model r...</td>\n",
       "      <td>[G06N]</td>\n",
       "    </tr>\n",
       "    <tr>\n",
       "      <th>1</th>\n",
       "      <td>antigen specif immunotherapi covid19 fusion pr...</td>\n",
       "      <td>[A61K]</td>\n",
       "    </tr>\n",
       "    <tr>\n",
       "      <th>2</th>\n",
       "      <td>system method secur cloudbas physiolog data pr...</td>\n",
       "      <td>[A61B, G16H]</td>\n",
       "    </tr>\n",
       "    <tr>\n",
       "      <th>3</th>\n",
       "      <td>collim detector base medic imag system medic i...</td>\n",
       "      <td>[A61B]</td>\n",
       "    </tr>\n",
       "    <tr>\n",
       "      <th>4</th>\n",
       "      <td>method devic determin relat two entiti method ...</td>\n",
       "      <td>[G06N, G06K]</td>\n",
       "    </tr>\n",
       "  </tbody>\n",
       "</table>\n",
       "</div>"
      ],
      "text/plain": [
       "                                             Context Classification Codes\n",
       "0  processor compil system receiv predict model r...               [G06N]\n",
       "1  antigen specif immunotherapi covid19 fusion pr...               [A61K]\n",
       "2  system method secur cloudbas physiolog data pr...         [A61B, G16H]\n",
       "3  collim detector base medic imag system medic i...               [A61B]\n",
       "4  method devic determin relat two entiti method ...         [G06N, G06K]"
      ]
     },
     "execution_count": 12,
     "metadata": {},
     "output_type": "execute_result"
    }
   ],
   "source": [
    "# Load the data for top 18 codes\n",
    "df = pd.read_csv('Data_Preprocessed_SubClass_Top18.csv')\n",
    "df['Classification Codes'] = df['Classification Codes'].apply(ast.literal_eval)\n",
    "df.head()"
   ]
  },
  {
   "cell_type": "code",
   "execution_count": 13,
   "id": "059ce850",
   "metadata": {},
   "outputs": [],
   "source": [
    "# Encode the \"Classification Codes\" column as multi-labels\n",
    "mlb = MultiLabelBinarizer()\n",
    "y = mlb.fit_transform(df['Classification Codes'])\n",
    "\n",
    "# Split the data into training(80%) and testing sets(20%)\n",
    "X_train, X_test, y_train, y_test = train_test_split(df['Context'], y, test_size=0.2, random_state=42)"
   ]
  },
  {
   "cell_type": "code",
   "execution_count": 14,
   "id": "70a1db22",
   "metadata": {},
   "outputs": [],
   "source": [
    "# Apply feature extraction using TfidfVectorizer\n",
    "vectorizer = TfidfVectorizer()\n",
    "X_train_vectorized = vectorizer.fit_transform(X_train)\n",
    "X_test_vectorized = vectorizer.transform(X_test)"
   ]
  },
  {
   "cell_type": "markdown",
   "id": "3cf599f7",
   "metadata": {},
   "source": [
    "##  Logistic Regression"
   ]
  },
  {
   "cell_type": "code",
   "execution_count": 15,
   "id": "b466738f",
   "metadata": {},
   "outputs": [
    {
     "name": "stdout",
     "output_type": "stream",
     "text": [
      "Accuracy: 0.5483993902439024\n",
      "Hamming Loss: 0.09413109756097561\n"
     ]
    }
   ],
   "source": [
    "logistic_regression = LogisticRegression()\n",
    "\n",
    "# Use MultiOutputClassifier for multi-label classification\n",
    "multi_label_classifier = MultiOutputClassifier(logistic_regression)\n",
    "\n",
    "# Train the model\n",
    "multi_label_classifier.fit(X_train_vectorized, y_train)\n",
    "\n",
    "# Make predictions\n",
    "y_pred = multi_label_classifier.predict(X_test_vectorized)\n",
    "\n",
    "# Evaluate the model\n",
    "accuracy = accuracy_score(y_test, y_pred)\n",
    "hamming_loss_value = hamming_loss(y_test, y_pred)\n",
    "\n",
    "print(\"Accuracy:\", accuracy)\n",
    "print(\"Hamming Loss:\", hamming_loss_value)"
   ]
  },
  {
   "cell_type": "markdown",
   "id": "b68515ae",
   "metadata": {},
   "source": [
    "## Random Forest "
   ]
  },
  {
   "cell_type": "code",
   "execution_count": 16,
   "id": "60fd8f98",
   "metadata": {},
   "outputs": [
    {
     "name": "stdout",
     "output_type": "stream",
     "text": [
      "Accuracy: 0.5678353658536586\n",
      "Hamming Loss: 0.08665205792682927\n"
     ]
    }
   ],
   "source": [
    "classifier = RandomForestClassifier()\n",
    "\n",
    "# Use MultiOutputClassifier for multi-label classification\n",
    "multi_label_classifier = MultiOutputClassifier(classifier)\n",
    "\n",
    "# Train the model\n",
    "multi_label_classifier.fit(X_train_vectorized, y_train)\n",
    "\n",
    "# Make predictions\n",
    "y_pred = multi_label_classifier.predict(X_test_vectorized)\n",
    "\n",
    "# Evaluate the model\n",
    "accuracy = accuracy_score(y_test, y_pred)\n",
    "hamming_loss_value = hamming_loss(y_test, y_pred)\n",
    "\n",
    "print(\"Accuracy:\", accuracy)\n",
    "print(\"Hamming Loss:\", hamming_loss_value)"
   ]
  },
  {
   "cell_type": "markdown",
   "id": "dc0108ee",
   "metadata": {},
   "source": [
    "## Support Vector Machine  (One vs Rest)\n"
   ]
  },
  {
   "cell_type": "code",
   "execution_count": 17,
   "id": "a6023654",
   "metadata": {},
   "outputs": [
    {
     "name": "stdout",
     "output_type": "stream",
     "text": [
      "Accuracy: 0.5034298780487805\n",
      "Hamming Loss: 0.10613567073170732\n"
     ]
    }
   ],
   "source": [
    "svm_classifier = SVC(kernel='linear')\n",
    "\n",
    "# Use MultiOutputClassifier for multi-label classification\n",
    "multi_label_classifier = MultiOutputClassifier(svm_classifier)\n",
    "\n",
    "# Train the model\n",
    "multi_label_classifier.fit(X_train_vectorized, y_train)\n",
    "\n",
    "# Make predictions\n",
    "y_pred = multi_label_classifier.predict(X_test_vectorized)\n",
    "\n",
    "# Evaluate the model\n",
    "accuracy = accuracy_score(y_test, y_pred)\n",
    "hamming_loss_value = hamming_loss(y_test, y_pred)\n",
    "\n",
    "print(\"Accuracy:\", accuracy)\n",
    "print(\"Hamming Loss:\", hamming_loss_value)"
   ]
  },
  {
   "cell_type": "markdown",
   "id": "77e3b3c9",
   "metadata": {},
   "source": [
    "## Deep Neural Networks "
   ]
  },
  {
   "cell_type": "code",
   "execution_count": 18,
   "id": "3cd165a1",
   "metadata": {},
   "outputs": [
    {
     "name": "stdout",
     "output_type": "stream",
     "text": [
      "Epoch 1/10\n",
      "263/263 [==============================] - 7s 26ms/step - loss: 0.2319 - accuracy: 0.7019 - val_loss: 0.1925 - val_accuracy: 0.6824\n",
      "Epoch 2/10\n",
      "263/263 [==============================] - 8s 29ms/step - loss: 0.1168 - accuracy: 0.7701 - val_loss: 0.2056 - val_accuracy: 0.6957\n",
      "Epoch 3/10\n",
      "263/263 [==============================] - 8s 30ms/step - loss: 0.0672 - accuracy: 0.8071 - val_loss: 0.2355 - val_accuracy: 0.6933\n",
      "Epoch 4/10\n",
      "263/263 [==============================] - 9s 35ms/step - loss: 0.0389 - accuracy: 0.8112 - val_loss: 0.2799 - val_accuracy: 0.7033\n",
      "Epoch 5/10\n",
      "263/263 [==============================] - 6s 25ms/step - loss: 0.0218 - accuracy: 0.8231 - val_loss: 0.3210 - val_accuracy: 0.6990\n",
      "Epoch 6/10\n",
      "263/263 [==============================] - 7s 25ms/step - loss: 0.0141 - accuracy: 0.8241 - val_loss: 0.3709 - val_accuracy: 0.6862\n",
      "Epoch 7/10\n",
      "263/263 [==============================] - 6s 24ms/step - loss: 0.0090 - accuracy: 0.8288 - val_loss: 0.4042 - val_accuracy: 0.7019\n",
      "Epoch 8/10\n",
      "263/263 [==============================] - 7s 25ms/step - loss: 0.0058 - accuracy: 0.8253 - val_loss: 0.4342 - val_accuracy: 0.6986\n",
      "Epoch 9/10\n",
      "263/263 [==============================] - 6s 24ms/step - loss: 0.0043 - accuracy: 0.8378 - val_loss: 0.4614 - val_accuracy: 0.6995\n",
      "Epoch 10/10\n",
      "263/263 [==============================] - 6s 22ms/step - loss: 0.0044 - accuracy: 0.8304 - val_loss: 0.4959 - val_accuracy: 0.7052\n",
      "82/82 [==============================] - 1s 10ms/step\n"
     ]
    }
   ],
   "source": [
    "# Convert sparse matrices to dense NumPy arrays\n",
    "X_train_dense = X_train_vectorized.toarray()\n",
    "X_test_dense = X_test_vectorized.toarray()\n",
    "\n",
    "# Build deep neural network model\n",
    "model = Sequential()\n",
    "model.add(Dense(64, activation='relu', input_shape=(X_train_dense.shape[1],)))\n",
    "model.add(Dense(32, activation='relu'))\n",
    "model.add(Dense(y.shape[1], activation='sigmoid'))  # Use sigmoid activation for multi-label classification\n",
    "\n",
    "# Compile the model\n",
    "model.compile(optimizer=Adam(learning_rate=0.001), loss='binary_crossentropy', metrics=['accuracy'])\n",
    "\n",
    "# Train the model\n",
    "history = model.fit(X_train_dense, y_train, batch_size=32, epochs=10, validation_split=0.2)\n",
    "\n",
    "# Make predictions\n",
    "y_pred_proba = model.predict(X_test_dense)\n",
    "y_pred = (y_pred_proba > 0.5).astype(int)\n",
    "\n",
    "# Evaluate the model\n",
    "hamming_loss_value = hamming_loss(y_test, y_pred)"
   ]
  },
  {
   "cell_type": "code",
   "execution_count": 19,
   "id": "46bad7ea",
   "metadata": {},
   "outputs": [
    {
     "name": "stdout",
     "output_type": "stream",
     "text": [
      "Epoch 1 - Accuracy: 0.7019, Validation Accuracy: 0.6824\n",
      "Epoch 2 - Accuracy: 0.7701, Validation Accuracy: 0.6957\n",
      "Epoch 3 - Accuracy: 0.8071, Validation Accuracy: 0.6933\n",
      "Epoch 4 - Accuracy: 0.8112, Validation Accuracy: 0.7033\n",
      "Epoch 5 - Accuracy: 0.8231, Validation Accuracy: 0.6990\n",
      "Epoch 6 - Accuracy: 0.8241, Validation Accuracy: 0.6862\n",
      "Epoch 7 - Accuracy: 0.8288, Validation Accuracy: 0.7019\n",
      "Epoch 8 - Accuracy: 0.8253, Validation Accuracy: 0.6986\n",
      "Epoch 9 - Accuracy: 0.8378, Validation Accuracy: 0.6995\n",
      "Epoch 10 - Accuracy: 0.8304, Validation Accuracy: 0.7052\n",
      "\n",
      "Hamming Loss: 0.07760099085365854\n"
     ]
    }
   ],
   "source": [
    "# Get accuracy and validation accuracy\n",
    "accuracy = history.history['accuracy']\n",
    "val_accuracy = history.history['val_accuracy']\n",
    "\n",
    "# Print the accuracy and validation accuracy for each epoch\n",
    "for epoch in range(len(accuracy)):\n",
    "    print(f\"Epoch {epoch + 1} - Accuracy: {accuracy[epoch]:.4f}, Validation Accuracy: {val_accuracy[epoch]:.4f}\")\n",
    "    \n",
    "# Print hamming loss\n",
    "print(\"\\nHamming Loss:\", hamming_loss_value)"
   ]
  },
  {
   "cell_type": "code",
   "execution_count": 20,
   "id": "beb9814b",
   "metadata": {},
   "outputs": [
    {
     "data": {
      "image/png": "[encoded data removed]",
      "text/plain": [
       "<Figure size 1000x400 with 2 Axes>"
      ]
     },
     "metadata": {},
     "output_type": "display_data"
    }
   ],
   "source": [
    "# Plot the training history\n",
    "plt.figure(figsize=(10, 4))\n",
    "\n",
    "# Accuracy/validation accuracy plot\n",
    "plt.subplot(1, 2, 1)\n",
    "plt.plot(history.history['accuracy'], label='Training Accuracy')\n",
    "plt.plot(history.history['val_accuracy'], label='Validation Accuracy')\n",
    "plt.xlabel('Epoch')\n",
    "plt.ylabel('Accuracy')\n",
    "plt.title('Accuracy during Training')\n",
    "plt.legend()\n",
    "\n",
    "# Loss/validation loss plot\n",
    "plt.subplot(1, 2, 2)\n",
    "plt.plot(history.history['loss'], label='Training Loss')\n",
    "plt.plot(history.history['val_loss'], label='Validation Loss')\n",
    "plt.xlabel('Epoch')\n",
    "plt.ylabel('Loss')\n",
    "plt.title('Loss during Training')\n",
    "plt.legend()\n",
    "\n",
    "plt.tight_layout()\n",
    "plt.show()"
   ]
  },
  {
   "cell_type": "markdown",
   "id": "bcabe28e",
   "metadata": {},
   "source": [
    "# Selected 7 Codes\n",
    "\n",
    "The subsequent section will utalise a smaller subset of the whole data. This subset only contains the set of selected 7 codes by Beyond Blood, these codes are (removed repeated codes):\n",
    "\n",
    "- A61B    \n",
    "- G06K \n",
    "- G06N \n",
    "- G16H\n",
    "\n",
    "\n",
    "The following models will be tested to get the accuracy and hamming loss:\n",
    "\n",
    "- Logistic Regression\n",
    "- Random Forest Classifier\n",
    "- Support Vector Machine\n",
    "- Deep Nerual Networks"
   ]
  },
  {
   "cell_type": "code",
   "execution_count": 21,
   "id": "7052519c",
   "metadata": {},
   "outputs": [
    {
     "data": {
      "text/html": [
       "<div>\n",
       "<style scoped>\n",
       "    .dataframe tbody tr th:only-of-type {\n",
       "        vertical-align: middle;\n",
       "    }\n",
       "\n",
       "    .dataframe tbody tr th {\n",
       "        vertical-align: top;\n",
       "    }\n",
       "\n",
       "    .dataframe thead th {\n",
       "        text-align: right;\n",
       "    }\n",
       "</style>\n",
       "<table border=\"1\" class=\"dataframe\">\n",
       "  <thead>\n",
       "    <tr style=\"text-align: right;\">\n",
       "      <th></th>\n",
       "      <th>Context</th>\n",
       "      <th>Classification Codes</th>\n",
       "    </tr>\n",
       "  </thead>\n",
       "  <tbody>\n",
       "    <tr>\n",
       "      <th>0</th>\n",
       "      <td>processor compil system receiv predict model r...</td>\n",
       "      <td>[G06N]</td>\n",
       "    </tr>\n",
       "    <tr>\n",
       "      <th>1</th>\n",
       "      <td>system method secur cloudbas physiolog data pr...</td>\n",
       "      <td>[A61B, G16H]</td>\n",
       "    </tr>\n",
       "    <tr>\n",
       "      <th>2</th>\n",
       "      <td>collim detector base medic imag system medic i...</td>\n",
       "      <td>[A61B]</td>\n",
       "    </tr>\n",
       "    <tr>\n",
       "      <th>3</th>\n",
       "      <td>method devic determin relat two entiti method ...</td>\n",
       "      <td>[G06N, G06K]</td>\n",
       "    </tr>\n",
       "    <tr>\n",
       "      <th>4</th>\n",
       "      <td>system method teach composition convolut neura...</td>\n",
       "      <td>[G06K, G06N]</td>\n",
       "    </tr>\n",
       "  </tbody>\n",
       "</table>\n",
       "</div>"
      ],
      "text/plain": [
       "                                             Context Classification Codes\n",
       "0  processor compil system receiv predict model r...               [G06N]\n",
       "1  system method secur cloudbas physiolog data pr...         [A61B, G16H]\n",
       "2  collim detector base medic imag system medic i...               [A61B]\n",
       "3  method devic determin relat two entiti method ...         [G06N, G06K]\n",
       "4  system method teach composition convolut neura...         [G06K, G06N]"
      ]
     },
     "execution_count": 21,
     "metadata": {},
     "output_type": "execute_result"
    }
   ],
   "source": [
    "# Load the data for selected 7 codes by Beyond Blood\n",
    "df = pd.read_csv('Data_Preprocessed_SubClass_Selected7.csv')\n",
    "df['Classification Codes'] = df['Classification Codes'].apply(ast.literal_eval)\n",
    "df.head()"
   ]
  },
  {
   "cell_type": "code",
   "execution_count": 22,
   "id": "308a08e2",
   "metadata": {},
   "outputs": [],
   "source": [
    "# Encode the \"Classification Codes\" column as multi-labels\n",
    "mlb = MultiLabelBinarizer()\n",
    "y = mlb.fit_transform(df['Classification Codes'])\n",
    "\n",
    "# Split the data into training(80%) and testing sets(20%)\n",
    "X_train, X_test, y_train, y_test = train_test_split(df['Context'], y, test_size=0.2, random_state=42)"
   ]
  },
  {
   "cell_type": "code",
   "execution_count": 23,
   "id": "a8536e42",
   "metadata": {},
   "outputs": [],
   "source": [
    "# Apply feature extraction using TfidfVectorizer\n",
    "vectorizer = TfidfVectorizer()\n",
    "X_train_vectorized = vectorizer.fit_transform(X_train)\n",
    "X_test_vectorized = vectorizer.transform(X_test)"
   ]
  },
  {
   "cell_type": "markdown",
   "id": "da32c448",
   "metadata": {},
   "source": [
    "## Logistic Regression "
   ]
  },
  {
   "cell_type": "code",
   "execution_count": 24,
   "id": "cdd60c5b",
   "metadata": {},
   "outputs": [
    {
     "name": "stdout",
     "output_type": "stream",
     "text": [
      "Accuracy: 0.5994301994301995\n",
      "Hamming Loss: 0.14572649572649574\n"
     ]
    }
   ],
   "source": [
    "logistic_regression = LogisticRegression()\n",
    "\n",
    "# Use MultiOutputClassifier for multi-label classification\n",
    "multi_label_classifier = MultiOutputClassifier(logistic_regression)\n",
    "\n",
    "# Train the model\n",
    "multi_label_classifier.fit(X_train_vectorized, y_train)\n",
    "\n",
    "# Make predictions\n",
    "y_pred = multi_label_classifier.predict(X_test_vectorized)\n",
    "\n",
    "# Evaluate the model\n",
    "accuracy = accuracy_score(y_test, y_pred)\n",
    "hamming_loss_value = hamming_loss(y_test, y_pred)\n",
    "\n",
    "print(\"Accuracy:\", accuracy)\n",
    "print(\"Hamming Loss:\", hamming_loss_value)"
   ]
  },
  {
   "cell_type": "markdown",
   "id": "4b919cf5",
   "metadata": {},
   "source": [
    "## Random Forest "
   ]
  },
  {
   "cell_type": "code",
   "execution_count": 25,
   "id": "ab46b98a",
   "metadata": {},
   "outputs": [
    {
     "name": "stdout",
     "output_type": "stream",
     "text": [
      "Accuracy: 0.6330484330484331\n",
      "Hamming Loss: 0.13319088319088318\n"
     ]
    }
   ],
   "source": [
    "classifier = RandomForestClassifier()\n",
    "\n",
    "# Use MultiOutputClassifier for multi-label classification\n",
    "multi_label_classifier = MultiOutputClassifier(classifier)\n",
    "\n",
    "# Train the model\n",
    "multi_label_classifier.fit(X_train_vectorized, y_train)\n",
    "\n",
    "# Make predictions\n",
    "y_pred = multi_label_classifier.predict(X_test_vectorized)\n",
    "\n",
    "# Evaluate the model\n",
    "accuracy = accuracy_score(y_test, y_pred)\n",
    "hamming_loss_value = hamming_loss(y_test, y_pred)\n",
    "\n",
    "print(\"Accuracy:\", accuracy)\n",
    "print(\"Hamming Loss:\", hamming_loss_value)"
   ]
  },
  {
   "cell_type": "markdown",
   "id": "2ee88926",
   "metadata": {},
   "source": [
    "## Support Vector Machine  (One vs Rest)\n"
   ]
  },
  {
   "cell_type": "code",
   "execution_count": 26,
   "id": "c6c5bab4",
   "metadata": {},
   "outputs": [
    {
     "name": "stdout",
     "output_type": "stream",
     "text": [
      "Accuracy: 0.5663817663817664\n",
      "Hamming Loss: 0.1613960113960114\n"
     ]
    }
   ],
   "source": [
    "svm_classifier = SVC(kernel='linear')\n",
    "\n",
    "# Use MultiOutputClassifier for multi-label classification\n",
    "multi_label_classifier = MultiOutputClassifier(svm_classifier)\n",
    "\n",
    "# Train the model\n",
    "multi_label_classifier.fit(X_train_vectorized, y_train)\n",
    "\n",
    "# Make predictions\n",
    "y_pred = multi_label_classifier.predict(X_test_vectorized)\n",
    "\n",
    "# Evaluate the model\n",
    "accuracy = accuracy_score(y_test, y_pred)\n",
    "hamming_loss_value = hamming_loss(y_test, y_pred)\n",
    "\n",
    "print(\"Accuracy:\", accuracy)\n",
    "print(\"Hamming Loss:\", hamming_loss_value)"
   ]
  },
  {
   "cell_type": "markdown",
   "id": "b6229fc4",
   "metadata": {},
   "source": [
    "## Deep Neural Networks"
   ]
  },
  {
   "cell_type": "code",
   "execution_count": 27,
   "id": "cbe2f564",
   "metadata": {},
   "outputs": [
    {
     "name": "stdout",
     "output_type": "stream",
     "text": [
      "Epoch 1/10\n",
      "176/176 [==============================] - 2s 12ms/step - loss: 0.3188 - accuracy: 0.7739 - val_loss: 0.2861 - val_accuracy: 0.8013\n",
      "Epoch 2/10\n",
      "176/176 [==============================] - 2s 12ms/step - loss: 0.1612 - accuracy: 0.8551 - val_loss: 0.3173 - val_accuracy: 0.8041\n",
      "Epoch 3/10\n",
      "176/176 [==============================] - 2s 12ms/step - loss: 0.0849 - accuracy: 0.8833 - val_loss: 0.3656 - val_accuracy: 0.7927\n",
      "Epoch 4/10\n",
      "176/176 [==============================] - 2s 10ms/step - loss: 0.0420 - accuracy: 0.8861 - val_loss: 0.4780 - val_accuracy: 0.7977\n",
      "Epoch 5/10\n",
      "176/176 [==============================] - 2s 10ms/step - loss: 0.0191 - accuracy: 0.8890 - val_loss: 0.5500 - val_accuracy: 0.8027\n",
      "Epoch 6/10\n",
      "176/176 [==============================] - 2s 13ms/step - loss: 0.0118 - accuracy: 0.8901 - val_loss: 0.6023 - val_accuracy: 0.7942\n",
      "Epoch 7/10\n",
      "176/176 [==============================] - 2s 11ms/step - loss: 0.0053 - accuracy: 0.8913 - val_loss: 0.6650 - val_accuracy: 0.8063\n",
      "Epoch 8/10\n",
      "176/176 [==============================] - 2s 11ms/step - loss: 0.0023 - accuracy: 0.8872 - val_loss: 0.7235 - val_accuracy: 0.8041\n",
      "Epoch 9/10\n",
      "176/176 [==============================] - 2s 11ms/step - loss: 0.0012 - accuracy: 0.8918 - val_loss: 0.7669 - val_accuracy: 0.8020\n",
      "Epoch 10/10\n",
      "176/176 [==============================] - 2s 12ms/step - loss: 7.3397e-04 - accuracy: 0.8920 - val_loss: 0.7946 - val_accuracy: 0.8013\n",
      "55/55 [==============================] - 0s 5ms/step\n"
     ]
    }
   ],
   "source": [
    "# Convert sparse matrices to dense NumPy arrays\n",
    "X_train_dense = X_train_vectorized.toarray()\n",
    "X_test_dense = X_test_vectorized.toarray()\n",
    "\n",
    "# Build the deep neural network model\n",
    "model = Sequential()\n",
    "model.add(Dense(64, activation='relu', input_shape=(X_train_dense.shape[1],)))\n",
    "model.add(Dense(32, activation='relu'))\n",
    "model.add(Dense(y.shape[1], activation='sigmoid'))  # Use sigmoid activation for multi-label classification\n",
    "\n",
    "# Compile the model\n",
    "model.compile(optimizer=Adam(learning_rate=0.001), loss='binary_crossentropy', metrics=['accuracy'])\n",
    "\n",
    "# Train the model\n",
    "history = model.fit(X_train_dense, y_train, batch_size=32, epochs=10, validation_split=0.2)\n",
    "\n",
    "# Make predictions\n",
    "y_pred_proba = model.predict(X_test_dense)\n",
    "y_pred = (y_pred_proba > 0.5).astype(int)\n",
    "\n",
    "# Evaluate the model\n",
    "hamming_loss_value = hamming_loss(y_test, y_pred)"
   ]
  },
  {
   "cell_type": "code",
   "execution_count": 28,
   "id": "3c2ed157",
   "metadata": {},
   "outputs": [
    {
     "name": "stdout",
     "output_type": "stream",
     "text": [
      "Epoch 1 - Accuracy: 0.7739, Validation Accuracy: 0.8013\n",
      "Epoch 2 - Accuracy: 0.8551, Validation Accuracy: 0.8041\n",
      "Epoch 3 - Accuracy: 0.8833, Validation Accuracy: 0.7927\n",
      "Epoch 4 - Accuracy: 0.8861, Validation Accuracy: 0.7977\n",
      "Epoch 5 - Accuracy: 0.8890, Validation Accuracy: 0.8027\n",
      "Epoch 6 - Accuracy: 0.8901, Validation Accuracy: 0.7942\n",
      "Epoch 7 - Accuracy: 0.8913, Validation Accuracy: 0.8063\n",
      "Epoch 8 - Accuracy: 0.8872, Validation Accuracy: 0.8041\n",
      "Epoch 9 - Accuracy: 0.8918, Validation Accuracy: 0.8020\n",
      "Epoch 10 - Accuracy: 0.8920, Validation Accuracy: 0.8013\n",
      "\n",
      "Hamming Loss: 0.11866096866096866\n"
     ]
    }
   ],
   "source": [
    "# Get accuracy and validation accuracy\n",
    "accuracy = history.history['accuracy']\n",
    "val_accuracy = history.history['val_accuracy']\n",
    "\n",
    "# Print the accuracy and validation accuracy for each epoch\n",
    "for epoch in range(len(accuracy)):\n",
    "    print(f\"Epoch {epoch + 1} - Accuracy: {accuracy[epoch]:.4f}, Validation Accuracy: {val_accuracy[epoch]:.4f}\")\n",
    "    \n",
    "# Print hamming loss\n",
    "print(\"\\nHamming Loss:\", hamming_loss_value)"
   ]
  },
  {
   "cell_type": "code",
   "execution_count": 29,
   "id": "c0634037",
   "metadata": {},
   "outputs": [
    {
     "data": {
      "image/png": "[encoded data removed]",
      "text/plain": [
       "<Figure size 1000x400 with 2 Axes>"
      ]
     },
     "metadata": {},
     "output_type": "display_data"
    }
   ],
   "source": [
    "# Plot the training history\n",
    "plt.figure(figsize=(10, 4))\n",
    "\n",
    "# Accuracy/validation accuracy plot\n",
    "plt.subplot(1, 2, 1)\n",
    "plt.plot(history.history['accuracy'], label='Training Accuracy')\n",
    "plt.plot(history.history['val_accuracy'], label='Validation Accuracy')\n",
    "plt.xlabel('Epoch')\n",
    "plt.ylabel('Accuracy')\n",
    "plt.title('Accuracy during Training')\n",
    "plt.legend()\n",
    "\n",
    "# Loss/validation loss plot\n",
    "plt.subplot(1, 2, 2)\n",
    "plt.plot(history.history['loss'], label='Training Loss')\n",
    "plt.plot(history.history['val_loss'], label='Validation Loss')\n",
    "plt.xlabel('Epoch')\n",
    "plt.ylabel('Loss')\n",
    "plt.title('Loss during Training')\n",
    "plt.legend()\n",
    "\n",
    "plt.tight_layout()\n",
    "plt.show()"
   ]
  },
  {
   "cell_type": "markdown",
   "id": "83b6b84a",
   "metadata": {},
   "source": [
    "# Results\n",
    "This section presents all results from the model into a table format for ease of visualisation"
   ]
  },
  {
   "cell_type": "code",
   "execution_count": 30,
   "id": "fed981e0",
   "metadata": {},
   "outputs": [],
   "source": [
    "def results_table(data):\n",
    "    table = PrettyTable()\n",
    "    \n",
    "    # Define column headers\n",
    "    table.field_names = [\"Model\", \"Accuracy\", \"Hamming Loss\"]\n",
    "    \n",
    "    # Add data\n",
    "    for row in data:\n",
    "        table.add_row(row)\n",
    "        \n",
    "    # Align data\n",
    "    table.align[\"Model\"] = \"l\"\n",
    "    table.align[\"Accuracy\"] = \"r\"\n",
    "    table.align[\"Hamming Loss\"] = \"r\"\n",
    "    table.float_format = \".4\"\n",
    "\n",
    "    print(table)"
   ]
  },
  {
   "cell_type": "code",
   "execution_count": 31,
   "id": "05199c2b",
   "metadata": {},
   "outputs": [
    {
     "name": "stdout",
     "output_type": "stream",
     "text": [
      "\t\t       \u001b[1mAll Data\u001b[0m\n",
      "+------------------------+----------+--------------+\n",
      "| Model                  | Accuracy | Hamming Loss |\n",
      "+------------------------+----------+--------------+\n",
      "| Logistic Regression    |   0.2078 |       0.0102 |\n",
      "| Random Forest          |   0.2120 |       0.0096 |\n",
      "| Support Vector Machine |   0.1650 |       0.0119 |\n",
      "| Deep Neural Networks   |   0.5588 |       0.0090 |\n",
      "+------------------------+----------+--------------+\n",
      "\n",
      "\n",
      "\t\t        \u001b[1mTop 18\u001b[0m\n",
      "+------------------------+----------+--------------+\n",
      "| Model                  | Accuracy | Hamming Loss |\n",
      "+------------------------+----------+--------------+\n",
      "| Logistic Regression    |   0.3091 |       0.0741 |\n",
      "| Random Forest          |   0.2635 |       0.0732 |\n",
      "| Support Vector Machine |   0.2758 |       0.0839 |\n",
      "| Deep Neural Networks   |   0.6090 |       0.0645 |\n",
      "+------------------------+----------+--------------+\n",
      "\n",
      "\n",
      "\t\t       \u001b[1mSelected 7\u001b[0m\n",
      "+------------------------+----------+--------------+\n",
      "| Model                  | Accuracy | Hamming Loss |\n",
      "+------------------------+----------+--------------+\n",
      "| Logistic Regression    |   0.5994 |       0.1457 |\n",
      "| Random Forest          |   0.6330 |       0.1332 |\n",
      "| Support Vector Machine |   0.5664 |       0.1614 |\n",
      "| Deep Neural Networks   |   0.8063 |       0.1187 |\n",
      "+------------------------+----------+--------------+\n"
     ]
    }
   ],
   "source": [
    "# Data for the table\n",
    "data_all = [\n",
    "    [\"Logistic Regression\", 0.2078, 0.0102],\n",
    "    [\"Random Forest\", 0.2120, 0.0096],\n",
    "    [\"Support Vector Machine\", 0.1650, 0.0119],\n",
    "    [\"Deep Neural Networks\", 0.5588, 0.0090]\n",
    "]\n",
    "\n",
    "data_top18 = [\n",
    "    [\"Logistic Regression\", 0.3091, 0.0741],\n",
    "    [\"Random Forest\", 0.2635, 0.0732],\n",
    "    [\"Support Vector Machine\", 0.2758, 0.0839],\n",
    "    [\"Deep Neural Networks\", 0.6090, 0.0645]\n",
    "]\n",
    "\n",
    "data_selected7 = [\n",
    "    [\"Logistic Regression\", 0.5994, 0.1457],\n",
    "    [\"Random Forest\", 0.6330, 0.1332],\n",
    "    [\"Support Vector Machine\", 0.5664, 0.1614],\n",
    "    [\"Deep Neural Networks\", 0.8063, 0.1187]\n",
    "]\n",
    "\n",
    "print(\"\\t\\t       \\033[1mAll Data\\033[0m\")\n",
    "results_table(data_all)\n",
    "\n",
    "print(\"\\n\\n\\t\\t        \\033[1mTop 18\\033[0m\")\n",
    "results_table(data_top18)\n",
    "\n",
    "print(\"\\n\\n\\t\\t       \\033[1mSelected 7\\033[0m\")\n",
    "results_table(data_selected7)"
   ]
  }
 ],
 "metadata": {
  "kernelspec": {
   "display_name": "Python 3 (ipykernel)",
   "language": "python",
   "name": "python3"
  },
  "language_info": {
   "codemirror_mode": {
    "name": "ipython",
    "version": 3
   },
   "file_extension": ".py",
   "mimetype": "text/x-python",
   "name": "python",
   "nbconvert_exporter": "python",
   "pygments_lexer": "ipython3",
   "version": "3.10.12"
  }
 },
 "nbformat": 4,
 "nbformat_minor": 5
}
