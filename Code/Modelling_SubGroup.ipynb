{
 "cells": [
  {
   "cell_type": "markdown",
   "id": "c05d8dd0",
   "metadata": {},
   "source": [
    "# This Notebook is Model Testing for SubGroup instances of Classification Codes"
   ]
  },
  {
   "cell_type": "code",
   "execution_count": 253,
   "id": "96c4fb7e",
   "metadata": {},
   "outputs": [],
   "source": [
    "# Import all necessary packages\n",
    "\n",
    "import ast\n",
    "import nltk\n",
    "import string\n",
    "import numpy as np\n",
    "import pandas as pd\n",
    "\n",
    "from nltk.corpus import stopwords\n",
    "from nltk.stem import PorterStemmer\n",
    "from nltk.tokenize import word_tokenize\n",
    "\n",
    "from sklearn.svm import SVC\n",
    "from sklearn.linear_model import LogisticRegression\n",
    "from sklearn.ensemble import RandomForestClassifier\n",
    "from sklearn.model_selection import train_test_split\n",
    "from sklearn.multioutput import MultiOutputClassifier\n",
    "from sklearn.metrics import accuracy_score, hamming_loss\n",
    "from sklearn.feature_extraction.text import TfidfVectorizer\n",
    "from sklearn.preprocessing import MultiLabelBinarizer, LabelEncoder\n",
    "\n",
    "from keras.models import Sequential\n",
    "from keras.layers import Dense\n",
    "from keras.optimizers import Adam\n",
    "from matplotlib import pyplot as plt\n",
    "\n",
    "from prettytable import PrettyTable"
   ]
  },
  {
   "cell_type": "markdown",
   "id": "f46de02c",
   "metadata": {},
   "source": [
    "# All Data\n",
    "\n",
    "The subsequent section will test the performance of the following models on the whole dataset:\n",
    "\n",
    "- Logistic Regression\n",
    "- Random Forest Classifier\n",
    "- Support Vector Machine\n",
    "- Deep Nerual Networks\n"
   ]
  },
  {
   "cell_type": "code",
   "execution_count": 237,
   "id": "dc31c7de",
   "metadata": {},
   "outputs": [
    {
     "data": {
      "text/html": [
       "<div>\n",
       "<style scoped>\n",
       "    .dataframe tbody tr th:only-of-type {\n",
       "        vertical-align: middle;\n",
       "    }\n",
       "\n",
       "    .dataframe tbody tr th {\n",
       "        vertical-align: top;\n",
       "    }\n",
       "\n",
       "    .dataframe thead th {\n",
       "        text-align: right;\n",
       "    }\n",
       "</style>\n",
       "<table border=\"1\" class=\"dataframe\">\n",
       "  <thead>\n",
       "    <tr style=\"text-align: right;\">\n",
       "      <th></th>\n",
       "      <th>Context</th>\n",
       "      <th>Classification Codes</th>\n",
       "    </tr>\n",
       "  </thead>\n",
       "  <tbody>\n",
       "    <tr>\n",
       "      <th>0</th>\n",
       "      <td>processor compil system receiv predict model r...</td>\n",
       "      <td>[G06N5/02, G06N20/00]</td>\n",
       "    </tr>\n",
       "    <tr>\n",
       "      <th>1</th>\n",
       "      <td>imag sens devic imag sens devic includ substra...</td>\n",
       "      <td>[H01L27/146]</td>\n",
       "    </tr>\n",
       "    <tr>\n",
       "      <th>2</th>\n",
       "      <td>antigen specif immunotherapi covid19 fusion pr...</td>\n",
       "      <td>[A61K39/215, A61K38/00, A61K39/00, A61P31/14, ...</td>\n",
       "    </tr>\n",
       "    <tr>\n",
       "      <th>3</th>\n",
       "      <td>secur deescal data access concept technolog di...</td>\n",
       "      <td>[G06F21/62]</td>\n",
       "    </tr>\n",
       "    <tr>\n",
       "      <th>4</th>\n",
       "      <td>system method secur cloudbas physiolog data pr...</td>\n",
       "      <td>[A61B90/90, A61B5/00, A61B5/25, A61B5/259, A61...</td>\n",
       "    </tr>\n",
       "  </tbody>\n",
       "</table>\n",
       "</div>"
      ],
      "text/plain": [
       "                                             Context  \\\n",
       "0  processor compil system receiv predict model r...   \n",
       "1  imag sens devic imag sens devic includ substra...   \n",
       "2  antigen specif immunotherapi covid19 fusion pr...   \n",
       "3  secur deescal data access concept technolog di...   \n",
       "4  system method secur cloudbas physiolog data pr...   \n",
       "\n",
       "                                Classification Codes  \n",
       "0                              [G06N5/02, G06N20/00]  \n",
       "1                                       [H01L27/146]  \n",
       "2  [A61K39/215, A61K38/00, A61K39/00, A61P31/14, ...  \n",
       "3                                        [G06F21/62]  \n",
       "4  [A61B90/90, A61B5/00, A61B5/25, A61B5/259, A61...  "
      ]
     },
     "execution_count": 237,
     "metadata": {},
     "output_type": "execute_result"
    }
   ],
   "source": [
    "# Load the data\n",
    "df = pd.read_csv('Data_Preprocessed_SubGroup.csv')\n",
    "df['Classification Codes'] = df['Classification Codes'].apply(ast.literal_eval)\n",
    "df.head()"
   ]
  },
  {
   "cell_type": "code",
   "execution_count": 238,
   "id": "24f6697f",
   "metadata": {},
   "outputs": [],
   "source": [
    "# As most multi-label classifiers requres each class to have multiple instances.\n",
    "# All codes which appear less than 5 times will be removed\n",
    "\n",
    "for i in range(10):\n",
    "\n",
    "    # Determine the codes to be removed\n",
    "    unique_codes = df['Classification Codes'].explode().value_counts()\n",
    "    codes_to_remove = unique_codes[unique_codes < 5 ].index.tolist()\n",
    "\n",
    "    # Remove rows with empty 'Classification Codes' column\n",
    "    df = df.dropna(subset=['Classification Codes'])\n",
    "\n",
    "    # Remove codes in the list codes_to_remove\n",
    "    df['CodeCount'] = df['Classification Codes'].apply(lambda codes: sum(code in codes_to_remove for code in codes))\n",
    "    df = df[df['CodeCount'] == 0].drop(columns=['CodeCount'])"
   ]
  },
  {
   "cell_type": "code",
   "execution_count": 240,
   "id": "391d76f1",
   "metadata": {},
   "outputs": [
    {
     "name": "stdout",
     "output_type": "stream",
     "text": [
      "A61B5/00      1507\n",
      "A61B17/00     1039\n",
      "G06T7/00       770\n",
      "A61B90/00      695\n",
      "H04W72/04      586\n",
      "              ... \n",
      "A61F2/88         5\n",
      "A61K39/145       5\n",
      "G08B23/00        5\n",
      "A61B3/12         5\n",
      "G06F40/56        5\n",
      "Name: Classification Codes, Length: 1091, dtype: int64\n"
     ]
    }
   ],
   "source": [
    "# Now all codes will have a minimum of 5 instances\n",
    "print(unique_codes)"
   ]
  },
  {
   "cell_type": "code",
   "execution_count": 241,
   "id": "b4fe9454",
   "metadata": {},
   "outputs": [
    {
     "name": "stdout",
     "output_type": "stream",
     "text": [
      "Unique Classes: ['A01N1/02' 'A41C3/04' 'A45D26/00' ... 'H05B47/105' 'H05B47/11'\n",
      " 'H05B47/175']\n",
      "X_train shape: (10594, 52400)\n",
      "y_train shape: (7132, 1091)\n"
     ]
    }
   ],
   "source": [
    "# Encode \"Classification Codes\" column as multi-labels\n",
    "mlb = MultiLabelBinarizer()\n",
    "y = mlb.fit_transform(df['Classification Codes'])\n",
    "\n",
    "# Split the data into training(80%) and testing sets(20%)\n",
    "X_train, X_test, y_train, y_test = train_test_split(df['Context'], y, test_size=0.2, random_state=42)"
   ]
  },
  {
   "cell_type": "code",
   "execution_count": 242,
   "id": "2a98ddc1",
   "metadata": {},
   "outputs": [],
   "source": [
    "# Apply feature extraction using TfidfVectorizer\n",
    "vectorizer = TfidfVectorizer()\n",
    "X_train_vectorized = vectorizer.fit_transform(X_train)\n",
    "X_test_vectorized = vectorizer.transform(X_test)"
   ]
  },
  {
   "cell_type": "markdown",
   "id": "ed20eb14",
   "metadata": {},
   "source": [
    "## Logistic Regression "
   ]
  },
  {
   "cell_type": "code",
   "execution_count": 243,
   "id": "5685ac88",
   "metadata": {},
   "outputs": [
    {
     "name": "stdout",
     "output_type": "stream",
     "text": [
      "Accuracy: 0.026345291479820628\n",
      "Hamming Loss: 0.005006309264960356\n"
     ]
    }
   ],
   "source": [
    "logistic_regression = LogisticRegression()\n",
    "\n",
    "# Use MultiOutputClassifier for multi-label classification\n",
    "multi_label_classifier = MultiOutputClassifier(logistic_regression)\n",
    "\n",
    "# Train the model\n",
    "multi_label_classifier.fit(X_train_vectorized, y_train)\n",
    "\n",
    "# Make predictions\n",
    "y_pred = multi_label_classifier.predict(X_test_vectorized)\n",
    "\n",
    "# Evaluate the model\n",
    "accuracy = accuracy_score(y_test, y_pred)\n",
    "hamming_loss_value = hamming_loss(y_test, y_pred)\n",
    "\n",
    "print(\"Accuracy:\", accuracy)\n",
    "print(\"Hamming Loss:\", hamming_loss_value)"
   ]
  },
  {
   "cell_type": "markdown",
   "id": "d95b515c",
   "metadata": {},
   "source": [
    "## Random Forest Classifier \n"
   ]
  },
  {
   "cell_type": "code",
   "execution_count": 244,
   "id": "5324fbe8",
   "metadata": {},
   "outputs": [
    {
     "name": "stdout",
     "output_type": "stream",
     "text": [
      "Accuracy: 0.013452914798206279\n",
      "Hamming Loss: 0.004296260065024477\n"
     ]
    }
   ],
   "source": [
    "classifier = RandomForestClassifier()\n",
    "\n",
    "# Use MultiOutputClassifier for multi-label classification\n",
    "multi_label_classifier = MultiOutputClassifier(classifier)\n",
    "\n",
    "# Train the model\n",
    "multi_label_classifier.fit(X_train_vectorized, y_train)\n",
    "\n",
    "# Make predictions\n",
    "y_pred = multi_label_classifier.predict(X_test_vectorized)\n",
    "\n",
    "# Evaluate the model\n",
    "accuracy = accuracy_score(y_test, y_pred)\n",
    "hamming_loss_value = hamming_loss(y_test, y_pred)\n",
    "\n",
    "print(\"Accuracy:\", accuracy)\n",
    "print(\"Hamming Loss:\", hamming_loss_value)"
   ]
  },
  {
   "cell_type": "markdown",
   "id": "2943aba7",
   "metadata": {},
   "source": [
    "## Support Vector Machine  (One vs Rest)\n"
   ]
  },
  {
   "cell_type": "code",
   "execution_count": 245,
   "id": "a5b236a3",
   "metadata": {},
   "outputs": [
    {
     "name": "stdout",
     "output_type": "stream",
     "text": [
      "Accuracy: 0.021860986547085202\n",
      "Hamming Loss: 0.006029252793956258\n"
     ]
    }
   ],
   "source": [
    "svm_classifier = SVC(kernel='linear')\n",
    "\n",
    "# Use MultiOutputClassifier for multi-label classification\n",
    "multi_label_classifier = MultiOutputClassifier(svm_classifier)\n",
    "\n",
    "# Train the model\n",
    "multi_label_classifier.fit(X_train_vectorized, y_train)\n",
    "\n",
    "# Make predictions\n",
    "y_pred = multi_label_classifier.predict(X_test_vectorized)\n",
    "\n",
    "# Evaluate the model\n",
    "accuracy = accuracy_score(y_test, y_pred)\n",
    "hamming_loss_value = hamming_loss(y_test, y_pred)\n",
    "\n",
    "print(\"Accuracy:\", accuracy)\n",
    "print(\"Hamming Loss:\", hamming_loss_value)"
   ]
  },
  {
   "cell_type": "markdown",
   "id": "9e6272a4",
   "metadata": {},
   "source": [
    "## Deep Neural Networks "
   ]
  },
  {
   "cell_type": "code",
   "execution_count": 247,
   "id": "3d4ce620",
   "metadata": {},
   "outputs": [
    {
     "name": "stdout",
     "output_type": "stream",
     "text": [
      "Epoch 1/10\n",
      "179/179 [==============================] - 4s 17ms/step - loss: 0.0850 - accuracy: 0.1495 - val_loss: 0.0298 - val_accuracy: 0.2130\n",
      "Epoch 2/10\n",
      "179/179 [==============================] - 3s 14ms/step - loss: 0.0262 - accuracy: 0.2368 - val_loss: 0.0246 - val_accuracy: 0.2712\n",
      "Epoch 3/10\n",
      "179/179 [==============================] - 3s 14ms/step - loss: 0.0202 - accuracy: 0.2838 - val_loss: 0.0220 - val_accuracy: 0.3041\n",
      "Epoch 4/10\n",
      "179/179 [==============================] - 3s 14ms/step - loss: 0.0165 - accuracy: 0.3245 - val_loss: 0.0206 - val_accuracy: 0.3224\n",
      "Epoch 5/10\n",
      "179/179 [==============================] - 2s 14ms/step - loss: 0.0142 - accuracy: 0.3516 - val_loss: 0.0199 - val_accuracy: 0.3189\n",
      "Epoch 6/10\n",
      "179/179 [==============================] - 2s 13ms/step - loss: 0.0125 - accuracy: 0.3530 - val_loss: 0.0195 - val_accuracy: 0.3146\n",
      "Epoch 7/10\n",
      "179/179 [==============================] - 2s 14ms/step - loss: 0.0113 - accuracy: 0.3637 - val_loss: 0.0194 - val_accuracy: 0.2817\n",
      "Epoch 8/10\n",
      "179/179 [==============================] - 2s 13ms/step - loss: 0.0103 - accuracy: 0.3706 - val_loss: 0.0193 - val_accuracy: 0.3083\n",
      "Epoch 9/10\n",
      "179/179 [==============================] - 2s 12ms/step - loss: 0.0095 - accuracy: 0.3814 - val_loss: 0.0198 - val_accuracy: 0.2887\n",
      "Epoch 10/10\n",
      "179/179 [==============================] - 2s 13ms/step - loss: 0.0087 - accuracy: 0.3781 - val_loss: 0.0202 - val_accuracy: 0.2719\n",
      "56/56 [==============================] - 0s 4ms/step\n"
     ]
    }
   ],
   "source": [
    "# Convert sparse matrices to dense NumPy arrays\n",
    "X_train_dense = X_train_vectorized.toarray()\n",
    "X_test_dense = X_test_vectorized.toarray()\n",
    "\n",
    "# Build basic deep neural network model\n",
    "model = Sequential()\n",
    "model.add(Dense(64, activation='relu', input_shape=(X_train_dense.shape[1],)))\n",
    "model.add(Dense(32, activation='relu'))\n",
    "model.add(Dense(y.shape[1], activation='sigmoid'))  # Use sigmoid activation for multi-label classification\n",
    "\n",
    "# Compile the model\n",
    "model.compile(optimizer=Adam(learning_rate=0.001), loss='binary_crossentropy', metrics=['accuracy'])\n",
    "\n",
    "# Train the model\n",
    "history = model.fit(X_train_dense, y_train, batch_size=32, epochs=10, validation_split=0.2)\n",
    "\n",
    "# Make predictions\n",
    "y_pred_proba = model.predict(X_test_dense)\n",
    "y_pred = (y_pred_proba > 0.5).astype(int)\n",
    "\n",
    "# Evaluate the model\n",
    "hamming_loss_value = hamming_loss(y_test, y_pred)"
   ]
  },
  {
   "cell_type": "code",
   "execution_count": 248,
   "id": "819d6258",
   "metadata": {},
   "outputs": [
    {
     "name": "stdout",
     "output_type": "stream",
     "text": [
      "Epoch 1 - Accuracy: 0.1495, Validation Accuracy: 0.2130\n",
      "Epoch 2 - Accuracy: 0.2368, Validation Accuracy: 0.2712\n",
      "Epoch 3 - Accuracy: 0.2838, Validation Accuracy: 0.3041\n",
      "Epoch 4 - Accuracy: 0.3245, Validation Accuracy: 0.3224\n",
      "Epoch 5 - Accuracy: 0.3516, Validation Accuracy: 0.3189\n",
      "Epoch 6 - Accuracy: 0.3530, Validation Accuracy: 0.3146\n",
      "Epoch 7 - Accuracy: 0.3637, Validation Accuracy: 0.2817\n",
      "Epoch 8 - Accuracy: 0.3706, Validation Accuracy: 0.3083\n",
      "Epoch 9 - Accuracy: 0.3814, Validation Accuracy: 0.2887\n",
      "Epoch 10 - Accuracy: 0.3781, Validation Accuracy: 0.2719\n",
      "\n",
      "Hamming Loss: 0.004357914120011673\n"
     ]
    }
   ],
   "source": [
    "# Get accuracy and validation accuracy\n",
    "accuracy = history.history['accuracy']\n",
    "val_accuracy = history.history['val_accuracy']\n",
    "\n",
    "# Print the accuracy and validation accuracy for each epoch\n",
    "for epoch in range(len(accuracy)):\n",
    "    print(f\"Epoch {epoch + 1} - Accuracy: {accuracy[epoch]:.4f}, Validation Accuracy: {val_accuracy[epoch]:.4f}\")\n",
    "    \n",
    "# Print hamming loss\n",
    "print(\"\\nHamming Loss:\", hamming_loss_value)"
   ]
  },
  {
   "cell_type": "code",
   "execution_count": 249,
   "id": "b552629d",
   "metadata": {},
   "outputs": [
    {
     "data": {
      "image/png": "[encoded data removed]",
      "text/plain": [
       "<Figure size 1000x400 with 2 Axes>"
      ]
     },
     "metadata": {},
     "output_type": "display_data"
    }
   ],
   "source": [
    "# Plot the training history\n",
    "plt.figure(figsize=(10, 4))\n",
    "\n",
    "# Accuracy/validation accuracy plot\n",
    "plt.subplot(1, 2, 1)\n",
    "plt.plot(history.history['accuracy'], label='Training Accuracy')\n",
    "plt.plot(history.history['val_accuracy'], label='Validation Accuracy')\n",
    "plt.xlabel('Epoch')\n",
    "plt.ylabel('Accuracy')\n",
    "plt.title('Accuracy during Training')\n",
    "plt.legend()\n",
    "\n",
    "# Loss/validation loss plot\n",
    "plt.subplot(1, 2, 2)\n",
    "plt.plot(history.history['loss'], label='Training Loss')\n",
    "plt.plot(history.history['val_loss'], label='Validation Loss')\n",
    "plt.xlabel('Epoch')\n",
    "plt.ylabel('Loss')\n",
    "plt.title('Loss during Training')\n",
    "plt.legend()\n",
    "\n",
    "plt.tight_layout()\n",
    "plt.show()"
   ]
  },
  {
   "cell_type": "markdown",
   "id": "1c3c7b9b",
   "metadata": {},
   "source": [
    "# Top 18 Codes\n",
    "\n",
    "The subsequent section will utalise a subset of the whole data. This subset only contains the top 18 codes by frequency these codes are:\n",
    "\n",
    "- A61B5/00     \n",
    "- A61B17/00  \n",
    "- A61B90/00 \n",
    "- G06T7/00      \n",
    "- G06N20/00     \n",
    "- H04W72/04  \n",
    "- A61K9/00     \n",
    "- G06K9/62 \n",
    "- G06K9/00  \n",
    "- G16H10/60\n",
    "- A61B6/00\n",
    "- G06N3/08 \n",
    "- H04L5/00  \n",
    "- A61B18/00\n",
    "- A61K45/06  \n",
    "- G16H50/20\n",
    "- A61B1/00 \n",
    "- A61K39/00\n",
    "\n",
    "The following models will be tested to get the accuracy and hamming loss:\n",
    "\n",
    "- Logistic Regression\n",
    "- Random Forest Classifier\n",
    "- Support Vector Machine\n",
    "- Deep Nerual Networks"
   ]
  },
  {
   "cell_type": "code",
   "execution_count": 141,
   "id": "718f7ff8",
   "metadata": {},
   "outputs": [
    {
     "data": {
      "text/html": [
       "<div>\n",
       "<style scoped>\n",
       "    .dataframe tbody tr th:only-of-type {\n",
       "        vertical-align: middle;\n",
       "    }\n",
       "\n",
       "    .dataframe tbody tr th {\n",
       "        vertical-align: top;\n",
       "    }\n",
       "\n",
       "    .dataframe thead th {\n",
       "        text-align: right;\n",
       "    }\n",
       "</style>\n",
       "<table border=\"1\" class=\"dataframe\">\n",
       "  <thead>\n",
       "    <tr style=\"text-align: right;\">\n",
       "      <th></th>\n",
       "      <th>Context</th>\n",
       "      <th>Classification Codes</th>\n",
       "    </tr>\n",
       "  </thead>\n",
       "  <tbody>\n",
       "    <tr>\n",
       "      <th>0</th>\n",
       "      <td>processor compil system receiv predict model r...</td>\n",
       "      <td>[G06N20/00]</td>\n",
       "    </tr>\n",
       "    <tr>\n",
       "      <th>1</th>\n",
       "      <td>antigen specif immunotherapi covid19 fusion pr...</td>\n",
       "      <td>[A61K39/00]</td>\n",
       "    </tr>\n",
       "    <tr>\n",
       "      <th>2</th>\n",
       "      <td>system method secur cloudbas physiolog data pr...</td>\n",
       "      <td>[A61B5/00, G16H10/60]</td>\n",
       "    </tr>\n",
       "    <tr>\n",
       "      <th>3</th>\n",
       "      <td>collim detector base medic imag system medic i...</td>\n",
       "      <td>[A61B6/00]</td>\n",
       "    </tr>\n",
       "    <tr>\n",
       "      <th>4</th>\n",
       "      <td>method devic determin relat two entiti method ...</td>\n",
       "      <td>[G06K9/62, G06N3/08]</td>\n",
       "    </tr>\n",
       "  </tbody>\n",
       "</table>\n",
       "</div>"
      ],
      "text/plain": [
       "                                             Context   Classification Codes\n",
       "0  processor compil system receiv predict model r...            [G06N20/00]\n",
       "1  antigen specif immunotherapi covid19 fusion pr...            [A61K39/00]\n",
       "2  system method secur cloudbas physiolog data pr...  [A61B5/00, G16H10/60]\n",
       "3  collim detector base medic imag system medic i...             [A61B6/00]\n",
       "4  method devic determin relat two entiti method ...   [G06K9/62, G06N3/08]"
      ]
     },
     "execution_count": 141,
     "metadata": {},
     "output_type": "execute_result"
    }
   ],
   "source": [
    "# Load the data for top 18 codes\n",
    "df = pd.read_csv('Data_Preprocessed_SubGroup_Top18.csv')\n",
    "df['Classification Codes'] = df['Classification Codes'].apply(ast.literal_eval)\n",
    "df.head()"
   ]
  },
  {
   "cell_type": "code",
   "execution_count": 142,
   "id": "4ca928a7",
   "metadata": {},
   "outputs": [],
   "source": [
    "# Encode the \"Classification Codes\" column as multi-labels\n",
    "mlb = MultiLabelBinarizer()\n",
    "y = mlb.fit_transform(df['Classification Codes'])\n",
    "\n",
    "# Split the data into training(80%) and testing sets(20%)\n",
    "X_train, X_test, y_train, y_test = train_test_split(df['Context'], y, test_size=0.2, random_state=42)"
   ]
  },
  {
   "cell_type": "code",
   "execution_count": 143,
   "id": "b180e103",
   "metadata": {},
   "outputs": [],
   "source": [
    "# Apply feature extraction using TfidfVectorizer\n",
    "vectorizer = TfidfVectorizer()\n",
    "X_train_vectorized = vectorizer.fit_transform(X_train)\n",
    "X_test_vectorized = vectorizer.transform(X_test)"
   ]
  },
  {
   "cell_type": "markdown",
   "id": "08114fb7",
   "metadata": {},
   "source": [
    "##  Logistic Regression"
   ]
  },
  {
   "cell_type": "code",
   "execution_count": 79,
   "id": "002cab35",
   "metadata": {},
   "outputs": [
    {
     "name": "stdout",
     "output_type": "stream",
     "text": [
      "Accuracy: 0.31212121212121213\n",
      "Hamming Loss: 0.06767676767676768\n"
     ]
    }
   ],
   "source": [
    "logistic_regression = LogisticRegression()\n",
    "\n",
    "# Use MultiOutputClassifier for multi-label classification\n",
    "multi_label_classifier = MultiOutputClassifier(logistic_regression)\n",
    "\n",
    "# Train the model\n",
    "multi_label_classifier.fit(X_train_vectorized, y_train)\n",
    "\n",
    "# Make predictions\n",
    "y_pred = multi_label_classifier.predict(X_test_vectorized)\n",
    "\n",
    "# Evaluate the model\n",
    "accuracy = accuracy_score(y_test, y_pred)\n",
    "hamming_loss_value = hamming_loss(y_test, y_pred)\n",
    "\n",
    "print(\"Accuracy:\", accuracy)\n",
    "print(\"Hamming Loss:\", hamming_loss_value)"
   ]
  },
  {
   "cell_type": "markdown",
   "id": "da3293dc",
   "metadata": {},
   "source": [
    "## Random Forest "
   ]
  },
  {
   "cell_type": "code",
   "execution_count": 84,
   "id": "188ff3bb",
   "metadata": {},
   "outputs": [
    {
     "name": "stdout",
     "output_type": "stream",
     "text": [
      "Accuracy: 0.22727272727272727\n",
      "Hamming Loss: 0.06428170594837261\n"
     ]
    }
   ],
   "source": [
    "classifier = RandomForestClassifier()\n",
    "\n",
    "# Use MultiOutputClassifier for multi-label classification\n",
    "multi_label_classifier = MultiOutputClassifier(classifier)\n",
    "\n",
    "# Train the model\n",
    "multi_label_classifier.fit(X_train_vectorized, y_train)\n",
    "\n",
    "# Make predictions\n",
    "y_pred = multi_label_classifier.predict(X_test_vectorized)\n",
    "\n",
    "# Evaluate the model\n",
    "accuracy = accuracy_score(y_test, y_pred)\n",
    "hamming_loss_value = hamming_loss(y_test, y_pred)\n",
    "\n",
    "print(\"Accuracy:\", accuracy)\n",
    "print(\"Hamming Loss:\", hamming_loss_value)"
   ]
  },
  {
   "cell_type": "markdown",
   "id": "d16c970b",
   "metadata": {},
   "source": [
    "## Support Vector Machine  (One vs Rest)\n"
   ]
  },
  {
   "cell_type": "code",
   "execution_count": 76,
   "id": "68fdec4d",
   "metadata": {},
   "outputs": [
    {
     "name": "stdout",
     "output_type": "stream",
     "text": [
      "Accuracy: 0.2722222222222222\n",
      "Hamming Loss: 0.07645903479236812\n"
     ]
    }
   ],
   "source": [
    "svm_classifier = SVC(kernel='linear')\n",
    "\n",
    "# Use MultiOutputClassifier for multi-label classification\n",
    "multi_label_classifier = MultiOutputClassifier(svm_classifier)\n",
    "\n",
    "# Train the model\n",
    "multi_label_classifier.fit(X_train_vectorized, y_train)\n",
    "\n",
    "# Make predictions\n",
    "y_pred = multi_label_classifier.predict(X_test_vectorized)\n",
    "\n",
    "# Evaluate the model\n",
    "accuracy = accuracy_score(y_test, y_pred)\n",
    "hamming_loss_value = hamming_loss(y_test, y_pred)\n",
    "\n",
    "print(\"Accuracy:\", accuracy)\n",
    "print(\"Hamming Loss:\", hamming_loss_value)"
   ]
  },
  {
   "cell_type": "markdown",
   "id": "93ed2a0a",
   "metadata": {},
   "source": [
    "## Deep Neural Networks "
   ]
  },
  {
   "cell_type": "code",
   "execution_count": 148,
   "id": "e90ca405",
   "metadata": {},
   "outputs": [
    {
     "name": "stdout",
     "output_type": "stream",
     "text": [
      "Epoch 1/10\n",
      "198/198 [==============================] - 6s 29ms/step - loss: 0.2551 - accuracy: 0.4230 - val_loss: 0.1567 - val_accuracy: 0.5795\n",
      "Epoch 2/10\n",
      "198/198 [==============================] - 5s 24ms/step - loss: 0.1117 - accuracy: 0.6726 - val_loss: 0.1548 - val_accuracy: 0.5789\n",
      "Epoch 3/10\n",
      "198/198 [==============================] - 4s 18ms/step - loss: 0.0703 - accuracy: 0.7523 - val_loss: 0.1661 - val_accuracy: 0.5701\n",
      "Epoch 4/10\n",
      "198/198 [==============================] - 4s 19ms/step - loss: 0.0454 - accuracy: 0.7932 - val_loss: 0.1823 - val_accuracy: 0.5833\n",
      "Epoch 5/10\n",
      "198/198 [==============================] - 4s 21ms/step - loss: 0.0289 - accuracy: 0.8112 - val_loss: 0.2051 - val_accuracy: 0.5701\n",
      "Epoch 6/10\n",
      "198/198 [==============================] - 4s 18ms/step - loss: 0.0190 - accuracy: 0.8170 - val_loss: 0.2246 - val_accuracy: 0.5682\n",
      "Epoch 7/10\n",
      "198/198 [==============================] - 4s 18ms/step - loss: 0.0129 - accuracy: 0.8151 - val_loss: 0.2511 - val_accuracy: 0.5676\n",
      "Epoch 8/10\n",
      "198/198 [==============================] - 3s 18ms/step - loss: 0.0083 - accuracy: 0.8195 - val_loss: 0.2680 - val_accuracy: 0.5694\n",
      "Epoch 9/10\n",
      "198/198 [==============================] - 4s 21ms/step - loss: 0.0056 - accuracy: 0.8192 - val_loss: 0.2931 - val_accuracy: 0.5707\n",
      "Epoch 10/10\n",
      "198/198 [==============================] - 4s 18ms/step - loss: 0.0039 - accuracy: 0.8266 - val_loss: 0.3097 - val_accuracy: 0.5638\n",
      "62/62 [==============================] - 1s 7ms/step\n",
      "Accuracy: 0.36313131313131314\n",
      "Hamming Loss: 0.059876543209876544\n"
     ]
    }
   ],
   "source": [
    "# Convert sparse matrices to dense NumPy arrays\n",
    "X_train_dense = X_train_vectorized.toarray()\n",
    "X_test_dense = X_test_vectorized.toarray()\n",
    "\n",
    "# Build deep neural network model\n",
    "model = Sequential()\n",
    "model.add(Dense(64, activation='relu', input_shape=(X_train_dense.shape[1],)))\n",
    "model.add(Dense(32, activation='relu'))\n",
    "model.add(Dense(y.shape[1], activation='sigmoid'))  # Use sigmoid activation for multi-label classification\n",
    "\n",
    "# Compile the model\n",
    "model.compile(optimizer=Adam(learning_rate=0.001), loss='binary_crossentropy', metrics=['accuracy'])\n",
    "\n",
    "# Train the model\n",
    "history = model.fit(X_train_dense, y_train, batch_size=32, epochs=10, validation_split=0.2)\n",
    "\n",
    "# Make predictions\n",
    "y_pred_proba = model.predict(X_test_dense)\n",
    "y_pred = (y_pred_proba > 0.5).astype(int)\n",
    "\n",
    "# Evaluate the model\n",
    "hamming_loss_value = hamming_loss(y_test, y_pred)"
   ]
  },
  {
   "cell_type": "code",
   "execution_count": 160,
   "id": "f45e57a5",
   "metadata": {},
   "outputs": [
    {
     "name": "stdout",
     "output_type": "stream",
     "text": [
      "Epoch 1 - Accuracy: 0.4230, Validation Accuracy: 0.5795\n",
      "Epoch 2 - Accuracy: 0.6726, Validation Accuracy: 0.5789\n",
      "Epoch 3 - Accuracy: 0.7523, Validation Accuracy: 0.5701\n",
      "Epoch 4 - Accuracy: 0.7932, Validation Accuracy: 0.5833\n",
      "Epoch 5 - Accuracy: 0.8112, Validation Accuracy: 0.5701\n",
      "Epoch 6 - Accuracy: 0.8170, Validation Accuracy: 0.5682\n",
      "Epoch 7 - Accuracy: 0.8151, Validation Accuracy: 0.5676\n",
      "Epoch 8 - Accuracy: 0.8195, Validation Accuracy: 0.5694\n",
      "Epoch 9 - Accuracy: 0.8192, Validation Accuracy: 0.5707\n",
      "Epoch 10 - Accuracy: 0.8266, Validation Accuracy: 0.5638\n",
      "\n",
      "Hamming Loss: 0.059876543209876544\n"
     ]
    }
   ],
   "source": [
    "# Get accuracy and validation accuracy\n",
    "accuracy = history.history['accuracy']\n",
    "val_accuracy = history.history['val_accuracy']\n",
    "\n",
    "# Print the accuracy and validation accuracy for each epoch\n",
    "for epoch in range(len(accuracy)):\n",
    "    print(f\"Epoch {epoch + 1} - Accuracy: {accuracy[epoch]:.4f}, Validation Accuracy: {val_accuracy[epoch]:.4f}\")\n",
    "    \n",
    "# Print hamming loss\n",
    "print(\"\\nHamming Loss:\", hamming_loss_value)"
   ]
  },
  {
   "cell_type": "code",
   "execution_count": 152,
   "id": "2488d1aa",
   "metadata": {},
   "outputs": [
    {
     "data": {
      "image/png": "[encoded data removed]",
      "text/plain": [
       "<Figure size 1000x400 with 2 Axes>"
      ]
     },
     "metadata": {},
     "output_type": "display_data"
    }
   ],
   "source": [
    "# Plot the training history\n",
    "plt.figure(figsize=(10, 4))\n",
    "\n",
    "# Accuracy/validation accuracy plot\n",
    "plt.subplot(1, 2, 1)\n",
    "plt.plot(history.history['accuracy'], label='Training Accuracy')\n",
    "plt.plot(history.history['val_accuracy'], label='Validation Accuracy')\n",
    "plt.xlabel('Epoch')\n",
    "plt.ylabel('Accuracy')\n",
    "plt.title('Accuracy during Training')\n",
    "plt.legend()\n",
    "\n",
    "# Loss/validation loss plot\n",
    "plt.subplot(1, 2, 2)\n",
    "plt.plot(history.history['loss'], label='Training Loss')\n",
    "plt.plot(history.history['val_loss'], label='Validation Loss')\n",
    "plt.xlabel('Epoch')\n",
    "plt.ylabel('Loss')\n",
    "plt.title('Loss during Training')\n",
    "plt.legend()\n",
    "\n",
    "plt.tight_layout()\n",
    "plt.show()"
   ]
  },
  {
   "cell_type": "markdown",
   "id": "e76930f2",
   "metadata": {},
   "source": [
    "# Selected 7 Codes\n",
    "\n",
    "The subsequent section will utalise a smaller subset of the whole data. This subset only contains selected 7 codes by Beyond Blood, these codes are:\n",
    "\n",
    "- A61B5/00     \n",
    "- A61B17/00      \n",
    "- G06N20/00\n",
    "- G06K9/00  \n",
    "- G16H10/60\n",
    "- A61B6/00\n",
    "- A61B1/00 \n",
    "\n",
    "\n",
    "The following models will be tested to get the accuracy and hamming loss:\n",
    "\n",
    "- Logistic Regression\n",
    "- Random Forest Classifier\n",
    "- Support Vector Machine\n",
    "- Deep Nerual Networks"
   ]
  },
  {
   "cell_type": "code",
   "execution_count": 161,
   "id": "fc2b3537",
   "metadata": {},
   "outputs": [
    {
     "data": {
      "text/html": [
       "<div>\n",
       "<style scoped>\n",
       "    .dataframe tbody tr th:only-of-type {\n",
       "        vertical-align: middle;\n",
       "    }\n",
       "\n",
       "    .dataframe tbody tr th {\n",
       "        vertical-align: top;\n",
       "    }\n",
       "\n",
       "    .dataframe thead th {\n",
       "        text-align: right;\n",
       "    }\n",
       "</style>\n",
       "<table border=\"1\" class=\"dataframe\">\n",
       "  <thead>\n",
       "    <tr style=\"text-align: right;\">\n",
       "      <th></th>\n",
       "      <th>Context</th>\n",
       "      <th>Classification Codes</th>\n",
       "    </tr>\n",
       "  </thead>\n",
       "  <tbody>\n",
       "    <tr>\n",
       "      <th>0</th>\n",
       "      <td>processor compil system receiv predict model r...</td>\n",
       "      <td>[G06N20/00]</td>\n",
       "    </tr>\n",
       "    <tr>\n",
       "      <th>1</th>\n",
       "      <td>system method secur cloudbas physiolog data pr...</td>\n",
       "      <td>[A61B5/00, G16H10/60]</td>\n",
       "    </tr>\n",
       "    <tr>\n",
       "      <th>2</th>\n",
       "      <td>collim detector base medic imag system medic i...</td>\n",
       "      <td>[A61B6/00]</td>\n",
       "    </tr>\n",
       "    <tr>\n",
       "      <th>3</th>\n",
       "      <td>insul pedicl access system relat method pedicl...</td>\n",
       "      <td>[A61B5/00, A61B17/00]</td>\n",
       "    </tr>\n",
       "    <tr>\n",
       "      <th>4</th>\n",
       "      <td>ingest event marker data framework ingest even...</td>\n",
       "      <td>[A61B5/00, G16H10/60]</td>\n",
       "    </tr>\n",
       "  </tbody>\n",
       "</table>\n",
       "</div>"
      ],
      "text/plain": [
       "                                             Context   Classification Codes\n",
       "0  processor compil system receiv predict model r...            [G06N20/00]\n",
       "1  system method secur cloudbas physiolog data pr...  [A61B5/00, G16H10/60]\n",
       "2  collim detector base medic imag system medic i...             [A61B6/00]\n",
       "3  insul pedicl access system relat method pedicl...  [A61B5/00, A61B17/00]\n",
       "4  ingest event marker data framework ingest even...  [A61B5/00, G16H10/60]"
      ]
     },
     "execution_count": 161,
     "metadata": {},
     "output_type": "execute_result"
    }
   ],
   "source": [
    "# Load the data for selected 7 codes by Beyond Blood\n",
    "df = pd.read_csv('Data_Preprocessed_SubGroup_Selected7.csv')\n",
    "df['Classification Codes'] = df['Classification Codes'].apply(ast.literal_eval)\n",
    "df.head()"
   ]
  },
  {
   "cell_type": "code",
   "execution_count": 162,
   "id": "d1fb36f7",
   "metadata": {},
   "outputs": [],
   "source": [
    "# Encode the \"Classification Codes\" column as multi-labels\n",
    "mlb = MultiLabelBinarizer()\n",
    "y = mlb.fit_transform(df['Classification Codes'])\n",
    "\n",
    "# Split the data into training(80%) and testing sets(20%)\n",
    "X_train, X_test, y_train, y_test = train_test_split(df['Context'], y, test_size=0.2, random_state=42)"
   ]
  },
  {
   "cell_type": "code",
   "execution_count": 163,
   "id": "88af4481",
   "metadata": {},
   "outputs": [],
   "source": [
    "# Apply feature extraction using TfidfVectorizer\n",
    "vectorizer = TfidfVectorizer()\n",
    "X_train_vectorized = vectorizer.fit_transform(X_train)\n",
    "X_test_vectorized = vectorizer.transform(X_test)"
   ]
  },
  {
   "cell_type": "markdown",
   "id": "67ac29ab",
   "metadata": {},
   "source": [
    "## Logistic Regression "
   ]
  },
  {
   "cell_type": "code",
   "execution_count": 164,
   "id": "9f07263b",
   "metadata": {},
   "outputs": [
    {
     "name": "stdout",
     "output_type": "stream",
     "text": [
      "Accuracy: 0.48352553542009885\n",
      "Hamming Loss: 0.11061426217933631\n"
     ]
    }
   ],
   "source": [
    "logistic_regression = LogisticRegression()\n",
    "\n",
    "# Use MultiOutputClassifier for multi-label classification\n",
    "multi_label_classifier = MultiOutputClassifier(logistic_regression)\n",
    "\n",
    "# Train the model\n",
    "multi_label_classifier.fit(X_train_vectorized, y_train)\n",
    "\n",
    "# Make predictions\n",
    "y_pred = multi_label_classifier.predict(X_test_vectorized)\n",
    "\n",
    "# Evaluate the model\n",
    "accuracy = accuracy_score(y_test, y_pred)\n",
    "hamming_loss_value = hamming_loss(y_test, y_pred)\n",
    "\n",
    "print(\"Accuracy:\", accuracy)\n",
    "print(\"Hamming Loss:\", hamming_loss_value)"
   ]
  },
  {
   "cell_type": "markdown",
   "id": "5ec49461",
   "metadata": {},
   "source": [
    "## Random Forest "
   ]
  },
  {
   "cell_type": "code",
   "execution_count": 165,
   "id": "77385f8a",
   "metadata": {},
   "outputs": [
    {
     "name": "stdout",
     "output_type": "stream",
     "text": [
      "Accuracy: 0.4514003294892916\n",
      "Hamming Loss: 0.10331842786538009\n"
     ]
    }
   ],
   "source": [
    "classifier = RandomForestClassifier()\n",
    "\n",
    "# Use MultiOutputClassifier for multi-label classification\n",
    "multi_label_classifier = MultiOutputClassifier(classifier)\n",
    "\n",
    "# Train the model\n",
    "multi_label_classifier.fit(X_train_vectorized, y_train)\n",
    "\n",
    "# Make predictions\n",
    "y_pred = multi_label_classifier.predict(X_test_vectorized)\n",
    "\n",
    "# Evaluate the model\n",
    "accuracy = accuracy_score(y_test, y_pred)\n",
    "hamming_loss_value = hamming_loss(y_test, y_pred)\n",
    "\n",
    "print(\"Accuracy:\", accuracy)\n",
    "print(\"Hamming Loss:\", hamming_loss_value)"
   ]
  },
  {
   "cell_type": "markdown",
   "id": "99bbc85f",
   "metadata": {},
   "source": [
    "## Support Vector Machine  (One vs Rest)\n"
   ]
  },
  {
   "cell_type": "code",
   "execution_count": 166,
   "id": "a7879095",
   "metadata": {},
   "outputs": [
    {
     "name": "stdout",
     "output_type": "stream",
     "text": [
      "Accuracy: 0.44810543657331137\n",
      "Hamming Loss: 0.12167568839726994\n"
     ]
    }
   ],
   "source": [
    "svm_classifier = SVC(kernel='linear')\n",
    "\n",
    "# Use MultiOutputClassifier for multi-label classification\n",
    "multi_label_classifier = MultiOutputClassifier(svm_classifier)\n",
    "\n",
    "# Train the model\n",
    "multi_label_classifier.fit(X_train_vectorized, y_train)\n",
    "\n",
    "# Make predictions\n",
    "y_pred = multi_label_classifier.predict(X_test_vectorized)\n",
    "\n",
    "# Evaluate the model\n",
    "accuracy = accuracy_score(y_test, y_pred)\n",
    "hamming_loss_value = hamming_loss(y_test, y_pred)\n",
    "\n",
    "print(\"Accuracy:\", accuracy)\n",
    "print(\"Hamming Loss:\", hamming_loss_value)"
   ]
  },
  {
   "cell_type": "markdown",
   "id": "c06190fc",
   "metadata": {},
   "source": [
    "## Deep Neural Networks"
   ]
  },
  {
   "cell_type": "code",
   "execution_count": 167,
   "id": "756a8b60",
   "metadata": {},
   "outputs": [
    {
     "name": "stdout",
     "output_type": "stream",
     "text": [
      "Epoch 1/10\n",
      "122/122 [==============================] - 3s 13ms/step - loss: 0.2775 - accuracy: 0.6656 - val_loss: 0.2330 - val_accuracy: 0.7137\n",
      "Epoch 2/10\n",
      "122/122 [==============================] - 1s 8ms/step - loss: 0.1112 - accuracy: 0.8617 - val_loss: 0.2421 - val_accuracy: 0.7240\n",
      "Epoch 3/10\n",
      "122/122 [==============================] - 1s 8ms/step - loss: 0.0519 - accuracy: 0.9171 - val_loss: 0.2707 - val_accuracy: 0.7209\n",
      "Epoch 4/10\n",
      "122/122 [==============================] - 1s 8ms/step - loss: 0.0244 - accuracy: 0.9312 - val_loss: 0.3154 - val_accuracy: 0.7075\n",
      "Epoch 5/10\n",
      "122/122 [==============================] - 1s 8ms/step - loss: 0.0124 - accuracy: 0.9312 - val_loss: 0.3616 - val_accuracy: 0.7312\n",
      "Epoch 6/10\n",
      "122/122 [==============================] - 1s 8ms/step - loss: 0.0079 - accuracy: 0.9323 - val_loss: 0.3931 - val_accuracy: 0.7209\n",
      "Epoch 7/10\n",
      "122/122 [==============================] - 1s 8ms/step - loss: 0.0049 - accuracy: 0.9366 - val_loss: 0.4289 - val_accuracy: 0.7240\n",
      "Epoch 8/10\n",
      "122/122 [==============================] - 1s 8ms/step - loss: 0.0030 - accuracy: 0.9325 - val_loss: 0.4559 - val_accuracy: 0.7147\n",
      "Epoch 9/10\n",
      "122/122 [==============================] - 1s 9ms/step - loss: 0.0018 - accuracy: 0.9371 - val_loss: 0.4802 - val_accuracy: 0.7188\n",
      "Epoch 10/10\n",
      "122/122 [==============================] - 1s 9ms/step - loss: 0.0013 - accuracy: 0.9364 - val_loss: 0.5033 - val_accuracy: 0.7178\n",
      "38/38 [==============================] - 0s 3ms/step\n"
     ]
    }
   ],
   "source": [
    "# Convert sparse matrices to dense NumPy arrays\n",
    "X_train_dense = X_train_vectorized.toarray()\n",
    "X_test_dense = X_test_vectorized.toarray()\n",
    "\n",
    "# Build the deep neural network model\n",
    "model = Sequential()\n",
    "model.add(Dense(64, activation='relu', input_shape=(X_train_dense.shape[1],)))\n",
    "model.add(Dense(32, activation='relu'))\n",
    "model.add(Dense(y.shape[1], activation='sigmoid'))  # Use sigmoid activation for multi-label classification\n",
    "\n",
    "# Compile the model\n",
    "model.compile(optimizer=Adam(learning_rate=0.001), loss='binary_crossentropy', metrics=['accuracy'])\n",
    "\n",
    "# Train the model\n",
    "history = model.fit(X_train_dense, y_train, batch_size=32, epochs=10, validation_split=0.2)\n",
    "\n",
    "# Make predictions\n",
    "y_pred_proba = model.predict(X_test_dense)\n",
    "y_pred = (y_pred_proba > 0.5).astype(int)\n",
    "\n",
    "# Evaluate the model\n",
    "hamming_loss_value = hamming_loss(y_test, y_pred)"
   ]
  },
  {
   "cell_type": "code",
   "execution_count": 168,
   "id": "9a884672",
   "metadata": {},
   "outputs": [
    {
     "name": "stdout",
     "output_type": "stream",
     "text": [
      "Epoch 1 - Accuracy: 0.6656, Validation Accuracy: 0.7137\n",
      "Epoch 2 - Accuracy: 0.8617, Validation Accuracy: 0.7240\n",
      "Epoch 3 - Accuracy: 0.9171, Validation Accuracy: 0.7209\n",
      "Epoch 4 - Accuracy: 0.9312, Validation Accuracy: 0.7075\n",
      "Epoch 5 - Accuracy: 0.9312, Validation Accuracy: 0.7312\n",
      "Epoch 6 - Accuracy: 0.9323, Validation Accuracy: 0.7209\n",
      "Epoch 7 - Accuracy: 0.9366, Validation Accuracy: 0.7240\n",
      "Epoch 8 - Accuracy: 0.9325, Validation Accuracy: 0.7147\n",
      "Epoch 9 - Accuracy: 0.9371, Validation Accuracy: 0.7188\n",
      "Epoch 10 - Accuracy: 0.9364, Validation Accuracy: 0.7178\n",
      "\n",
      "Hamming Loss: 0.09237467639444576\n"
     ]
    }
   ],
   "source": [
    "# Get accuracy and validation accuracy\n",
    "accuracy = history.history['accuracy']\n",
    "val_accuracy = history.history['val_accuracy']\n",
    "\n",
    "# Print the accuracy and validation accuracy for each epoch\n",
    "for epoch in range(len(accuracy)):\n",
    "    print(f\"Epoch {epoch + 1} - Accuracy: {accuracy[epoch]:.4f}, Validation Accuracy: {val_accuracy[epoch]:.4f}\")\n",
    "    \n",
    "# Print hamming loss\n",
    "print(\"\\nHamming Loss:\", hamming_loss_value)"
   ]
  },
  {
   "cell_type": "code",
   "execution_count": 169,
   "id": "189d2f86",
   "metadata": {},
   "outputs": [
    {
     "data": {
      "image/png": "[encoded data removed]",
      "text/plain": [
       "<Figure size 1000x400 with 2 Axes>"
      ]
     },
     "metadata": {},
     "output_type": "display_data"
    }
   ],
   "source": [
    "# Plot the training history\n",
    "plt.figure(figsize=(10, 4))\n",
    "\n",
    "# Accuracy/validation accuracy plot\n",
    "plt.subplot(1, 2, 1)\n",
    "plt.plot(history.history['accuracy'], label='Training Accuracy')\n",
    "plt.plot(history.history['val_accuracy'], label='Validation Accuracy')\n",
    "plt.xlabel('Epoch')\n",
    "plt.ylabel('Accuracy')\n",
    "plt.title('Accuracy during Training')\n",
    "plt.legend()\n",
    "\n",
    "# Loss/validation loss plot\n",
    "plt.subplot(1, 2, 2)\n",
    "plt.plot(history.history['loss'], label='Training Loss')\n",
    "plt.plot(history.history['val_loss'], label='Validation Loss')\n",
    "plt.xlabel('Epoch')\n",
    "plt.ylabel('Loss')\n",
    "plt.title('Loss during Training')\n",
    "plt.legend()\n",
    "\n",
    "plt.tight_layout()\n",
    "plt.show()"
   ]
  },
  {
   "cell_type": "markdown",
   "id": "d5aef649",
   "metadata": {},
   "source": [
    "# Results\n",
    "\n",
    "This section presents all results from the model into a table format for ease of visualisation"
   ]
  },
  {
   "cell_type": "code",
   "execution_count": 254,
   "id": "b6ef45a1",
   "metadata": {},
   "outputs": [],
   "source": [
    "def results_table(data):\n",
    "    table = PrettyTable()\n",
    "    \n",
    "    # Define column headers\n",
    "    table.field_names = [\"Model\", \"Accuracy\", \"Hamming Loss\"]\n",
    "    \n",
    "    # Add data\n",
    "    for row in data:\n",
    "        table.add_row(row)\n",
    "        \n",
    "    # Align data\n",
    "    table.align[\"Model\"] = \"l\"\n",
    "    table.align[\"Accuracy\"] = \"r\"\n",
    "    table.align[\"Hamming Loss\"] = \"r\"\n",
    "    table.float_format = \".4\"\n",
    "\n",
    "    print(table)"
   ]
  },
  {
   "cell_type": "code",
   "execution_count": 255,
   "id": "2cf67967",
   "metadata": {},
   "outputs": [
    {
     "name": "stdout",
     "output_type": "stream",
     "text": [
      "\t\t       \u001b[1mAll Data\u001b[0m\n",
      "+------------------------+----------+--------------+\n",
      "| Model                  | Accuracy | Hamming Loss |\n",
      "+------------------------+----------+--------------+\n",
      "| Logistic Regression    |   0.0263 |       0.0050 |\n",
      "| Random Forest          |   0.0135 |       0.0043 |\n",
      "| Support Vector Machine |   0.0219 |       0.0061 |\n",
      "| Deep Neural Networks   |   0.3224 |       0.0044 |\n",
      "+------------------------+----------+--------------+\n",
      "\n",
      "\n",
      "\t\t        \u001b[1mTop 18\u001b[0m\n",
      "+------------------------+----------+--------------+\n",
      "| Model                  | Accuracy | Hamming Loss |\n",
      "+------------------------+----------+--------------+\n",
      "| Logistic Regression    |   0.3121 |       0.0677 |\n",
      "| Random Forest          |   0.2272 |       0.0643 |\n",
      "| Support Vector Machine |   0.2722 |       0.0765 |\n",
      "| Deep Neural Networks   |   0.5833 |       0.0599 |\n",
      "+------------------------+----------+--------------+\n",
      "\n",
      "\n",
      "\t\t       \u001b[1mSelected 7\u001b[0m\n",
      "+------------------------+----------+--------------+\n",
      "| Model                  | Accuracy | Hamming Loss |\n",
      "+------------------------+----------+--------------+\n",
      "| Logistic Regression    |   0.4835 |       0.1106 |\n",
      "| Random Forest          |   0.4514 |       0.1033 |\n",
      "| Support Vector Machine |   0.4481 |       0.1217 |\n",
      "| Deep Neural Networks   |   0.7312 |       0.0924 |\n",
      "+------------------------+----------+--------------+\n"
     ]
    }
   ],
   "source": [
    "# Data for the table\n",
    "data_all = [\n",
    "    [\"Logistic Regression\", 0.0263, 0.0050],\n",
    "    [\"Random Forest\", 0.0135, 0.0043],\n",
    "    [\"Support Vector Machine\", 0.0219, 0.0061],\n",
    "    [\"Deep Neural Networks\", 0.3224, 0.0044]\n",
    "]\n",
    "\n",
    "data_top18 = [\n",
    "    [\"Logistic Regression\", 0.3121, 0.0677],\n",
    "    [\"Random Forest\", 0.2272, 0.0643],\n",
    "    [\"Support Vector Machine\", 0.2722, 0.0765],\n",
    "    [\"Deep Neural Networks\", 0.5833, 0.0599]\n",
    "]\n",
    "\n",
    "data_selected7 = [\n",
    "    [\"Logistic Regression\", 0.4835, 0.1106],\n",
    "    [\"Random Forest\", 0.4514, 0.1033],\n",
    "    [\"Support Vector Machine\", 0.4481, 0.1217],\n",
    "    [\"Deep Neural Networks\", 0.7312, 0.0924]\n",
    "]\n",
    "\n",
    "print(\"\\t\\t       \\033[1mAll Data\\033[0m\")\n",
    "results_table(data_all)\n",
    "\n",
    "print(\"\\n\\n\\t\\t        \\033[1mTop 18\\033[0m\")\n",
    "results_table(data_top18)\n",
    "\n",
    "print(\"\\n\\n\\t\\t       \\033[1mSelected 7\\033[0m\")\n",
    "results_table(data_selected7)"
   ]
  }
 ],
 "metadata": {
  "kernelspec": {
   "display_name": "Python 3 (ipykernel)",
   "language": "python",
   "name": "python3"
  },
  "language_info": {
   "codemirror_mode": {
    "name": "ipython",
    "version": 3
   },
   "file_extension": ".py",
   "mimetype": "text/x-python",
   "name": "python",
   "nbconvert_exporter": "python",
   "pygments_lexer": "ipython3",
   "version": "3.10.12"
  }
 },
 "nbformat": 4,
 "nbformat_minor": 5
}
