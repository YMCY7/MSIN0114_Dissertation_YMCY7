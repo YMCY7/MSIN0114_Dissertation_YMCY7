{
 "cells": [
  {
   "cell_type": "markdown",
   "id": "6f9b29be",
   "metadata": {},
   "source": [
    "# This Notebook is Model Testing for Section instances of Classification Codes"
   ]
  },
  {
   "cell_type": "code",
   "execution_count": 1,
   "id": "0003f91e",
   "metadata": {},
   "outputs": [
    {
     "name": "stderr",
     "output_type": "stream",
     "text": [
      "2023-07-27 11:10:10.890420: I tensorflow/core/platform/cpu_feature_guard.cc:193] This TensorFlow binary is optimized with oneAPI Deep Neural Network Library (oneDNN) to use the following CPU instructions in performance-critical operations:  SSE4.1 SSE4.2\n",
      "To enable them in other operations, rebuild TensorFlow with the appropriate compiler flags.\n"
     ]
    }
   ],
   "source": [
    "# Import all necessary packages\n",
    "\n",
    "import ast\n",
    "import nltk\n",
    "import string\n",
    "import numpy as np\n",
    "import pandas as pd\n",
    "\n",
    "from nltk.corpus import stopwords\n",
    "from nltk.stem import PorterStemmer\n",
    "from nltk.tokenize import word_tokenize\n",
    "\n",
    "from sklearn.svm import SVC\n",
    "from sklearn.linear_model import LogisticRegression\n",
    "from sklearn.ensemble import RandomForestClassifier\n",
    "from sklearn.model_selection import train_test_split\n",
    "from sklearn.multioutput import MultiOutputClassifier\n",
    "from sklearn.metrics import accuracy_score, hamming_loss\n",
    "from sklearn.feature_extraction.text import TfidfVectorizer\n",
    "from sklearn.preprocessing import MultiLabelBinarizer, LabelEncoder\n",
    "\n",
    "from keras.models import Sequential\n",
    "from keras.layers import Dense\n",
    "from keras.optimizers import Adam\n",
    "from matplotlib import pyplot as plt\n",
    "\n",
    "from prettytable import PrettyTable"
   ]
  },
  {
   "cell_type": "markdown",
   "id": "cd0efa5b",
   "metadata": {},
   "source": [
    "# All Data\n",
    "\n",
    "The subsequent section will test the performance of the following models on the whole dataset:\n",
    "\n",
    "- Logistic Regression\n",
    "- Random Forest Classifier\n",
    "- Support Vector Machine\n",
    "- Deep Nerual Networks\n"
   ]
  },
  {
   "cell_type": "code",
   "execution_count": 3,
   "id": "fab9a352",
   "metadata": {},
   "outputs": [
    {
     "data": {
      "text/html": [
       "<div>\n",
       "<style scoped>\n",
       "    .dataframe tbody tr th:only-of-type {\n",
       "        vertical-align: middle;\n",
       "    }\n",
       "\n",
       "    .dataframe tbody tr th {\n",
       "        vertical-align: top;\n",
       "    }\n",
       "\n",
       "    .dataframe thead th {\n",
       "        text-align: right;\n",
       "    }\n",
       "</style>\n",
       "<table border=\"1\" class=\"dataframe\">\n",
       "  <thead>\n",
       "    <tr style=\"text-align: right;\">\n",
       "      <th></th>\n",
       "      <th>Context</th>\n",
       "      <th>Classification Codes</th>\n",
       "    </tr>\n",
       "  </thead>\n",
       "  <tbody>\n",
       "    <tr>\n",
       "      <th>0</th>\n",
       "      <td>processor compil system receiv predict model r...</td>\n",
       "      <td>[G]</td>\n",
       "    </tr>\n",
       "    <tr>\n",
       "      <th>1</th>\n",
       "      <td>imag sens devic imag sens devic includ substra...</td>\n",
       "      <td>[H]</td>\n",
       "    </tr>\n",
       "    <tr>\n",
       "      <th>2</th>\n",
       "      <td>antigen specif immunotherapi covid19 fusion pr...</td>\n",
       "      <td>[A, C]</td>\n",
       "    </tr>\n",
       "    <tr>\n",
       "      <th>3</th>\n",
       "      <td>secur deescal data access concept technolog di...</td>\n",
       "      <td>[G]</td>\n",
       "    </tr>\n",
       "    <tr>\n",
       "      <th>4</th>\n",
       "      <td>system method secur cloudbas physiolog data pr...</td>\n",
       "      <td>[G, A]</td>\n",
       "    </tr>\n",
       "  </tbody>\n",
       "</table>\n",
       "</div>"
      ],
      "text/plain": [
       "                                             Context Classification Codes\n",
       "0  processor compil system receiv predict model r...                  [G]\n",
       "1  imag sens devic imag sens devic includ substra...                  [H]\n",
       "2  antigen specif immunotherapi covid19 fusion pr...               [A, C]\n",
       "3  secur deescal data access concept technolog di...                  [G]\n",
       "4  system method secur cloudbas physiolog data pr...               [G, A]"
      ]
     },
     "execution_count": 3,
     "metadata": {},
     "output_type": "execute_result"
    }
   ],
   "source": [
    "# Load the data\n",
    "df = pd.read_csv('Data_Preprocessed_Section.csv')\n",
    "df['Classification Codes'] = df['Classification Codes'].apply(ast.literal_eval)\n",
    "df.head()"
   ]
  },
  {
   "cell_type": "code",
   "execution_count": 4,
   "id": "37709cb3",
   "metadata": {},
   "outputs": [],
   "source": [
    "# Encode \"Classification Codes\" column as multi-labels\n",
    "mlb = MultiLabelBinarizer()\n",
    "y = mlb.fit_transform(df['Classification Codes'])\n",
    "\n",
    "# Split the data into training(80%) and testing sets(20%)\n",
    "X_train, X_test, y_train, y_test = train_test_split(df['Context'], y, test_size=0.2, random_state=42)"
   ]
  },
  {
   "cell_type": "code",
   "execution_count": 5,
   "id": "451775bf",
   "metadata": {},
   "outputs": [],
   "source": [
    "# Apply feature extraction using TfidfVectorizer\n",
    "vectorizer = TfidfVectorizer()\n",
    "X_train_vectorized = vectorizer.fit_transform(X_train)\n",
    "X_test_vectorized = vectorizer.transform(X_test)"
   ]
  },
  {
   "cell_type": "markdown",
   "id": "fab897d1",
   "metadata": {},
   "source": [
    "## Logistic Regression "
   ]
  },
  {
   "cell_type": "code",
   "execution_count": 6,
   "id": "aec8debf",
   "metadata": {},
   "outputs": [
    {
     "name": "stdout",
     "output_type": "stream",
     "text": [
      "Accuracy: 0.5594138260592545\n",
      "Hamming Loss: 0.07199745141764893\n"
     ]
    }
   ],
   "source": [
    "logistic_regression = LogisticRegression()\n",
    "\n",
    "# Use MultiOutputClassifier for multi-label classification\n",
    "multi_label_classifier = MultiOutputClassifier(logistic_regression)\n",
    "\n",
    "# Train the model\n",
    "multi_label_classifier.fit(X_train_vectorized, y_train)\n",
    "\n",
    "# Make predictions\n",
    "y_pred = multi_label_classifier.predict(X_test_vectorized)\n",
    "\n",
    "# Evaluate the model\n",
    "accuracy = accuracy_score(y_test, y_pred)\n",
    "hamming_loss_value = hamming_loss(y_test, y_pred)\n",
    "\n",
    "print(\"Accuracy:\", accuracy)\n",
    "print(\"Hamming Loss:\", hamming_loss_value)"
   ]
  },
  {
   "cell_type": "markdown",
   "id": "92bd5546",
   "metadata": {},
   "source": [
    "## Random Forest Classifier \n"
   ]
  },
  {
   "cell_type": "code",
   "execution_count": 7,
   "id": "8eeb2c7f",
   "metadata": {},
   "outputs": [
    {
     "name": "stdout",
     "output_type": "stream",
     "text": [
      "Accuracy: 0.6285441223319529\n",
      "Hamming Loss: 0.06056865243708187\n"
     ]
    }
   ],
   "source": [
    "classifier = RandomForestClassifier()\n",
    "\n",
    "# Use MultiOutputClassifier for multi-label classification\n",
    "multi_label_classifier = MultiOutputClassifier(classifier)\n",
    "\n",
    "# Train the model\n",
    "multi_label_classifier.fit(X_train_vectorized, y_train)\n",
    "\n",
    "# Make predictions\n",
    "y_pred = multi_label_classifier.predict(X_test_vectorized)\n",
    "\n",
    "# Evaluate the model\n",
    "accuracy = accuracy_score(y_test, y_pred)\n",
    "hamming_loss_value = hamming_loss(y_test, y_pred)\n",
    "\n",
    "print(\"Accuracy:\", accuracy)\n",
    "print(\"Hamming Loss:\", hamming_loss_value)"
   ]
  },
  {
   "cell_type": "markdown",
   "id": "36763dd0",
   "metadata": {},
   "source": [
    "## Support Vector Machine  (One vs Rest)\n"
   ]
  },
  {
   "cell_type": "code",
   "execution_count": 8,
   "id": "8eb76bf0",
   "metadata": {},
   "outputs": [
    {
     "name": "stdout",
     "output_type": "stream",
     "text": [
      "Accuracy: 0.5148136349155782\n",
      "Hamming Loss: 0.08159445683338643\n"
     ]
    }
   ],
   "source": [
    "svm_classifier = SVC(kernel='linear')\n",
    "\n",
    "# Use MultiOutputClassifier for multi-label classification\n",
    "multi_label_classifier = MultiOutputClassifier(svm_classifier)\n",
    "\n",
    "# Train the model\n",
    "multi_label_classifier.fit(X_train_vectorized, y_train)\n",
    "\n",
    "# Make predictions\n",
    "y_pred = multi_label_classifier.predict(X_test_vectorized)\n",
    "\n",
    "# Evaluate the model\n",
    "accuracy = accuracy_score(y_test, y_pred)\n",
    "hamming_loss_value = hamming_loss(y_test, y_pred)\n",
    "\n",
    "print(\"Accuracy:\", accuracy)\n",
    "print(\"Hamming Loss:\", hamming_loss_value)"
   ]
  },
  {
   "cell_type": "markdown",
   "id": "872791d8",
   "metadata": {},
   "source": [
    "## Deep Neural Networks "
   ]
  },
  {
   "cell_type": "code",
   "execution_count": 9,
   "id": "d51bf718",
   "metadata": {},
   "outputs": [
    {
     "name": "stderr",
     "output_type": "stream",
     "text": [
      "2023-07-27 10:48:42.203851: I tensorflow/core/platform/cpu_feature_guard.cc:193] This TensorFlow binary is optimized with oneAPI Deep Neural Network Library (oneDNN) to use the following CPU instructions in performance-critical operations:  SSE4.1 SSE4.2\n",
      "To enable them in other operations, rebuild TensorFlow with the appropriate compiler flags.\n"
     ]
    },
    {
     "name": "stdout",
     "output_type": "stream",
     "text": [
      "Epoch 1/10\n",
      "314/314 [==============================] - 10s 29ms/step - loss: 0.1738 - accuracy: 0.7930 - val_loss: 0.1522 - val_accuracy: 0.8068\n",
      "Epoch 2/10\n",
      "314/314 [==============================] - 8s 27ms/step - loss: 0.0855 - accuracy: 0.8363 - val_loss: 0.1704 - val_accuracy: 0.8061\n",
      "Epoch 3/10\n",
      "314/314 [==============================] - 8s 26ms/step - loss: 0.0446 - accuracy: 0.8389 - val_loss: 0.1957 - val_accuracy: 0.7937\n",
      "Epoch 4/10\n",
      "314/314 [==============================] - 8s 27ms/step - loss: 0.0234 - accuracy: 0.8416 - val_loss: 0.2363 - val_accuracy: 0.7873\n",
      "Epoch 5/10\n",
      "314/314 [==============================] - 9s 27ms/step - loss: 0.0122 - accuracy: 0.8400 - val_loss: 0.2721 - val_accuracy: 0.8096\n",
      "Epoch 6/10\n",
      "314/314 [==============================] - 8s 27ms/step - loss: 0.0088 - accuracy: 0.8376 - val_loss: 0.2937 - val_accuracy: 0.8021\n",
      "Epoch 7/10\n",
      "314/314 [==============================] - 9s 27ms/step - loss: 0.0067 - accuracy: 0.8350 - val_loss: 0.3332 - val_accuracy: 0.8033\n",
      "Epoch 8/10\n",
      "314/314 [==============================] - 9s 27ms/step - loss: 0.0085 - accuracy: 0.8280 - val_loss: 0.3673 - val_accuracy: 0.7762\n",
      "Epoch 9/10\n",
      "314/314 [==============================] - 8s 26ms/step - loss: 0.0090 - accuracy: 0.8232 - val_loss: 0.3899 - val_accuracy: 0.7997\n",
      "Epoch 10/10\n",
      "314/314 [==============================] - 8s 26ms/step - loss: 0.0104 - accuracy: 0.8350 - val_loss: 0.3851 - val_accuracy: 0.7885\n",
      "99/99 [==============================] - 1s 12ms/step\n"
     ]
    }
   ],
   "source": [
    "# Convert sparse matrices to dense NumPy arrays\n",
    "X_train_dense = X_train_vectorized.toarray()\n",
    "X_test_dense = X_test_vectorized.toarray()\n",
    "\n",
    "# Build basic deep neural network model\n",
    "model = Sequential()\n",
    "model.add(Dense(64, activation='relu', input_shape=(X_train_dense.shape[1],)))\n",
    "model.add(Dense(32, activation='relu'))\n",
    "model.add(Dense(y.shape[1], activation='sigmoid'))  # Use sigmoid activation for multi-label classification\n",
    "\n",
    "# Compile the model\n",
    "model.compile(optimizer=Adam(learning_rate=0.001), loss='binary_crossentropy', metrics=['accuracy'])\n",
    "\n",
    "# Train the model\n",
    "history = model.fit(X_train_dense, y_train, batch_size=32, epochs=10, validation_split=0.2)\n",
    "\n",
    "# Make predictions\n",
    "y_pred_proba = model.predict(X_test_dense)\n",
    "y_pred = (y_pred_proba > 0.5).astype(int)\n",
    "\n",
    "# Evaluate the model\n",
    "hamming_loss_value = hamming_loss(y_test, y_pred)"
   ]
  },
  {
   "cell_type": "code",
   "execution_count": 10,
   "id": "cc4935f0",
   "metadata": {},
   "outputs": [
    {
     "name": "stdout",
     "output_type": "stream",
     "text": [
      "Epoch 1 - Accuracy: 0.7930, Validation Accuracy: 0.8068\n",
      "Epoch 2 - Accuracy: 0.8363, Validation Accuracy: 0.8061\n",
      "Epoch 3 - Accuracy: 0.8389, Validation Accuracy: 0.7937\n",
      "Epoch 4 - Accuracy: 0.8416, Validation Accuracy: 0.7873\n",
      "Epoch 5 - Accuracy: 0.8400, Validation Accuracy: 0.8096\n",
      "Epoch 6 - Accuracy: 0.8376, Validation Accuracy: 0.8021\n",
      "Epoch 7 - Accuracy: 0.8350, Validation Accuracy: 0.8033\n",
      "Epoch 8 - Accuracy: 0.8280, Validation Accuracy: 0.7762\n",
      "Epoch 9 - Accuracy: 0.8232, Validation Accuracy: 0.7997\n",
      "Epoch 10 - Accuracy: 0.8350, Validation Accuracy: 0.7885\n",
      "\n",
      "Hamming Loss: 0.06431188276521185\n"
     ]
    }
   ],
   "source": [
    "# Get accuracy and validation accuracy\n",
    "accuracy = history.history['accuracy']\n",
    "val_accuracy = history.history['val_accuracy']\n",
    "\n",
    "# Print the accuracy and validation accuracy for each epoch\n",
    "for epoch in range(len(accuracy)):\n",
    "    print(f\"Epoch {epoch + 1} - Accuracy: {accuracy[epoch]:.4f}, Validation Accuracy: {val_accuracy[epoch]:.4f}\")\n",
    "    \n",
    "# Print hamming loss\n",
    "print(\"\\nHamming Loss:\", hamming_loss_value)"
   ]
  },
  {
   "cell_type": "code",
   "execution_count": 11,
   "id": "ceca2c42",
   "metadata": {},
   "outputs": [
    {
     "data": {
      "image/png": "[encoded data removed]",
      "text/plain": [
       "<Figure size 1000x400 with 2 Axes>"
      ]
     },
     "metadata": {},
     "output_type": "display_data"
    }
   ],
   "source": [
    "# Plot the training history\n",
    "plt.figure(figsize=(10, 4))\n",
    "\n",
    "# Accuracy/validation accuracy plot\n",
    "plt.subplot(1, 2, 1)\n",
    "plt.plot(history.history['accuracy'], label='Training Accuracy')\n",
    "plt.plot(history.history['val_accuracy'], label='Validation Accuracy')\n",
    "plt.xlabel('Epoch')\n",
    "plt.ylabel('Accuracy')\n",
    "plt.title('Accuracy during Training')\n",
    "plt.legend()\n",
    "\n",
    "# Loss/validation loss plot\n",
    "plt.subplot(1, 2, 2)\n",
    "plt.plot(history.history['loss'], label='Training Loss')\n",
    "plt.plot(history.history['val_loss'], label='Validation Loss')\n",
    "plt.xlabel('Epoch')\n",
    "plt.ylabel('Loss')\n",
    "plt.title('Loss during Training')\n",
    "plt.legend()\n",
    "\n",
    "plt.tight_layout()\n",
    "plt.show()"
   ]
  },
  {
   "cell_type": "markdown",
   "id": "414b266b",
   "metadata": {},
   "source": [
    "# Top 18 Codes\n",
    "\n",
    "The subsequent section will utalise a subset of the whole data. This subset only contains the set of top 18 codes by frequency these codes are (removed repeated codes):\n",
    "\n",
    "- A   \n",
    "- G\n",
    "- H\n",
    "\n",
    "The following models will be tested to get the accuracy and hamming loss:\n",
    "\n",
    "- Logistic Regression\n",
    "- Random Forest Classifier\n",
    "- Support Vector Machine\n",
    "- Deep Nerual Networks"
   ]
  },
  {
   "cell_type": "code",
   "execution_count": 3,
   "id": "3a21639c",
   "metadata": {},
   "outputs": [
    {
     "data": {
      "text/html": [
       "<div>\n",
       "<style scoped>\n",
       "    .dataframe tbody tr th:only-of-type {\n",
       "        vertical-align: middle;\n",
       "    }\n",
       "\n",
       "    .dataframe tbody tr th {\n",
       "        vertical-align: top;\n",
       "    }\n",
       "\n",
       "    .dataframe thead th {\n",
       "        text-align: right;\n",
       "    }\n",
       "</style>\n",
       "<table border=\"1\" class=\"dataframe\">\n",
       "  <thead>\n",
       "    <tr style=\"text-align: right;\">\n",
       "      <th></th>\n",
       "      <th>Context</th>\n",
       "      <th>Classification Codes</th>\n",
       "    </tr>\n",
       "  </thead>\n",
       "  <tbody>\n",
       "    <tr>\n",
       "      <th>0</th>\n",
       "      <td>processor compil system receiv predict model r...</td>\n",
       "      <td>[G]</td>\n",
       "    </tr>\n",
       "    <tr>\n",
       "      <th>1</th>\n",
       "      <td>imag sens devic imag sens devic includ substra...</td>\n",
       "      <td>[H]</td>\n",
       "    </tr>\n",
       "    <tr>\n",
       "      <th>2</th>\n",
       "      <td>antigen specif immunotherapi covid19 fusion pr...</td>\n",
       "      <td>[A]</td>\n",
       "    </tr>\n",
       "    <tr>\n",
       "      <th>3</th>\n",
       "      <td>secur deescal data access concept technolog di...</td>\n",
       "      <td>[G]</td>\n",
       "    </tr>\n",
       "    <tr>\n",
       "      <th>4</th>\n",
       "      <td>system method secur cloudbas physiolog data pr...</td>\n",
       "      <td>[G, A]</td>\n",
       "    </tr>\n",
       "  </tbody>\n",
       "</table>\n",
       "</div>"
      ],
      "text/plain": [
       "                                             Context Classification Codes\n",
       "0  processor compil system receiv predict model r...                  [G]\n",
       "1  imag sens devic imag sens devic includ substra...                  [H]\n",
       "2  antigen specif immunotherapi covid19 fusion pr...                  [A]\n",
       "3  secur deescal data access concept technolog di...                  [G]\n",
       "4  system method secur cloudbas physiolog data pr...               [G, A]"
      ]
     },
     "execution_count": 3,
     "metadata": {},
     "output_type": "execute_result"
    }
   ],
   "source": [
    "# Load the data for top 18 codes\n",
    "df = pd.read_csv('Data_Preprocessed_Section_Top18.csv')\n",
    "df['Classification Codes'] = df['Classification Codes'].apply(ast.literal_eval)\n",
    "df.head()"
   ]
  },
  {
   "cell_type": "code",
   "execution_count": 4,
   "id": "059ce850",
   "metadata": {},
   "outputs": [],
   "source": [
    "# Encode the \"Classification Codes\" column as multi-labels\n",
    "mlb = MultiLabelBinarizer()\n",
    "y = mlb.fit_transform(df['Classification Codes'])\n",
    "\n",
    "# Split the data into training(80%) and testing sets(20%)\n",
    "X_train, X_test, y_train, y_test = train_test_split(df['Context'], y, test_size=0.2, random_state=42)"
   ]
  },
  {
   "cell_type": "code",
   "execution_count": 5,
   "id": "70a1db22",
   "metadata": {},
   "outputs": [],
   "source": [
    "# Apply feature extraction using TfidfVectorizer\n",
    "vectorizer = TfidfVectorizer()\n",
    "X_train_vectorized = vectorizer.fit_transform(X_train)\n",
    "X_test_vectorized = vectorizer.transform(X_test)"
   ]
  },
  {
   "cell_type": "markdown",
   "id": "3cf599f7",
   "metadata": {},
   "source": [
    "##  Logistic Regression"
   ]
  },
  {
   "cell_type": "code",
   "execution_count": 15,
   "id": "b466738f",
   "metadata": {},
   "outputs": [
    {
     "name": "stdout",
     "output_type": "stream",
     "text": [
      "Accuracy: 0.6413704771053474\n",
      "Hamming Loss: 0.14558650869890064\n"
     ]
    }
   ],
   "source": [
    "logistic_regression = LogisticRegression()\n",
    "\n",
    "# Use MultiOutputClassifier for multi-label classification\n",
    "multi_label_classifier = MultiOutputClassifier(logistic_regression)\n",
    "\n",
    "# Train the model\n",
    "multi_label_classifier.fit(X_train_vectorized, y_train)\n",
    "\n",
    "# Make predictions\n",
    "y_pred = multi_label_classifier.predict(X_test_vectorized)\n",
    "\n",
    "# Evaluate the model\n",
    "accuracy = accuracy_score(y_test, y_pred)\n",
    "hamming_loss_value = hamming_loss(y_test, y_pred)\n",
    "\n",
    "print(\"Accuracy:\", accuracy)\n",
    "print(\"Hamming Loss:\", hamming_loss_value)"
   ]
  },
  {
   "cell_type": "markdown",
   "id": "b68515ae",
   "metadata": {},
   "source": [
    "## Random Forest "
   ]
  },
  {
   "cell_type": "code",
   "execution_count": 16,
   "id": "60fd8f98",
   "metadata": {},
   "outputs": [
    {
     "name": "stdout",
     "output_type": "stream",
     "text": [
      "Accuracy: 0.6990073647134166\n",
      "Hamming Loss: 0.1212509339310492\n"
     ]
    }
   ],
   "source": [
    "classifier = RandomForestClassifier()\n",
    "\n",
    "# Use MultiOutputClassifier for multi-label classification\n",
    "multi_label_classifier = MultiOutputClassifier(classifier)\n",
    "\n",
    "# Train the model\n",
    "multi_label_classifier.fit(X_train_vectorized, y_train)\n",
    "\n",
    "# Make predictions\n",
    "y_pred = multi_label_classifier.predict(X_test_vectorized)\n",
    "\n",
    "# Evaluate the model\n",
    "accuracy = accuracy_score(y_test, y_pred)\n",
    "hamming_loss_value = hamming_loss(y_test, y_pred)\n",
    "\n",
    "print(\"Accuracy:\", accuracy)\n",
    "print(\"Hamming Loss:\", hamming_loss_value)"
   ]
  },
  {
   "cell_type": "markdown",
   "id": "dc0108ee",
   "metadata": {},
   "source": [
    "## Support Vector Machine  (One vs Rest)\n"
   ]
  },
  {
   "cell_type": "code",
   "execution_count": 6,
   "id": "a6023654",
   "metadata": {},
   "outputs": [
    {
     "name": "stdout",
     "output_type": "stream",
     "text": [
      "Accuracy: 0.5933397374319564\n",
      "Hamming Loss: 0.16853452876507632\n"
     ]
    }
   ],
   "source": [
    "svm_classifier = SVC(kernel='linear')\n",
    "\n",
    "# Use MultiOutputClassifier for multi-label classification\n",
    "multi_label_classifier = MultiOutputClassifier(svm_classifier)\n",
    "\n",
    "# Train the model\n",
    "multi_label_classifier.fit(X_train_vectorized, y_train)\n",
    "\n",
    "# Make predictions\n",
    "y_pred = multi_label_classifier.predict(X_test_vectorized)\n",
    "\n",
    "# Evaluate the model\n",
    "accuracy = accuracy_score(y_test, y_pred)\n",
    "hamming_loss_value = hamming_loss(y_test, y_pred)\n",
    "\n",
    "print(\"Accuracy:\", accuracy)\n",
    "print(\"Hamming Loss:\", hamming_loss_value)"
   ]
  },
  {
   "cell_type": "markdown",
   "id": "77e3b3c9",
   "metadata": {},
   "source": [
    "## Deep Neural Networks "
   ]
  },
  {
   "cell_type": "code",
   "execution_count": 7,
   "id": "3cd165a1",
   "metadata": {},
   "outputs": [
    {
     "name": "stderr",
     "output_type": "stream",
     "text": [
      "2023-07-27 11:16:08.771648: I tensorflow/core/platform/cpu_feature_guard.cc:193] This TensorFlow binary is optimized with oneAPI Deep Neural Network Library (oneDNN) to use the following CPU instructions in performance-critical operations:  SSE4.1 SSE4.2\n",
      "To enable them in other operations, rebuild TensorFlow with the appropriate compiler flags.\n"
     ]
    },
    {
     "name": "stdout",
     "output_type": "stream",
     "text": [
      "Epoch 1/10\n",
      "313/313 [==============================] - 11s 33ms/step - loss: 0.3133 - accuracy: 0.8274 - val_loss: 0.2812 - val_accuracy: 0.8571\n",
      "Epoch 2/10\n",
      "313/313 [==============================] - 8s 26ms/step - loss: 0.1532 - accuracy: 0.8733 - val_loss: 0.3010 - val_accuracy: 0.8463\n",
      "Epoch 3/10\n",
      "313/313 [==============================] - 9s 27ms/step - loss: 0.0747 - accuracy: 0.8839 - val_loss: 0.3858 - val_accuracy: 0.8463\n",
      "Epoch 4/10\n",
      "313/313 [==============================] - 7s 24ms/step - loss: 0.0379 - accuracy: 0.8818 - val_loss: 0.4764 - val_accuracy: 0.8451\n",
      "Epoch 5/10\n",
      "313/313 [==============================] - 7s 23ms/step - loss: 0.0208 - accuracy: 0.8797 - val_loss: 0.5742 - val_accuracy: 0.8379\n",
      "Epoch 6/10\n",
      "313/313 [==============================] - 7s 22ms/step - loss: 0.0156 - accuracy: 0.8807 - val_loss: 0.6425 - val_accuracy: 0.8575\n",
      "Epoch 7/10\n",
      "313/313 [==============================] - 8s 24ms/step - loss: 0.0087 - accuracy: 0.8780 - val_loss: 0.7151 - val_accuracy: 0.8487\n",
      "Epoch 8/10\n",
      "313/313 [==============================] - 7s 22ms/step - loss: 0.0062 - accuracy: 0.8680 - val_loss: 0.7572 - val_accuracy: 0.8447\n",
      "Epoch 9/10\n",
      "313/313 [==============================] - 8s 25ms/step - loss: 0.0073 - accuracy: 0.8742 - val_loss: 0.7569 - val_accuracy: 0.8415\n",
      "Epoch 10/10\n",
      "313/313 [==============================] - 7s 23ms/step - loss: 0.0075 - accuracy: 0.8754 - val_loss: 0.8246 - val_accuracy: 0.8435\n",
      "98/98 [==============================] - 1s 9ms/step\n"
     ]
    }
   ],
   "source": [
    "# Convert sparse matrices to dense NumPy arrays\n",
    "X_train_dense = X_train_vectorized.toarray()\n",
    "X_test_dense = X_test_vectorized.toarray()\n",
    "\n",
    "# Build deep neural network model\n",
    "model = Sequential()\n",
    "model.add(Dense(64, activation='relu', input_shape=(X_train_dense.shape[1],)))\n",
    "model.add(Dense(32, activation='relu'))\n",
    "model.add(Dense(y.shape[1], activation='sigmoid'))  # Use sigmoid activation for multi-label classification\n",
    "\n",
    "# Compile the model\n",
    "model.compile(optimizer=Adam(learning_rate=0.001), loss='binary_crossentropy', metrics=['accuracy'])\n",
    "\n",
    "# Train the model\n",
    "history = model.fit(X_train_dense, y_train, batch_size=32, epochs=10, validation_split=0.2)\n",
    "\n",
    "# Make predictions\n",
    "y_pred_proba = model.predict(X_test_dense)\n",
    "y_pred = (y_pred_proba > 0.5).astype(int)\n",
    "\n",
    "# Evaluate the model\n",
    "hamming_loss_value = hamming_loss(y_test, y_pred)"
   ]
  },
  {
   "cell_type": "code",
   "execution_count": 8,
   "id": "46bad7ea",
   "metadata": {},
   "outputs": [
    {
     "name": "stdout",
     "output_type": "stream",
     "text": [
      "Epoch 1 - Accuracy: 0.8274, Validation Accuracy: 0.8571\n",
      "Epoch 2 - Accuracy: 0.8733, Validation Accuracy: 0.8463\n",
      "Epoch 3 - Accuracy: 0.8839, Validation Accuracy: 0.8463\n",
      "Epoch 4 - Accuracy: 0.8818, Validation Accuracy: 0.8451\n",
      "Epoch 5 - Accuracy: 0.8797, Validation Accuracy: 0.8379\n",
      "Epoch 6 - Accuracy: 0.8807, Validation Accuracy: 0.8575\n",
      "Epoch 7 - Accuracy: 0.8780, Validation Accuracy: 0.8487\n",
      "Epoch 8 - Accuracy: 0.8680, Validation Accuracy: 0.8447\n",
      "Epoch 9 - Accuracy: 0.8742, Validation Accuracy: 0.8415\n",
      "Epoch 10 - Accuracy: 0.8754, Validation Accuracy: 0.8435\n",
      "\n",
      "Hamming Loss: 0.12381257338029672\n"
     ]
    }
   ],
   "source": [
    "# Get accuracy and validation accuracy\n",
    "accuracy = history.history['accuracy']\n",
    "val_accuracy = history.history['val_accuracy']\n",
    "\n",
    "# Print the accuracy and validation accuracy for each epoch\n",
    "for epoch in range(len(accuracy)):\n",
    "    print(f\"Epoch {epoch + 1} - Accuracy: {accuracy[epoch]:.4f}, Validation Accuracy: {val_accuracy[epoch]:.4f}\")\n",
    "    \n",
    "# Print hamming loss\n",
    "print(\"\\nHamming Loss:\", hamming_loss_value)"
   ]
  },
  {
   "cell_type": "code",
   "execution_count": 9,
   "id": "beb9814b",
   "metadata": {},
   "outputs": [
    {
     "data": {
      "image/png": "[encoded data removed]",
      "text/plain": [
       "<Figure size 1000x400 with 2 Axes>"
      ]
     },
     "metadata": {},
     "output_type": "display_data"
    }
   ],
   "source": [
    "# Plot the training history\n",
    "plt.figure(figsize=(10, 4))\n",
    "\n",
    "# Accuracy/validation accuracy plot\n",
    "plt.subplot(1, 2, 1)\n",
    "plt.plot(history.history['accuracy'], label='Training Accuracy')\n",
    "plt.plot(history.history['val_accuracy'], label='Validation Accuracy')\n",
    "plt.xlabel('Epoch')\n",
    "plt.ylabel('Accuracy')\n",
    "plt.title('Accuracy during Training')\n",
    "plt.legend()\n",
    "\n",
    "# Loss/validation loss plot\n",
    "plt.subplot(1, 2, 2)\n",
    "plt.plot(history.history['loss'], label='Training Loss')\n",
    "plt.plot(history.history['val_loss'], label='Validation Loss')\n",
    "plt.xlabel('Epoch')\n",
    "plt.ylabel('Loss')\n",
    "plt.title('Loss during Training')\n",
    "plt.legend()\n",
    "\n",
    "plt.tight_layout()\n",
    "plt.show()"
   ]
  },
  {
   "cell_type": "markdown",
   "id": "bcabe28e",
   "metadata": {},
   "source": [
    "# Selected 7 Codes\n",
    "\n",
    "The subsequent section will utalise a smaller subset of the whole data. This subset only contains the set of selected 7 codes by Beyond Blood, these codes are (removed repeated codes):\n",
    "\n",
    "- A    \n",
    "- G\n",
    "\n",
    "\n",
    "The following models will be tested to get the accuracy and hamming loss:\n",
    "\n",
    "- Logistic Regression\n",
    "- Random Forest Classifier\n",
    "- Support Vector Machine\n",
    "- Deep Nerual Networks"
   ]
  },
  {
   "cell_type": "code",
   "execution_count": 10,
   "id": "7052519c",
   "metadata": {},
   "outputs": [
    {
     "data": {
      "text/html": [
       "<div>\n",
       "<style scoped>\n",
       "    .dataframe tbody tr th:only-of-type {\n",
       "        vertical-align: middle;\n",
       "    }\n",
       "\n",
       "    .dataframe tbody tr th {\n",
       "        vertical-align: top;\n",
       "    }\n",
       "\n",
       "    .dataframe thead th {\n",
       "        text-align: right;\n",
       "    }\n",
       "</style>\n",
       "<table border=\"1\" class=\"dataframe\">\n",
       "  <thead>\n",
       "    <tr style=\"text-align: right;\">\n",
       "      <th></th>\n",
       "      <th>Context</th>\n",
       "      <th>Classification Codes</th>\n",
       "    </tr>\n",
       "  </thead>\n",
       "  <tbody>\n",
       "    <tr>\n",
       "      <th>0</th>\n",
       "      <td>processor compil system receiv predict model r...</td>\n",
       "      <td>[G]</td>\n",
       "    </tr>\n",
       "    <tr>\n",
       "      <th>1</th>\n",
       "      <td>antigen specif immunotherapi covid19 fusion pr...</td>\n",
       "      <td>[A]</td>\n",
       "    </tr>\n",
       "    <tr>\n",
       "      <th>2</th>\n",
       "      <td>secur deescal data access concept technolog di...</td>\n",
       "      <td>[G]</td>\n",
       "    </tr>\n",
       "    <tr>\n",
       "      <th>3</th>\n",
       "      <td>system method secur cloudbas physiolog data pr...</td>\n",
       "      <td>[G, A]</td>\n",
       "    </tr>\n",
       "    <tr>\n",
       "      <th>4</th>\n",
       "      <td>collim detector base medic imag system medic i...</td>\n",
       "      <td>[G, A]</td>\n",
       "    </tr>\n",
       "  </tbody>\n",
       "</table>\n",
       "</div>"
      ],
      "text/plain": [
       "                                             Context Classification Codes\n",
       "0  processor compil system receiv predict model r...                  [G]\n",
       "1  antigen specif immunotherapi covid19 fusion pr...                  [A]\n",
       "2  secur deescal data access concept technolog di...                  [G]\n",
       "3  system method secur cloudbas physiolog data pr...               [G, A]\n",
       "4  collim detector base medic imag system medic i...               [G, A]"
      ]
     },
     "execution_count": 10,
     "metadata": {},
     "output_type": "execute_result"
    }
   ],
   "source": [
    "# Load the data for selected 7 codes by Beyond Blood\n",
    "df = pd.read_csv('Data_Preprocessed_Section_Selected7.csv')\n",
    "df['Classification Codes'] = df['Classification Codes'].apply(ast.literal_eval)\n",
    "df.head()"
   ]
  },
  {
   "cell_type": "code",
   "execution_count": 11,
   "id": "308a08e2",
   "metadata": {},
   "outputs": [],
   "source": [
    "# Encode the \"Classification Codes\" column as multi-labels\n",
    "mlb = MultiLabelBinarizer()\n",
    "y = mlb.fit_transform(df['Classification Codes'])\n",
    "\n",
    "# Split the data into training(80%) and testing sets(20%)\n",
    "X_train, X_test, y_train, y_test = train_test_split(df['Context'], y, test_size=0.2, random_state=42)"
   ]
  },
  {
   "cell_type": "code",
   "execution_count": 12,
   "id": "a8536e42",
   "metadata": {},
   "outputs": [],
   "source": [
    "# Apply feature extraction using TfidfVectorizer\n",
    "vectorizer = TfidfVectorizer()\n",
    "X_train_vectorized = vectorizer.fit_transform(X_train)\n",
    "X_test_vectorized = vectorizer.transform(X_test)"
   ]
  },
  {
   "cell_type": "markdown",
   "id": "da32c448",
   "metadata": {},
   "source": [
    "## Logistic Regression "
   ]
  },
  {
   "cell_type": "code",
   "execution_count": 13,
   "id": "cdd60c5b",
   "metadata": {},
   "outputs": [
    {
     "name": "stdout",
     "output_type": "stream",
     "text": [
      "Accuracy: 0.7347826086956522\n",
      "Hamming Loss: 0.1423913043478261\n"
     ]
    }
   ],
   "source": [
    "logistic_regression = LogisticRegression()\n",
    "\n",
    "# Use MultiOutputClassifier for multi-label classification\n",
    "multi_label_classifier = MultiOutputClassifier(logistic_regression)\n",
    "\n",
    "# Train the model\n",
    "multi_label_classifier.fit(X_train_vectorized, y_train)\n",
    "\n",
    "# Make predictions\n",
    "y_pred = multi_label_classifier.predict(X_test_vectorized)\n",
    "\n",
    "# Evaluate the model\n",
    "accuracy = accuracy_score(y_test, y_pred)\n",
    "hamming_loss_value = hamming_loss(y_test, y_pred)\n",
    "\n",
    "print(\"Accuracy:\", accuracy)\n",
    "print(\"Hamming Loss:\", hamming_loss_value)"
   ]
  },
  {
   "cell_type": "markdown",
   "id": "4b919cf5",
   "metadata": {},
   "source": [
    "## Random Forest "
   ]
  },
  {
   "cell_type": "code",
   "execution_count": 14,
   "id": "ab46b98a",
   "metadata": {},
   "outputs": [
    {
     "name": "stdout",
     "output_type": "stream",
     "text": [
      "Accuracy: 0.7579710144927536\n",
      "Hamming Loss: 0.13152173913043477\n"
     ]
    }
   ],
   "source": [
    "classifier = RandomForestClassifier()\n",
    "\n",
    "# Use MultiOutputClassifier for multi-label classification\n",
    "multi_label_classifier = MultiOutputClassifier(classifier)\n",
    "\n",
    "# Train the model\n",
    "multi_label_classifier.fit(X_train_vectorized, y_train)\n",
    "\n",
    "# Make predictions\n",
    "y_pred = multi_label_classifier.predict(X_test_vectorized)\n",
    "\n",
    "# Evaluate the model\n",
    "accuracy = accuracy_score(y_test, y_pred)\n",
    "hamming_loss_value = hamming_loss(y_test, y_pred)\n",
    "\n",
    "print(\"Accuracy:\", accuracy)\n",
    "print(\"Hamming Loss:\", hamming_loss_value)"
   ]
  },
  {
   "cell_type": "markdown",
   "id": "2ee88926",
   "metadata": {},
   "source": [
    "## Support Vector Machine  (One vs Rest)\n"
   ]
  },
  {
   "cell_type": "code",
   "execution_count": 15,
   "id": "c6c5bab4",
   "metadata": {},
   "outputs": [
    {
     "name": "stdout",
     "output_type": "stream",
     "text": [
      "Accuracy: 0.7152173913043478\n",
      "Hamming Loss: 0.1559782608695652\n"
     ]
    }
   ],
   "source": [
    "svm_classifier = SVC(kernel='linear')\n",
    "\n",
    "# Use MultiOutputClassifier for multi-label classification\n",
    "multi_label_classifier = MultiOutputClassifier(svm_classifier)\n",
    "\n",
    "# Train the model\n",
    "multi_label_classifier.fit(X_train_vectorized, y_train)\n",
    "\n",
    "# Make predictions\n",
    "y_pred = multi_label_classifier.predict(X_test_vectorized)\n",
    "\n",
    "# Evaluate the model\n",
    "accuracy = accuracy_score(y_test, y_pred)\n",
    "hamming_loss_value = hamming_loss(y_test, y_pred)\n",
    "\n",
    "print(\"Accuracy:\", accuracy)\n",
    "print(\"Hamming Loss:\", hamming_loss_value)"
   ]
  },
  {
   "cell_type": "markdown",
   "id": "b6229fc4",
   "metadata": {},
   "source": [
    "## Deep Neural Networks"
   ]
  },
  {
   "cell_type": "code",
   "execution_count": 16,
   "id": "cbe2f564",
   "metadata": {},
   "outputs": [
    {
     "name": "stdout",
     "output_type": "stream",
     "text": [
      "Epoch 1/10\n",
      "276/276 [==============================] - 9s 32ms/step - loss: 0.3005 - accuracy: 0.8525 - val_loss: 0.2589 - val_accuracy: 0.8650\n",
      "Epoch 2/10\n",
      "276/276 [==============================] - 6s 23ms/step - loss: 0.1421 - accuracy: 0.8963 - val_loss: 0.3192 - val_accuracy: 0.8705\n",
      "Epoch 3/10\n",
      "276/276 [==============================] - 7s 26ms/step - loss: 0.0630 - accuracy: 0.9042 - val_loss: 0.3887 - val_accuracy: 0.8736\n",
      "Epoch 4/10\n",
      "276/276 [==============================] - 7s 24ms/step - loss: 0.0262 - accuracy: 0.9006 - val_loss: 0.5166 - val_accuracy: 0.8650\n",
      "Epoch 5/10\n",
      "276/276 [==============================] - 7s 27ms/step - loss: 0.0107 - accuracy: 0.8994 - val_loss: 0.5903 - val_accuracy: 0.8601\n",
      "Epoch 6/10\n",
      "276/276 [==============================] - 6s 22ms/step - loss: 0.0133 - accuracy: 0.8896 - val_loss: 0.6555 - val_accuracy: 0.8510\n",
      "Epoch 7/10\n",
      "276/276 [==============================] - 6s 23ms/step - loss: 0.0082 - accuracy: 0.8932 - val_loss: 0.7238 - val_accuracy: 0.8650\n",
      "Epoch 8/10\n",
      "276/276 [==============================] - 6s 23ms/step - loss: 0.0043 - accuracy: 0.8924 - val_loss: 0.8075 - val_accuracy: 0.8424\n",
      "Epoch 9/10\n",
      "276/276 [==============================] - 6s 22ms/step - loss: 0.0030 - accuracy: 0.8902 - val_loss: 0.8643 - val_accuracy: 0.8573\n",
      "Epoch 10/10\n",
      "276/276 [==============================] - 7s 25ms/step - loss: 0.0026 - accuracy: 0.8893 - val_loss: 0.9376 - val_accuracy: 0.8668\n",
      "87/87 [==============================] - 1s 10ms/step\n"
     ]
    }
   ],
   "source": [
    "# Convert sparse matrices to dense NumPy arrays\n",
    "X_train_dense = X_train_vectorized.toarray()\n",
    "X_test_dense = X_test_vectorized.toarray()\n",
    "\n",
    "# Build the deep neural network model\n",
    "model = Sequential()\n",
    "model.add(Dense(64, activation='relu', input_shape=(X_train_dense.shape[1],)))\n",
    "model.add(Dense(32, activation='relu'))\n",
    "model.add(Dense(y.shape[1], activation='sigmoid'))  # Use sigmoid activation for multi-label classification\n",
    "\n",
    "# Compile the model\n",
    "model.compile(optimizer=Adam(learning_rate=0.001), loss='binary_crossentropy', metrics=['accuracy'])\n",
    "\n",
    "# Train the model\n",
    "history = model.fit(X_train_dense, y_train, batch_size=32, epochs=10, validation_split=0.2)\n",
    "\n",
    "# Make predictions\n",
    "y_pred_proba = model.predict(X_test_dense)\n",
    "y_pred = (y_pred_proba > 0.5).astype(int)\n",
    "\n",
    "# Evaluate the model\n",
    "hamming_loss_value = hamming_loss(y_test, y_pred)"
   ]
  },
  {
   "cell_type": "code",
   "execution_count": 17,
   "id": "3c2ed157",
   "metadata": {},
   "outputs": [
    {
     "name": "stdout",
     "output_type": "stream",
     "text": [
      "Epoch 1 - Accuracy: 0.8525, Validation Accuracy: 0.8650\n",
      "Epoch 2 - Accuracy: 0.8963, Validation Accuracy: 0.8705\n",
      "Epoch 3 - Accuracy: 0.9042, Validation Accuracy: 0.8736\n",
      "Epoch 4 - Accuracy: 0.9006, Validation Accuracy: 0.8650\n",
      "Epoch 5 - Accuracy: 0.8994, Validation Accuracy: 0.8601\n",
      "Epoch 6 - Accuracy: 0.8896, Validation Accuracy: 0.8510\n",
      "Epoch 7 - Accuracy: 0.8932, Validation Accuracy: 0.8650\n",
      "Epoch 8 - Accuracy: 0.8924, Validation Accuracy: 0.8424\n",
      "Epoch 9 - Accuracy: 0.8902, Validation Accuracy: 0.8573\n",
      "Epoch 10 - Accuracy: 0.8893, Validation Accuracy: 0.8668\n",
      "\n",
      "Hamming Loss: 0.12536231884057972\n"
     ]
    }
   ],
   "source": [
    "# Get accuracy and validation accuracy\n",
    "accuracy = history.history['accuracy']\n",
    "val_accuracy = history.history['val_accuracy']\n",
    "\n",
    "# Print the accuracy and validation accuracy for each epoch\n",
    "for epoch in range(len(accuracy)):\n",
    "    print(f\"Epoch {epoch + 1} - Accuracy: {accuracy[epoch]:.4f}, Validation Accuracy: {val_accuracy[epoch]:.4f}\")\n",
    "    \n",
    "# Print hamming loss\n",
    "print(\"\\nHamming Loss:\", hamming_loss_value)"
   ]
  },
  {
   "cell_type": "code",
   "execution_count": 18,
   "id": "c0634037",
   "metadata": {},
   "outputs": [
    {
     "data": {
      "image/png": "[encoded data removed]",
      "text/plain": [
       "<Figure size 1000x400 with 2 Axes>"
      ]
     },
     "metadata": {},
     "output_type": "display_data"
    }
   ],
   "source": [
    "# Plot the training history\n",
    "plt.figure(figsize=(10, 4))\n",
    "\n",
    "# Accuracy/validation accuracy plot\n",
    "plt.subplot(1, 2, 1)\n",
    "plt.plot(history.history['accuracy'], label='Training Accuracy')\n",
    "plt.plot(history.history['val_accuracy'], label='Validation Accuracy')\n",
    "plt.xlabel('Epoch')\n",
    "plt.ylabel('Accuracy')\n",
    "plt.title('Accuracy during Training')\n",
    "plt.legend()\n",
    "\n",
    "# Loss/validation loss plot\n",
    "plt.subplot(1, 2, 2)\n",
    "plt.plot(history.history['loss'], label='Training Loss')\n",
    "plt.plot(history.history['val_loss'], label='Validation Loss')\n",
    "plt.xlabel('Epoch')\n",
    "plt.ylabel('Loss')\n",
    "plt.title('Loss during Training')\n",
    "plt.legend()\n",
    "\n",
    "plt.tight_layout()\n",
    "plt.show()"
   ]
  },
  {
   "cell_type": "markdown",
   "id": "28db345b",
   "metadata": {},
   "source": [
    "# Results\n",
    "This section presents all results from the model into a table format for ease of visualisation"
   ]
  },
  {
   "cell_type": "code",
   "execution_count": 19,
   "id": "3e24e76d",
   "metadata": {},
   "outputs": [],
   "source": [
    "def results_table(data):\n",
    "    table = PrettyTable()\n",
    "    \n",
    "    # Define column headers\n",
    "    table.field_names = [\"Model\", \"Accuracy\", \"Hamming Loss\"]\n",
    "    \n",
    "    # Add data\n",
    "    for row in data:\n",
    "        table.add_row(row)\n",
    "        \n",
    "    # Align data\n",
    "    table.align[\"Model\"] = \"l\"\n",
    "    table.align[\"Accuracy\"] = \"r\"\n",
    "    table.align[\"Hamming Loss\"] = \"r\"\n",
    "    table.float_format = \".4\"\n",
    "\n",
    "    print(table)"
   ]
  },
  {
   "cell_type": "code",
   "execution_count": 20,
   "id": "8772f643",
   "metadata": {},
   "outputs": [
    {
     "name": "stdout",
     "output_type": "stream",
     "text": [
      "\t\t       \u001b[1mAll Data\u001b[0m\n",
      "+------------------------+----------+--------------+\n",
      "| Model                  | Accuracy | Hamming Loss |\n",
      "+------------------------+----------+--------------+\n",
      "| Logistic Regression    |   0.5594 |       0.0720 |\n",
      "| Random Forest          |   0.6285 |       0.0606 |\n",
      "| Support Vector Machine |   0.5148 |       0.0816 |\n",
      "| Deep Neural Networks   |   0.8096 |       0.0643 |\n",
      "+------------------------+----------+--------------+\n",
      "\n",
      "\n",
      "\t\t        \u001b[1mTop 18\u001b[0m\n",
      "+------------------------+----------+--------------+\n",
      "| Model                  | Accuracy | Hamming Loss |\n",
      "+------------------------+----------+--------------+\n",
      "| Logistic Regression    |   0.6414 |       0.1456 |\n",
      "| Random Forest          |   0.6990 |       0.1213 |\n",
      "| Support Vector Machine |   0.5933 |       0.1685 |\n",
      "| Deep Neural Networks   |   0.8575 |       0.1238 |\n",
      "+------------------------+----------+--------------+\n",
      "\n",
      "\n",
      "\t\t       \u001b[1mSelected 7\u001b[0m\n",
      "+------------------------+----------+--------------+\n",
      "| Model                  | Accuracy | Hamming Loss |\n",
      "+------------------------+----------+--------------+\n",
      "| Logistic Regression    |   0.7348 |       0.1424 |\n",
      "| Random Forest          |   0.7580 |       0.1315 |\n",
      "| Support Vector Machine |   0.7152 |       0.1560 |\n",
      "| Deep Neural Networks   |   0.8736 |       0.1254 |\n",
      "+------------------------+----------+--------------+\n"
     ]
    }
   ],
   "source": [
    "# Data for the table\n",
    "data_all = [\n",
    "    [\"Logistic Regression\", 0.5594, 0.0720],\n",
    "    [\"Random Forest\", 0.6285, 0.0606],\n",
    "    [\"Support Vector Machine\", 0.5148, 0.0816],\n",
    "    [\"Deep Neural Networks\", 0.8096, 0.0643]\n",
    "]\n",
    "\n",
    "data_top18 = [\n",
    "    [\"Logistic Regression\", 0.6414, 0.1456],\n",
    "    [\"Random Forest\", 0.6990, 0.1213],\n",
    "    [\"Support Vector Machine\", 0.5933, 0.1685],\n",
    "    [\"Deep Neural Networks\", 0.8575, 0.1238]\n",
    "]\n",
    "\n",
    "data_selected7 = [\n",
    "    [\"Logistic Regression\", 0.7348, 0.1424],\n",
    "    [\"Random Forest\", 0.7580, 0.1315],\n",
    "    [\"Support Vector Machine\", 0.7152, 0.1560],\n",
    "    [\"Deep Neural Networks\", 0.8736, 0.1254]\n",
    "]\n",
    "\n",
    "print(\"\\t\\t       \\033[1mAll Data\\033[0m\")\n",
    "results_table(data_all)\n",
    "\n",
    "print(\"\\n\\n\\t\\t        \\033[1mTop 18\\033[0m\")\n",
    "results_table(data_top18)\n",
    "\n",
    "print(\"\\n\\n\\t\\t       \\033[1mSelected 7\\033[0m\")\n",
    "results_table(data_selected7)"
   ]
  }
 ],
 "metadata": {
  "kernelspec": {
   "display_name": "Python 3 (ipykernel)",
   "language": "python",
   "name": "python3"
  },
  "language_info": {
   "codemirror_mode": {
    "name": "ipython",
    "version": 3
   },
   "file_extension": ".py",
   "mimetype": "text/x-python",
   "name": "python",
   "nbconvert_exporter": "python",
   "pygments_lexer": "ipython3",
   "version": "3.10.12"
  }
 },
 "nbformat": 4,
 "nbformat_minor": 5
}
