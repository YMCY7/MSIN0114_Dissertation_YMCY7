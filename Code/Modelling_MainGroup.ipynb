{
 "cells": [
  {
   "cell_type": "markdown",
   "id": "6f9b29be",
   "metadata": {},
   "source": [
    "# This Notebook is Model Testing for MainGroup instances of Classification Codes"
   ]
  },
  {
   "cell_type": "code",
   "execution_count": 34,
   "id": "0003f91e",
   "metadata": {},
   "outputs": [],
   "source": [
    "# Import all necessary packages\n",
    "\n",
    "import ast\n",
    "import nltk\n",
    "import string\n",
    "import numpy as np\n",
    "import pandas as pd\n",
    "\n",
    "from nltk.corpus import stopwords\n",
    "from nltk.stem import PorterStemmer\n",
    "from nltk.tokenize import word_tokenize\n",
    "\n",
    "from sklearn.svm import SVC\n",
    "from sklearn.linear_model import LogisticRegression\n",
    "from sklearn.ensemble import RandomForestClassifier\n",
    "from sklearn.model_selection import train_test_split\n",
    "from sklearn.multioutput import MultiOutputClassifier\n",
    "from sklearn.metrics import accuracy_score, hamming_loss\n",
    "from sklearn.feature_extraction.text import TfidfVectorizer\n",
    "from sklearn.preprocessing import MultiLabelBinarizer, LabelEncoder\n",
    "\n",
    "from keras.models import Sequential\n",
    "from keras.layers import Dense\n",
    "from keras.optimizers import Adam\n",
    "from matplotlib import pyplot as plt\n",
    "\n",
    "from prettytable import PrettyTable"
   ]
  },
  {
   "cell_type": "markdown",
   "id": "cd0efa5b",
   "metadata": {},
   "source": [
    "# All Data\n",
    "\n",
    "The subsequent section will test the performance of the following models on the whole dataset:\n",
    "\n",
    "- Logistic Regression\n",
    "- Random Forest Classifier\n",
    "- Support Vector Machine\n",
    "- Deep Nerual Networks\n"
   ]
  },
  {
   "cell_type": "code",
   "execution_count": 3,
   "id": "fab9a352",
   "metadata": {},
   "outputs": [
    {
     "data": {
      "text/html": [
       "<div>\n",
       "<style scoped>\n",
       "    .dataframe tbody tr th:only-of-type {\n",
       "        vertical-align: middle;\n",
       "    }\n",
       "\n",
       "    .dataframe tbody tr th {\n",
       "        vertical-align: top;\n",
       "    }\n",
       "\n",
       "    .dataframe thead th {\n",
       "        text-align: right;\n",
       "    }\n",
       "</style>\n",
       "<table border=\"1\" class=\"dataframe\">\n",
       "  <thead>\n",
       "    <tr style=\"text-align: right;\">\n",
       "      <th></th>\n",
       "      <th>Context</th>\n",
       "      <th>Classification Codes</th>\n",
       "    </tr>\n",
       "  </thead>\n",
       "  <tbody>\n",
       "    <tr>\n",
       "      <th>0</th>\n",
       "      <td>processor compil system receiv predict model r...</td>\n",
       "      <td>[G06N5/00, G06N20/00]</td>\n",
       "    </tr>\n",
       "    <tr>\n",
       "      <th>1</th>\n",
       "      <td>imag sens devic imag sens devic includ substra...</td>\n",
       "      <td>[H01L27/00]</td>\n",
       "    </tr>\n",
       "    <tr>\n",
       "      <th>2</th>\n",
       "      <td>antigen specif immunotherapi covid19 fusion pr...</td>\n",
       "      <td>[C07K14/00, A61P31/00, A61K38/00, A61K39/00, C...</td>\n",
       "    </tr>\n",
       "    <tr>\n",
       "      <th>3</th>\n",
       "      <td>secur deescal data access concept technolog di...</td>\n",
       "      <td>[G06F21/00]</td>\n",
       "    </tr>\n",
       "    <tr>\n",
       "      <th>4</th>\n",
       "      <td>system method secur cloudbas physiolog data pr...</td>\n",
       "      <td>[G06F21/00, G16H40/00, A61B5/00, G16H10/00, A6...</td>\n",
       "    </tr>\n",
       "  </tbody>\n",
       "</table>\n",
       "</div>"
      ],
      "text/plain": [
       "                                             Context  \\\n",
       "0  processor compil system receiv predict model r...   \n",
       "1  imag sens devic imag sens devic includ substra...   \n",
       "2  antigen specif immunotherapi covid19 fusion pr...   \n",
       "3  secur deescal data access concept technolog di...   \n",
       "4  system method secur cloudbas physiolog data pr...   \n",
       "\n",
       "                                Classification Codes  \n",
       "0                              [G06N5/00, G06N20/00]  \n",
       "1                                        [H01L27/00]  \n",
       "2  [C07K14/00, A61P31/00, A61K38/00, A61K39/00, C...  \n",
       "3                                        [G06F21/00]  \n",
       "4  [G06F21/00, G16H40/00, A61B5/00, G16H10/00, A6...  "
      ]
     },
     "execution_count": 3,
     "metadata": {},
     "output_type": "execute_result"
    }
   ],
   "source": [
    "# Load the data\n",
    "df = pd.read_csv('Data_Preprocessed_MainGroup.csv')\n",
    "df['Classification Codes'] = df['Classification Codes'].apply(ast.literal_eval)\n",
    "df.head()"
   ]
  },
  {
   "cell_type": "code",
   "execution_count": 4,
   "id": "0d7b2b90",
   "metadata": {},
   "outputs": [],
   "source": [
    "# As most multi-label classifiers requres each class to have multiple instances.\n",
    "# All codes which appear less than 5 times will be removed\n",
    "\n",
    "for i in range(10):\n",
    "\n",
    "    # Determine the codes to be removed\n",
    "    unique_codes = df['Classification Codes'].explode().value_counts()\n",
    "    codes_to_remove = unique_codes[unique_codes < 5 ].index.tolist()\n",
    "\n",
    "    # Remove rows with empty 'Classification Codes' column\n",
    "    df = df.dropna(subset=['Classification Codes'])\n",
    "\n",
    "    # Remove codes in the list codes_to_remove\n",
    "    df['CodeCount'] = df['Classification Codes'].apply(lambda codes: sum(code in codes_to_remove for code in codes))\n",
    "    df = df[df['CodeCount'] == 0].drop(columns=['CodeCount'])"
   ]
  },
  {
   "cell_type": "code",
   "execution_count": 5,
   "id": "94409c87",
   "metadata": {},
   "outputs": [
    {
     "name": "stdout",
     "output_type": "stream",
     "text": [
      "A61B5/00     2563\n",
      "A61B17/00    1749\n",
      "G06T7/00     1367\n",
      "G06K9/00     1141\n",
      "A61B90/00    1052\n",
      "             ... \n",
      "A61P23/00       5\n",
      "G01N31/00       5\n",
      "G01R27/00       5\n",
      "G08G5/00        5\n",
      "B64D47/00       5\n",
      "Name: Classification Codes, Length: 450, dtype: int64\n"
     ]
    }
   ],
   "source": [
    "# Now all codes will have a minimum of 5 instances\n",
    "print(unique_codes)"
   ]
  },
  {
   "cell_type": "code",
   "execution_count": 6,
   "id": "37709cb3",
   "metadata": {},
   "outputs": [],
   "source": [
    "# Encode \"Classification Codes\" column as multi-labels\n",
    "mlb = MultiLabelBinarizer()\n",
    "y = mlb.fit_transform(df['Classification Codes'])\n",
    "\n",
    "# Split the data into training(80%) and testing sets(20%)\n",
    "X_train, X_test, y_train, y_test = train_test_split(df['Context'], y, test_size=0.2, random_state=42)"
   ]
  },
  {
   "cell_type": "code",
   "execution_count": 7,
   "id": "451775bf",
   "metadata": {},
   "outputs": [],
   "source": [
    "# Apply feature extraction using TfidfVectorizer\n",
    "vectorizer = TfidfVectorizer()\n",
    "X_train_vectorized = vectorizer.fit_transform(X_train)\n",
    "X_test_vectorized = vectorizer.transform(X_test)"
   ]
  },
  {
   "cell_type": "markdown",
   "id": "fab897d1",
   "metadata": {},
   "source": [
    "## Logistic Regression "
   ]
  },
  {
   "cell_type": "code",
   "execution_count": 8,
   "id": "aec8debf",
   "metadata": {},
   "outputs": [
    {
     "name": "stdout",
     "output_type": "stream",
     "text": [
      "Accuracy: 0.0784452296819788\n",
      "Hamming Loss: 0.008143698468786808\n"
     ]
    }
   ],
   "source": [
    "logistic_regression = LogisticRegression()\n",
    "\n",
    "# Use MultiOutputClassifier for multi-label classification\n",
    "multi_label_classifier = MultiOutputClassifier(logistic_regression)\n",
    "\n",
    "# Train the model\n",
    "multi_label_classifier.fit(X_train_vectorized, y_train)\n",
    "\n",
    "# Make predictions\n",
    "y_pred = multi_label_classifier.predict(X_test_vectorized)\n",
    "\n",
    "# Evaluate the model\n",
    "accuracy = accuracy_score(y_test, y_pred)\n",
    "hamming_loss_value = hamming_loss(y_test, y_pred)\n",
    "\n",
    "print(\"Accuracy:\", accuracy)\n",
    "print(\"Hamming Loss:\", hamming_loss_value)"
   ]
  },
  {
   "cell_type": "markdown",
   "id": "92bd5546",
   "metadata": {},
   "source": [
    "## Random Forest Classifier \n"
   ]
  },
  {
   "cell_type": "code",
   "execution_count": 11,
   "id": "8eeb2c7f",
   "metadata": {},
   "outputs": [
    {
     "name": "stdout",
     "output_type": "stream",
     "text": [
      "Accuracy: 0.05265017667844523\n",
      "Hamming Loss: 0.007224185316058108\n"
     ]
    }
   ],
   "source": [
    "classifier = RandomForestClassifier()\n",
    "\n",
    "# Use MultiOutputClassifier for multi-label classification\n",
    "multi_label_classifier = MultiOutputClassifier(classifier)\n",
    "\n",
    "# Train the model\n",
    "multi_label_classifier.fit(X_train_vectorized, y_train)\n",
    "\n",
    "# Make predictions\n",
    "y_pred = multi_label_classifier.predict(X_test_vectorized)\n",
    "\n",
    "# Evaluate the model\n",
    "accuracy = accuracy_score(y_test, y_pred)\n",
    "hamming_loss_value = hamming_loss(y_test, y_pred)\n",
    "\n",
    "print(\"Accuracy:\", accuracy)\n",
    "print(\"Hamming Loss:\", hamming_loss_value)"
   ]
  },
  {
   "cell_type": "markdown",
   "id": "36763dd0",
   "metadata": {},
   "source": [
    "## Support Vector Machine  (One vs Rest)\n"
   ]
  },
  {
   "cell_type": "code",
   "execution_count": 12,
   "id": "8eb76bf0",
   "metadata": {},
   "outputs": [
    {
     "name": "stdout",
     "output_type": "stream",
     "text": [
      "Accuracy: 0.06431095406360424\n",
      "Hamming Loss: 0.009626226933647428\n"
     ]
    }
   ],
   "source": [
    "svm_classifier = SVC(kernel='linear')\n",
    "\n",
    "# Use MultiOutputClassifier for multi-label classification\n",
    "multi_label_classifier = MultiOutputClassifier(svm_classifier)\n",
    "\n",
    "# Train the model\n",
    "multi_label_classifier.fit(X_train_vectorized, y_train)\n",
    "\n",
    "# Make predictions\n",
    "y_pred = multi_label_classifier.predict(X_test_vectorized)\n",
    "\n",
    "# Evaluate the model\n",
    "accuracy = accuracy_score(y_test, y_pred)\n",
    "hamming_loss_value = hamming_loss(y_test, y_pred)\n",
    "\n",
    "print(\"Accuracy:\", accuracy)\n",
    "print(\"Hamming Loss:\", hamming_loss_value)"
   ]
  },
  {
   "cell_type": "markdown",
   "id": "872791d8",
   "metadata": {},
   "source": [
    "## Deep Neural Networks "
   ]
  },
  {
   "cell_type": "code",
   "execution_count": 13,
   "id": "d51bf718",
   "metadata": {},
   "outputs": [
    {
     "name": "stderr",
     "output_type": "stream",
     "text": [
      "2023-07-27 02:34:27.296705: I tensorflow/core/platform/cpu_feature_guard.cc:193] This TensorFlow binary is optimized with oneAPI Deep Neural Network Library (oneDNN) to use the following CPU instructions in performance-critical operations:  SSE4.1 SSE4.2\n",
      "To enable them in other operations, rebuild TensorFlow with the appropriate compiler flags.\n"
     ]
    },
    {
     "name": "stdout",
     "output_type": "stream",
     "text": [
      "Epoch 1/10\n",
      "283/283 [==============================] - 6s 20ms/step - loss: 0.0801 - accuracy: 0.2027 - val_loss: 0.0319 - val_accuracy: 0.2990\n",
      "Epoch 2/10\n",
      "283/283 [==============================] - 6s 21ms/step - loss: 0.0271 - accuracy: 0.3335 - val_loss: 0.0274 - val_accuracy: 0.3344\n",
      "Epoch 3/10\n",
      "283/283 [==============================] - 6s 20ms/step - loss: 0.0213 - accuracy: 0.3847 - val_loss: 0.0259 - val_accuracy: 0.3560\n",
      "Epoch 4/10\n",
      "283/283 [==============================] - 6s 21ms/step - loss: 0.0177 - accuracy: 0.4049 - val_loss: 0.0254 - val_accuracy: 0.3644\n",
      "Epoch 5/10\n",
      "283/283 [==============================] - 6s 20ms/step - loss: 0.0150 - accuracy: 0.4260 - val_loss: 0.0259 - val_accuracy: 0.3573\n",
      "Epoch 6/10\n",
      "283/283 [==============================] - 6s 21ms/step - loss: 0.0130 - accuracy: 0.4421 - val_loss: 0.0266 - val_accuracy: 0.3693\n",
      "Epoch 7/10\n",
      "283/283 [==============================] - 6s 20ms/step - loss: 0.0114 - accuracy: 0.4491 - val_loss: 0.0275 - val_accuracy: 0.3516\n",
      "Epoch 8/10\n",
      "283/283 [==============================] - 6s 21ms/step - loss: 0.0100 - accuracy: 0.4630 - val_loss: 0.0291 - val_accuracy: 0.3410\n",
      "Epoch 9/10\n",
      "283/283 [==============================] - 6s 20ms/step - loss: 0.0089 - accuracy: 0.4595 - val_loss: 0.0303 - val_accuracy: 0.3454\n",
      "Epoch 10/10\n",
      "283/283 [==============================] - 6s 20ms/step - loss: 0.0080 - accuracy: 0.4665 - val_loss: 0.0328 - val_accuracy: 0.3419\n",
      "89/89 [==============================] - 1s 8ms/step\n"
     ]
    }
   ],
   "source": [
    "# Convert sparse matrices to dense NumPy arrays\n",
    "X_train_dense = X_train_vectorized.toarray()\n",
    "X_test_dense = X_test_vectorized.toarray()\n",
    "\n",
    "# Build basic deep neural network model\n",
    "model = Sequential()\n",
    "model.add(Dense(64, activation='relu', input_shape=(X_train_dense.shape[1],)))\n",
    "model.add(Dense(32, activation='relu'))\n",
    "model.add(Dense(y.shape[1], activation='sigmoid'))  # Use sigmoid activation for multi-label classification\n",
    "\n",
    "# Compile the model\n",
    "model.compile(optimizer=Adam(learning_rate=0.001), loss='binary_crossentropy', metrics=['accuracy'])\n",
    "\n",
    "# Train the model\n",
    "history = model.fit(X_train_dense, y_train, batch_size=32, epochs=10, validation_split=0.2)\n",
    "\n",
    "# Make predictions\n",
    "y_pred_proba = model.predict(X_test_dense)\n",
    "y_pred = (y_pred_proba > 0.5).astype(int)\n",
    "\n",
    "# Evaluate the model\n",
    "hamming_loss_value = hamming_loss(y_test, y_pred)"
   ]
  },
  {
   "cell_type": "code",
   "execution_count": 14,
   "id": "cc4935f0",
   "metadata": {},
   "outputs": [
    {
     "name": "stdout",
     "output_type": "stream",
     "text": [
      "Epoch 1 - Accuracy: 0.2027, Validation Accuracy: 0.2990\n",
      "Epoch 2 - Accuracy: 0.3335, Validation Accuracy: 0.3344\n",
      "Epoch 3 - Accuracy: 0.3847, Validation Accuracy: 0.3560\n",
      "Epoch 4 - Accuracy: 0.4049, Validation Accuracy: 0.3644\n",
      "Epoch 5 - Accuracy: 0.4260, Validation Accuracy: 0.3573\n",
      "Epoch 6 - Accuracy: 0.4421, Validation Accuracy: 0.3693\n",
      "Epoch 7 - Accuracy: 0.4491, Validation Accuracy: 0.3516\n",
      "Epoch 8 - Accuracy: 0.4630, Validation Accuracy: 0.3410\n",
      "Epoch 9 - Accuracy: 0.4595, Validation Accuracy: 0.3454\n",
      "Epoch 10 - Accuracy: 0.4665, Validation Accuracy: 0.3419\n",
      "\n",
      "Hamming Loss: 0.007292500981546918\n"
     ]
    }
   ],
   "source": [
    "# Get accuracy and validation accuracy\n",
    "accuracy = history.history['accuracy']\n",
    "val_accuracy = history.history['val_accuracy']\n",
    "\n",
    "# Print the accuracy and validation accuracy for each epoch\n",
    "for epoch in range(len(accuracy)):\n",
    "    print(f\"Epoch {epoch + 1} - Accuracy: {accuracy[epoch]:.4f}, Validation Accuracy: {val_accuracy[epoch]:.4f}\")\n",
    "    \n",
    "# Print hamming loss\n",
    "print(\"\\nHamming Loss:\", hamming_loss_value)"
   ]
  },
  {
   "cell_type": "code",
   "execution_count": 15,
   "id": "ceca2c42",
   "metadata": {},
   "outputs": [
    {
     "data": {
      "image/png": "[encoded data removed]",
      "text/plain": [
       "<Figure size 1000x400 with 2 Axes>"
      ]
     },
     "metadata": {},
     "output_type": "display_data"
    }
   ],
   "source": [
    "# Plot the training history\n",
    "plt.figure(figsize=(10, 4))\n",
    "\n",
    "# Accuracy/validation accuracy plot\n",
    "plt.subplot(1, 2, 1)\n",
    "plt.plot(history.history['accuracy'], label='Training Accuracy')\n",
    "plt.plot(history.history['val_accuracy'], label='Validation Accuracy')\n",
    "plt.xlabel('Epoch')\n",
    "plt.ylabel('Accuracy')\n",
    "plt.title('Accuracy during Training')\n",
    "plt.legend()\n",
    "\n",
    "# Loss/validation loss plot\n",
    "plt.subplot(1, 2, 2)\n",
    "plt.plot(history.history['loss'], label='Training Loss')\n",
    "plt.plot(history.history['val_loss'], label='Validation Loss')\n",
    "plt.xlabel('Epoch')\n",
    "plt.ylabel('Loss')\n",
    "plt.title('Loss during Training')\n",
    "plt.legend()\n",
    "\n",
    "plt.tight_layout()\n",
    "plt.show()"
   ]
  },
  {
   "cell_type": "markdown",
   "id": "414b266b",
   "metadata": {},
   "source": [
    "# Top 18 Codes\n",
    "\n",
    "The subsequent section will utalise a subset of the whole data. This subset only contains the set of top 18 codes by frequency these codes are:\n",
    "\n",
    "- A61B5/00     \n",
    "- A61B17/00  \n",
    "- A61B90/00 \n",
    "- G06T7/00      \n",
    "- G06N20/00     \n",
    "- H04W72/00  \n",
    "- A61K9/00     \n",
    "- G06K9/00  \n",
    "- G16H10/00\n",
    "- A61B6/00\n",
    "- G06N3/00 \n",
    "- H04L5/00  \n",
    "- A61B18/00\n",
    "- A61K45/00  \n",
    "- G16H50/00\n",
    "- A61B1/00 \n",
    "- A61K39/00\n",
    "\n",
    "The following models will be tested to get the accuracy and hamming loss:\n",
    "\n",
    "- Logistic Regression\n",
    "- Random Forest Classifier\n",
    "- Support Vector Machine\n",
    "- Deep Nerual Networks"
   ]
  },
  {
   "cell_type": "code",
   "execution_count": 16,
   "id": "3a21639c",
   "metadata": {},
   "outputs": [
    {
     "data": {
      "text/html": [
       "<div>\n",
       "<style scoped>\n",
       "    .dataframe tbody tr th:only-of-type {\n",
       "        vertical-align: middle;\n",
       "    }\n",
       "\n",
       "    .dataframe tbody tr th {\n",
       "        vertical-align: top;\n",
       "    }\n",
       "\n",
       "    .dataframe thead th {\n",
       "        text-align: right;\n",
       "    }\n",
       "</style>\n",
       "<table border=\"1\" class=\"dataframe\">\n",
       "  <thead>\n",
       "    <tr style=\"text-align: right;\">\n",
       "      <th></th>\n",
       "      <th>Context</th>\n",
       "      <th>Classification Codes</th>\n",
       "    </tr>\n",
       "  </thead>\n",
       "  <tbody>\n",
       "    <tr>\n",
       "      <th>0</th>\n",
       "      <td>processor compil system receiv predict model r...</td>\n",
       "      <td>[G06N20/00]</td>\n",
       "    </tr>\n",
       "    <tr>\n",
       "      <th>1</th>\n",
       "      <td>antigen specif immunotherapi covid19 fusion pr...</td>\n",
       "      <td>[A61K39/00]</td>\n",
       "    </tr>\n",
       "    <tr>\n",
       "      <th>2</th>\n",
       "      <td>system method secur cloudbas physiolog data pr...</td>\n",
       "      <td>[A61B5/00, G16H10/00, A61B90/00]</td>\n",
       "    </tr>\n",
       "    <tr>\n",
       "      <th>3</th>\n",
       "      <td>collim detector base medic imag system medic i...</td>\n",
       "      <td>[A61B6/00]</td>\n",
       "    </tr>\n",
       "    <tr>\n",
       "      <th>4</th>\n",
       "      <td>method devic determin relat two entiti method ...</td>\n",
       "      <td>[G06N20/00, G06N3/00, G06K9/00]</td>\n",
       "    </tr>\n",
       "  </tbody>\n",
       "</table>\n",
       "</div>"
      ],
      "text/plain": [
       "                                             Context  \\\n",
       "0  processor compil system receiv predict model r...   \n",
       "1  antigen specif immunotherapi covid19 fusion pr...   \n",
       "2  system method secur cloudbas physiolog data pr...   \n",
       "3  collim detector base medic imag system medic i...   \n",
       "4  method devic determin relat two entiti method ...   \n",
       "\n",
       "               Classification Codes  \n",
       "0                       [G06N20/00]  \n",
       "1                       [A61K39/00]  \n",
       "2  [A61B5/00, G16H10/00, A61B90/00]  \n",
       "3                        [A61B6/00]  \n",
       "4   [G06N20/00, G06N3/00, G06K9/00]  "
      ]
     },
     "execution_count": 16,
     "metadata": {},
     "output_type": "execute_result"
    }
   ],
   "source": [
    "# Load the data for top 18 codes\n",
    "df = pd.read_csv('Data_Preprocessed_MainGroup_Top18.csv')\n",
    "df['Classification Codes'] = df['Classification Codes'].apply(ast.literal_eval)\n",
    "df.head()"
   ]
  },
  {
   "cell_type": "code",
   "execution_count": 17,
   "id": "059ce850",
   "metadata": {},
   "outputs": [],
   "source": [
    "# Encode the \"Classification Codes\" column as multi-labels\n",
    "mlb = MultiLabelBinarizer()\n",
    "y = mlb.fit_transform(df['Classification Codes'])\n",
    "\n",
    "# Split the data into training(80%) and testing sets(20%)\n",
    "X_train, X_test, y_train, y_test = train_test_split(df['Context'], y, test_size=0.2, random_state=42)"
   ]
  },
  {
   "cell_type": "code",
   "execution_count": 18,
   "id": "70a1db22",
   "metadata": {},
   "outputs": [],
   "source": [
    "# Apply feature extraction using TfidfVectorizer\n",
    "vectorizer = TfidfVectorizer()\n",
    "X_train_vectorized = vectorizer.fit_transform(X_train)\n",
    "X_test_vectorized = vectorizer.transform(X_test)"
   ]
  },
  {
   "cell_type": "markdown",
   "id": "3cf599f7",
   "metadata": {},
   "source": [
    "##  Logistic Regression"
   ]
  },
  {
   "cell_type": "code",
   "execution_count": 19,
   "id": "b466738f",
   "metadata": {},
   "outputs": [
    {
     "name": "stdout",
     "output_type": "stream",
     "text": [
      "Accuracy: 0.30905780609922623\n",
      "Hamming Loss: 0.07413853115210581\n"
     ]
    }
   ],
   "source": [
    "logistic_regression = LogisticRegression()\n",
    "\n",
    "# Use MultiOutputClassifier for multi-label classification\n",
    "multi_label_classifier = MultiOutputClassifier(logistic_regression)\n",
    "\n",
    "# Train the model\n",
    "multi_label_classifier.fit(X_train_vectorized, y_train)\n",
    "\n",
    "# Make predictions\n",
    "y_pred = multi_label_classifier.predict(X_test_vectorized)\n",
    "\n",
    "# Evaluate the model\n",
    "accuracy = accuracy_score(y_test, y_pred)\n",
    "hamming_loss_value = hamming_loss(y_test, y_pred)\n",
    "\n",
    "print(\"Accuracy:\", accuracy)\n",
    "print(\"Hamming Loss:\", hamming_loss_value)"
   ]
  },
  {
   "cell_type": "markdown",
   "id": "b68515ae",
   "metadata": {},
   "source": [
    "## Random Forest "
   ]
  },
  {
   "cell_type": "code",
   "execution_count": 20,
   "id": "60fd8f98",
   "metadata": {},
   "outputs": [
    {
     "name": "stdout",
     "output_type": "stream",
     "text": [
      "Accuracy: 0.26354119253527536\n",
      "Hamming Loss: 0.07325497335939382\n"
     ]
    }
   ],
   "source": [
    "classifier = RandomForestClassifier()\n",
    "\n",
    "# Use MultiOutputClassifier for multi-label classification\n",
    "multi_label_classifier = MultiOutputClassifier(classifier)\n",
    "\n",
    "# Train the model\n",
    "multi_label_classifier.fit(X_train_vectorized, y_train)\n",
    "\n",
    "# Make predictions\n",
    "y_pred = multi_label_classifier.predict(X_test_vectorized)\n",
    "\n",
    "# Evaluate the model\n",
    "accuracy = accuracy_score(y_test, y_pred)\n",
    "hamming_loss_value = hamming_loss(y_test, y_pred)\n",
    "\n",
    "print(\"Accuracy:\", accuracy)\n",
    "print(\"Hamming Loss:\", hamming_loss_value)"
   ]
  },
  {
   "cell_type": "markdown",
   "id": "dc0108ee",
   "metadata": {},
   "source": [
    "## Support Vector Machine  (One vs Rest)\n"
   ]
  },
  {
   "cell_type": "code",
   "execution_count": 21,
   "id": "a6023654",
   "metadata": {},
   "outputs": [
    {
     "name": "stdout",
     "output_type": "stream",
     "text": [
      "Accuracy: 0.2758306781975421\n",
      "Hamming Loss: 0.08391121582907173\n"
     ]
    }
   ],
   "source": [
    "svm_classifier = SVC(kernel='linear')\n",
    "\n",
    "# Use MultiOutputClassifier for multi-label classification\n",
    "multi_label_classifier = MultiOutputClassifier(svm_classifier)\n",
    "\n",
    "# Train the model\n",
    "multi_label_classifier.fit(X_train_vectorized, y_train)\n",
    "\n",
    "# Make predictions\n",
    "y_pred = multi_label_classifier.predict(X_test_vectorized)\n",
    "\n",
    "# Evaluate the model\n",
    "accuracy = accuracy_score(y_test, y_pred)\n",
    "hamming_loss_value = hamming_loss(y_test, y_pred)\n",
    "\n",
    "print(\"Accuracy:\", accuracy)\n",
    "print(\"Hamming Loss:\", hamming_loss_value)"
   ]
  },
  {
   "cell_type": "markdown",
   "id": "77e3b3c9",
   "metadata": {},
   "source": [
    "## Deep Neural Networks "
   ]
  },
  {
   "cell_type": "code",
   "execution_count": 22,
   "id": "3cd165a1",
   "metadata": {},
   "outputs": [
    {
     "name": "stdout",
     "output_type": "stream",
     "text": [
      "Epoch 1/10\n",
      "220/220 [==============================] - 5s 19ms/step - loss: 0.2271 - accuracy: 0.4767 - val_loss: 0.1621 - val_accuracy: 0.6027\n",
      "Epoch 2/10\n",
      "220/220 [==============================] - 4s 18ms/step - loss: 0.1061 - accuracy: 0.6940 - val_loss: 0.1639 - val_accuracy: 0.6056\n",
      "Epoch 3/10\n",
      "220/220 [==============================] - 4s 18ms/step - loss: 0.0636 - accuracy: 0.7488 - val_loss: 0.1783 - val_accuracy: 0.6005\n",
      "Epoch 4/10\n",
      "220/220 [==============================] - 4s 18ms/step - loss: 0.0387 - accuracy: 0.7675 - val_loss: 0.2021 - val_accuracy: 0.5982\n",
      "Epoch 5/10\n",
      "220/220 [==============================] - 4s 18ms/step - loss: 0.0232 - accuracy: 0.7850 - val_loss: 0.2234 - val_accuracy: 0.6090\n",
      "Epoch 6/10\n",
      "220/220 [==============================] - 4s 18ms/step - loss: 0.0143 - accuracy: 0.7813 - val_loss: 0.2545 - val_accuracy: 0.6056\n",
      "Epoch 7/10\n",
      "220/220 [==============================] - 4s 19ms/step - loss: 0.0092 - accuracy: 0.7824 - val_loss: 0.2774 - val_accuracy: 0.5839\n",
      "Epoch 8/10\n",
      "220/220 [==============================] - 4s 18ms/step - loss: 0.0059 - accuracy: 0.7793 - val_loss: 0.3076 - val_accuracy: 0.5862\n",
      "Epoch 9/10\n",
      "220/220 [==============================] - 4s 18ms/step - loss: 0.0040 - accuracy: 0.7730 - val_loss: 0.3244 - val_accuracy: 0.5913\n",
      "Epoch 10/10\n",
      "220/220 [==============================] - 4s 18ms/step - loss: 0.0029 - accuracy: 0.7871 - val_loss: 0.3476 - val_accuracy: 0.5959\n",
      "69/69 [==============================] - 1s 6ms/step\n"
     ]
    }
   ],
   "source": [
    "# Convert sparse matrices to dense NumPy arrays\n",
    "X_train_dense = X_train_vectorized.toarray()\n",
    "X_test_dense = X_test_vectorized.toarray()\n",
    "\n",
    "# Build deep neural network model\n",
    "model = Sequential()\n",
    "model.add(Dense(64, activation='relu', input_shape=(X_train_dense.shape[1],)))\n",
    "model.add(Dense(32, activation='relu'))\n",
    "model.add(Dense(y.shape[1], activation='sigmoid'))  # Use sigmoid activation for multi-label classification\n",
    "\n",
    "# Compile the model\n",
    "model.compile(optimizer=Adam(learning_rate=0.001), loss='binary_crossentropy', metrics=['accuracy'])\n",
    "\n",
    "# Train the model\n",
    "history = model.fit(X_train_dense, y_train, batch_size=32, epochs=10, validation_split=0.2)\n",
    "\n",
    "# Make predictions\n",
    "y_pred_proba = model.predict(X_test_dense)\n",
    "y_pred = (y_pred_proba > 0.5).astype(int)\n",
    "\n",
    "# Evaluate the model\n",
    "hamming_loss_value = hamming_loss(y_test, y_pred)"
   ]
  },
  {
   "cell_type": "code",
   "execution_count": 23,
   "id": "46bad7ea",
   "metadata": {},
   "outputs": [
    {
     "name": "stdout",
     "output_type": "stream",
     "text": [
      "Epoch 1 - Accuracy: 0.4767, Validation Accuracy: 0.6027\n",
      "Epoch 2 - Accuracy: 0.6940, Validation Accuracy: 0.6056\n",
      "Epoch 3 - Accuracy: 0.7488, Validation Accuracy: 0.6005\n",
      "Epoch 4 - Accuracy: 0.7675, Validation Accuracy: 0.5982\n",
      "Epoch 5 - Accuracy: 0.7850, Validation Accuracy: 0.6090\n",
      "Epoch 6 - Accuracy: 0.7813, Validation Accuracy: 0.6056\n",
      "Epoch 7 - Accuracy: 0.7824, Validation Accuracy: 0.5839\n",
      "Epoch 8 - Accuracy: 0.7793, Validation Accuracy: 0.5862\n",
      "Epoch 9 - Accuracy: 0.7730, Validation Accuracy: 0.5913\n",
      "Epoch 10 - Accuracy: 0.7871, Validation Accuracy: 0.5959\n",
      "\n",
      "Hamming Loss: 0.06452649334654208\n"
     ]
    }
   ],
   "source": [
    "# Get accuracy and validation accuracy\n",
    "accuracy = history.history['accuracy']\n",
    "val_accuracy = history.history['val_accuracy']\n",
    "\n",
    "# Print the accuracy and validation accuracy for each epoch\n",
    "for epoch in range(len(accuracy)):\n",
    "    print(f\"Epoch {epoch + 1} - Accuracy: {accuracy[epoch]:.4f}, Validation Accuracy: {val_accuracy[epoch]:.4f}\")\n",
    "    \n",
    "# Print hamming loss\n",
    "print(\"\\nHamming Loss:\", hamming_loss_value)"
   ]
  },
  {
   "cell_type": "code",
   "execution_count": 24,
   "id": "beb9814b",
   "metadata": {},
   "outputs": [
    {
     "data": {
      "image/png": "[encoded data removed]",
      "text/plain": [
       "<Figure size 1000x400 with 2 Axes>"
      ]
     },
     "metadata": {},
     "output_type": "display_data"
    }
   ],
   "source": [
    "# Plot the training history\n",
    "plt.figure(figsize=(10, 4))\n",
    "\n",
    "# Accuracy/validation accuracy plot\n",
    "plt.subplot(1, 2, 1)\n",
    "plt.plot(history.history['accuracy'], label='Training Accuracy')\n",
    "plt.plot(history.history['val_accuracy'], label='Validation Accuracy')\n",
    "plt.xlabel('Epoch')\n",
    "plt.ylabel('Accuracy')\n",
    "plt.title('Accuracy during Training')\n",
    "plt.legend()\n",
    "\n",
    "# Loss/validation loss plot\n",
    "plt.subplot(1, 2, 2)\n",
    "plt.plot(history.history['loss'], label='Training Loss')\n",
    "plt.plot(history.history['val_loss'], label='Validation Loss')\n",
    "plt.xlabel('Epoch')\n",
    "plt.ylabel('Loss')\n",
    "plt.title('Loss during Training')\n",
    "plt.legend()\n",
    "\n",
    "plt.tight_layout()\n",
    "plt.show()"
   ]
  },
  {
   "cell_type": "markdown",
   "id": "bcabe28e",
   "metadata": {},
   "source": [
    "# Selected 7 Codes\n",
    "\n",
    "The subsequent section will utalise a smaller subset of the whole data. This subset only contains the set of selected 7 codes by Beyond Blood, these codes are (removed repeated codes):\n",
    "\n",
    "- A61B5/00     \n",
    "- A61B17/00      \n",
    "- G06N20/00\n",
    "- G06K9/00  \n",
    "- G16H10/00\n",
    "- A61B6/00\n",
    "\n",
    "\n",
    "\n",
    "The following models will be tested to get the accuracy and hamming loss:\n",
    "\n",
    "- Logistic Regression\n",
    "- Random Forest Classifier\n",
    "- Support Vector Machine\n",
    "- Deep Nerual Networks"
   ]
  },
  {
   "cell_type": "code",
   "execution_count": 25,
   "id": "7052519c",
   "metadata": {},
   "outputs": [
    {
     "data": {
      "text/html": [
       "<div>\n",
       "<style scoped>\n",
       "    .dataframe tbody tr th:only-of-type {\n",
       "        vertical-align: middle;\n",
       "    }\n",
       "\n",
       "    .dataframe tbody tr th {\n",
       "        vertical-align: top;\n",
       "    }\n",
       "\n",
       "    .dataframe thead th {\n",
       "        text-align: right;\n",
       "    }\n",
       "</style>\n",
       "<table border=\"1\" class=\"dataframe\">\n",
       "  <thead>\n",
       "    <tr style=\"text-align: right;\">\n",
       "      <th></th>\n",
       "      <th>Context</th>\n",
       "      <th>Classification Codes</th>\n",
       "    </tr>\n",
       "  </thead>\n",
       "  <tbody>\n",
       "    <tr>\n",
       "      <th>0</th>\n",
       "      <td>processor compil system receiv predict model r...</td>\n",
       "      <td>[G06N20/00]</td>\n",
       "    </tr>\n",
       "    <tr>\n",
       "      <th>1</th>\n",
       "      <td>system method secur cloudbas physiolog data pr...</td>\n",
       "      <td>[A61B5/00, G16H10/00]</td>\n",
       "    </tr>\n",
       "    <tr>\n",
       "      <th>2</th>\n",
       "      <td>collim detector base medic imag system medic i...</td>\n",
       "      <td>[A61B6/00]</td>\n",
       "    </tr>\n",
       "    <tr>\n",
       "      <th>3</th>\n",
       "      <td>method devic determin relat two entiti method ...</td>\n",
       "      <td>[G06N20/00, G06K9/00]</td>\n",
       "    </tr>\n",
       "    <tr>\n",
       "      <th>4</th>\n",
       "      <td>system method teach composition convolut neura...</td>\n",
       "      <td>[G06K9/00]</td>\n",
       "    </tr>\n",
       "  </tbody>\n",
       "</table>\n",
       "</div>"
      ],
      "text/plain": [
       "                                             Context   Classification Codes\n",
       "0  processor compil system receiv predict model r...            [G06N20/00]\n",
       "1  system method secur cloudbas physiolog data pr...  [A61B5/00, G16H10/00]\n",
       "2  collim detector base medic imag system medic i...             [A61B6/00]\n",
       "3  method devic determin relat two entiti method ...  [G06N20/00, G06K9/00]\n",
       "4  system method teach composition convolut neura...             [G06K9/00]"
      ]
     },
     "execution_count": 25,
     "metadata": {},
     "output_type": "execute_result"
    }
   ],
   "source": [
    "# Load the data for selected 7 codes by Beyond Blood\n",
    "df = pd.read_csv('Data_Preprocessed_MainGroup_Selected7.csv')\n",
    "df['Classification Codes'] = df['Classification Codes'].apply(ast.literal_eval)\n",
    "df.head()"
   ]
  },
  {
   "cell_type": "code",
   "execution_count": 26,
   "id": "308a08e2",
   "metadata": {},
   "outputs": [],
   "source": [
    "# Encode the \"Classification Codes\" column as multi-labels\n",
    "mlb = MultiLabelBinarizer()\n",
    "y = mlb.fit_transform(df['Classification Codes'])\n",
    "\n",
    "# Split the data into training and testing sets\n",
    "X_train, X_test, y_train, y_test = train_test_split(df['Context'], y, test_size=0.2, random_state=42)"
   ]
  },
  {
   "cell_type": "code",
   "execution_count": 27,
   "id": "a8536e42",
   "metadata": {},
   "outputs": [],
   "source": [
    "# Apply feature extraction using TfidfVectorizer\n",
    "vectorizer = TfidfVectorizer()\n",
    "X_train_vectorized = vectorizer.fit_transform(X_train)\n",
    "X_test_vectorized = vectorizer.transform(X_test)"
   ]
  },
  {
   "cell_type": "markdown",
   "id": "da32c448",
   "metadata": {},
   "source": [
    "## Logistic Regression "
   ]
  },
  {
   "cell_type": "code",
   "execution_count": 28,
   "id": "cdd60c5b",
   "metadata": {},
   "outputs": [
    {
     "name": "stdout",
     "output_type": "stream",
     "text": [
      "Accuracy: 0.46808510638297873\n",
      "Hamming Loss: 0.11746249632316894\n"
     ]
    }
   ],
   "source": [
    "logistic_regression = LogisticRegression()\n",
    "\n",
    "# Use MultiOutputClassifier for multi-label classification\n",
    "multi_label_classifier = MultiOutputClassifier(logistic_regression)\n",
    "\n",
    "# Train the model\n",
    "multi_label_classifier.fit(X_train_vectorized, y_train)\n",
    "\n",
    "# Make predictions\n",
    "y_pred = multi_label_classifier.predict(X_test_vectorized)\n",
    "\n",
    "# Evaluate the model\n",
    "accuracy = accuracy_score(y_test, y_pred)\n",
    "hamming_loss_value = hamming_loss(y_test, y_pred)\n",
    "\n",
    "print(\"Accuracy:\", accuracy)\n",
    "print(\"Hamming Loss:\", hamming_loss_value)"
   ]
  },
  {
   "cell_type": "markdown",
   "id": "4b919cf5",
   "metadata": {},
   "source": [
    "## Random Forest "
   ]
  },
  {
   "cell_type": "code",
   "execution_count": 29,
   "id": "ab46b98a",
   "metadata": {},
   "outputs": [
    {
     "name": "stdout",
     "output_type": "stream",
     "text": [
      "Accuracy: 0.4447494852436513\n",
      "Hamming Loss: 0.11059907834101383\n"
     ]
    }
   ],
   "source": [
    "classifier = RandomForestClassifier()\n",
    "\n",
    "# Use MultiOutputClassifier for multi-label classification\n",
    "multi_label_classifier = MultiOutputClassifier(classifier)\n",
    "\n",
    "# Train the model\n",
    "multi_label_classifier.fit(X_train_vectorized, y_train)\n",
    "\n",
    "# Make predictions\n",
    "y_pred = multi_label_classifier.predict(X_test_vectorized)\n",
    "\n",
    "# Evaluate the model\n",
    "accuracy = accuracy_score(y_test, y_pred)\n",
    "hamming_loss_value = hamming_loss(y_test, y_pred)\n",
    "\n",
    "print(\"Accuracy:\", accuracy)\n",
    "print(\"Hamming Loss:\", hamming_loss_value)"
   ]
  },
  {
   "cell_type": "markdown",
   "id": "2ee88926",
   "metadata": {},
   "source": [
    "## Support Vector Machine  (One vs Rest)\n"
   ]
  },
  {
   "cell_type": "code",
   "execution_count": 30,
   "id": "c6c5bab4",
   "metadata": {},
   "outputs": [
    {
     "name": "stdout",
     "output_type": "stream",
     "text": [
      "Accuracy: 0.426904598490048\n",
      "Hamming Loss: 0.12922835572114913\n"
     ]
    }
   ],
   "source": [
    "svm_classifier = SVC(kernel='linear')\n",
    "\n",
    "# Use MultiOutputClassifier for multi-label classification\n",
    "multi_label_classifier = MultiOutputClassifier(svm_classifier)\n",
    "\n",
    "# Train the model\n",
    "multi_label_classifier.fit(X_train_vectorized, y_train)\n",
    "\n",
    "# Make predictions\n",
    "y_pred = multi_label_classifier.predict(X_test_vectorized)\n",
    "\n",
    "# Evaluate the model\n",
    "accuracy = accuracy_score(y_test, y_pred)\n",
    "hamming_loss_value = hamming_loss(y_test, y_pred)\n",
    "\n",
    "print(\"Accuracy:\", accuracy)\n",
    "print(\"Hamming Loss:\", hamming_loss_value)"
   ]
  },
  {
   "cell_type": "markdown",
   "id": "b6229fc4",
   "metadata": {},
   "source": [
    "## Deep Neural Networks"
   ]
  },
  {
   "cell_type": "code",
   "execution_count": 31,
   "id": "cbe2f564",
   "metadata": {},
   "outputs": [
    {
     "name": "stdout",
     "output_type": "stream",
     "text": [
      "Epoch 1/10\n",
      "146/146 [==============================] - 2s 11ms/step - loss: 0.3114 - accuracy: 0.6279 - val_loss: 0.2332 - val_accuracy: 0.7136\n",
      "Epoch 2/10\n",
      "146/146 [==============================] - 1s 9ms/step - loss: 0.1535 - accuracy: 0.8039 - val_loss: 0.2445 - val_accuracy: 0.7033\n",
      "Epoch 3/10\n",
      "146/146 [==============================] - 1s 9ms/step - loss: 0.0820 - accuracy: 0.8633 - val_loss: 0.2905 - val_accuracy: 0.6904\n",
      "Epoch 4/10\n",
      "146/146 [==============================] - 1s 9ms/step - loss: 0.0446 - accuracy: 0.8878 - val_loss: 0.3255 - val_accuracy: 0.6938\n",
      "Epoch 5/10\n",
      "146/146 [==============================] - 1s 9ms/step - loss: 0.0257 - accuracy: 0.8968 - val_loss: 0.3676 - val_accuracy: 0.6998\n",
      "Epoch 6/10\n",
      "146/146 [==============================] - 1s 9ms/step - loss: 0.0138 - accuracy: 0.8944 - val_loss: 0.4035 - val_accuracy: 0.6818\n",
      "Epoch 7/10\n",
      "146/146 [==============================] - 1s 9ms/step - loss: 0.0080 - accuracy: 0.9015 - val_loss: 0.4449 - val_accuracy: 0.6981\n",
      "Epoch 8/10\n",
      "146/146 [==============================] - 1s 9ms/step - loss: 0.0049 - accuracy: 0.8979 - val_loss: 0.4800 - val_accuracy: 0.6904\n",
      "Epoch 9/10\n",
      "146/146 [==============================] - 1s 9ms/step - loss: 0.0044 - accuracy: 0.8981 - val_loss: 0.5007 - val_accuracy: 0.6852\n",
      "Epoch 10/10\n",
      "146/146 [==============================] - 1s 9ms/step - loss: 0.0033 - accuracy: 0.9000 - val_loss: 0.5236 - val_accuracy: 0.6801\n",
      "46/46 [==============================] - 0s 3ms/step\n"
     ]
    }
   ],
   "source": [
    "# Convert sparse matrices to dense NumPy arrays\n",
    "X_train_dense = X_train_vectorized.toarray()\n",
    "X_test_dense = X_test_vectorized.toarray()\n",
    "\n",
    "# Build the deep neural network model\n",
    "model = Sequential()\n",
    "model.add(Dense(64, activation='relu', input_shape=(X_train_dense.shape[1],)))\n",
    "model.add(Dense(32, activation='relu'))\n",
    "model.add(Dense(y.shape[1], activation='sigmoid'))  # Use sigmoid activation for multi-label classification\n",
    "\n",
    "# Compile the model\n",
    "model.compile(optimizer=Adam(learning_rate=0.001), loss='binary_crossentropy', metrics=['accuracy'])\n",
    "\n",
    "# Train the model\n",
    "history = model.fit(X_train_dense, y_train, batch_size=32, epochs=10, validation_split=0.2)\n",
    "\n",
    "# Make predictions\n",
    "y_pred_proba = model.predict(X_test_dense)\n",
    "y_pred = (y_pred_proba > 0.5).astype(int)\n",
    "\n",
    "# Evaluate the model\n",
    "hamming_loss_value = hamming_loss(y_test, y_pred)"
   ]
  },
  {
   "cell_type": "code",
   "execution_count": 32,
   "id": "3c2ed157",
   "metadata": {},
   "outputs": [
    {
     "name": "stdout",
     "output_type": "stream",
     "text": [
      "Epoch 1 - Accuracy: 0.6279, Validation Accuracy: 0.7136\n",
      "Epoch 2 - Accuracy: 0.8039, Validation Accuracy: 0.7033\n",
      "Epoch 3 - Accuracy: 0.8633, Validation Accuracy: 0.6904\n",
      "Epoch 4 - Accuracy: 0.8878, Validation Accuracy: 0.6938\n",
      "Epoch 5 - Accuracy: 0.8968, Validation Accuracy: 0.6998\n",
      "Epoch 6 - Accuracy: 0.8944, Validation Accuracy: 0.6818\n",
      "Epoch 7 - Accuracy: 0.9015, Validation Accuracy: 0.6981\n",
      "Epoch 8 - Accuracy: 0.8979, Validation Accuracy: 0.6904\n",
      "Epoch 9 - Accuracy: 0.8981, Validation Accuracy: 0.6852\n",
      "Epoch 10 - Accuracy: 0.9000, Validation Accuracy: 0.6801\n",
      "\n",
      "Hamming Loss: 0.09814687714481812\n"
     ]
    }
   ],
   "source": [
    "# Get accuracy and validation accuracy\n",
    "accuracy = history.history['accuracy']\n",
    "val_accuracy = history.history['val_accuracy']\n",
    "\n",
    "# Print the accuracy and validation accuracy for each epoch\n",
    "for epoch in range(len(accuracy)):\n",
    "    print(f\"Epoch {epoch + 1} - Accuracy: {accuracy[epoch]:.4f}, Validation Accuracy: {val_accuracy[epoch]:.4f}\")\n",
    "    \n",
    "# Print hamming loss\n",
    "print(\"\\nHamming Loss:\", hamming_loss_value)"
   ]
  },
  {
   "cell_type": "code",
   "execution_count": 33,
   "id": "c0634037",
   "metadata": {},
   "outputs": [
    {
     "data": {
      "image/png": "[encoded data removed]",
      "text/plain": [
       "<Figure size 1000x400 with 2 Axes>"
      ]
     },
     "metadata": {},
     "output_type": "display_data"
    }
   ],
   "source": [
    "# Plot the training history\n",
    "plt.figure(figsize=(10, 4))\n",
    "\n",
    "# Accuracy/validation accuracy plot\n",
    "plt.subplot(1, 2, 1)\n",
    "plt.plot(history.history['accuracy'], label='Training Accuracy')\n",
    "plt.plot(history.history['val_accuracy'], label='Validation Accuracy')\n",
    "plt.xlabel('Epoch')\n",
    "plt.ylabel('Accuracy')\n",
    "plt.title('Accuracy during Training')\n",
    "plt.legend()\n",
    "\n",
    "# Loss/validation loss plot\n",
    "plt.subplot(1, 2, 2)\n",
    "plt.plot(history.history['loss'], label='Training Loss')\n",
    "plt.plot(history.history['val_loss'], label='Validation Loss')\n",
    "plt.xlabel('Epoch')\n",
    "plt.ylabel('Loss')\n",
    "plt.title('Loss during Training')\n",
    "plt.legend()\n",
    "\n",
    "plt.tight_layout()\n",
    "plt.show()"
   ]
  },
  {
   "cell_type": "markdown",
   "id": "77dcd580",
   "metadata": {},
   "source": [
    "# Results\n",
    "This section presents all results from the model into a table format for ease of visualisation"
   ]
  },
  {
   "cell_type": "code",
   "execution_count": 75,
   "id": "2576cffb",
   "metadata": {},
   "outputs": [],
   "source": [
    "def results_table(data):\n",
    "    table = PrettyTable()\n",
    "    \n",
    "    # Define column headers\n",
    "    table.field_names = [\"Model\", \"Accuracy\", \"Hamming Loss\"]\n",
    "    \n",
    "    # Add data\n",
    "    for row in data:\n",
    "        table.add_row(row)\n",
    "        \n",
    "    # Align data\n",
    "    table.align[\"Model\"] = \"l\"\n",
    "    table.align[\"Accuracy\"] = \"r\"\n",
    "    table.align[\"Hamming Loss\"] = \"r\"\n",
    "    table.float_format = \".4\"\n",
    "\n",
    "    print(table)"
   ]
  },
  {
   "cell_type": "code",
   "execution_count": 78,
   "id": "91b43f94",
   "metadata": {},
   "outputs": [
    {
     "name": "stdout",
     "output_type": "stream",
     "text": [
      "\t\t       \u001b[1mAll Data\u001b[0m\n",
      "+------------------------+----------+--------------+\n",
      "| Model                  | Accuracy | Hamming Loss |\n",
      "+------------------------+----------+--------------+\n",
      "| Logistic Regression    |   0.0784 |       0.0081 |\n",
      "| Random Forest          |   0.0527 |       0.0072 |\n",
      "| Support Vector Machine |   0.0643 |       0.0096 |\n",
      "| Deep Neural Networks   |   0.3693 |       0.0073 |\n",
      "+------------------------+----------+--------------+\n",
      "\n",
      "\n",
      "\t\t        \u001b[1mTop 18\u001b[0m\n",
      "+------------------------+----------+--------------+\n",
      "| Model                  | Accuracy | Hamming Loss |\n",
      "+------------------------+----------+--------------+\n",
      "| Logistic Regression    |   0.3091 |       0.0741 |\n",
      "| Random Forest          |   0.2635 |       0.0732 |\n",
      "| Support Vector Machine |   0.2758 |       0.0839 |\n",
      "| Deep Neural Networks   |   0.6090 |       0.0645 |\n",
      "+------------------------+----------+--------------+\n",
      "\n",
      "\n",
      "\t\t       \u001b[1mSelected 7\u001b[0m\n",
      "+------------------------+----------+--------------+\n",
      "| Model                  | Accuracy | Hamming Loss |\n",
      "+------------------------+----------+--------------+\n",
      "| Logistic Regression    |   0.4681 |       0.1175 |\n",
      "| Random Forest          |   0.4447 |       0.1106 |\n",
      "| Support Vector Machine |   0.4269 |       0.1292 |\n",
      "| Deep Neural Networks   |   0.6998 |       0.0981 |\n",
      "+------------------------+----------+--------------+\n"
     ]
    }
   ],
   "source": [
    "# Data for the table\n",
    "data_all = [\n",
    "    [\"Logistic Regression\", 0.0784, 0.0081],\n",
    "    [\"Random Forest\", 0.0527, 0.0072],\n",
    "    [\"Support Vector Machine\", 0.0643, 0.0096],\n",
    "    [\"Deep Neural Networks\", 0.3693, 0.0073]\n",
    "]\n",
    "\n",
    "data_top18 = [\n",
    "    [\"Logistic Regression\", 0.3091, 0.0741],\n",
    "    [\"Random Forest\", 0.2635, 0.0732],\n",
    "    [\"Support Vector Machine\", 0.2758, 0.0839],\n",
    "    [\"Deep Neural Networks\", 0.6090, 0.0645]\n",
    "]\n",
    "\n",
    "data_selected7 = [\n",
    "    [\"Logistic Regression\", 0.4681, 0.1175],\n",
    "    [\"Random Forest\", 0.4447, 0.1106],\n",
    "    [\"Support Vector Machine\", 0.4269, 0.1292],\n",
    "    [\"Deep Neural Networks\", 0.6998, 0.0981]\n",
    "]\n",
    "\n",
    "print(\"\\t\\t       \\033[1mAll Data\\033[0m\")\n",
    "results_table(data_all)\n",
    "\n",
    "print(\"\\n\\n\\t\\t        \\033[1mTop 18\\033[0m\")\n",
    "results_table(data_top18)\n",
    "\n",
    "print(\"\\n\\n\\t\\t       \\033[1mSelected 7\\033[0m\")\n",
    "results_table(data_selected7)"
   ]
  }
 ],
 "metadata": {
  "kernelspec": {
   "display_name": "Python 3 (ipykernel)",
   "language": "python",
   "name": "python3"
  },
  "language_info": {
   "codemirror_mode": {
    "name": "ipython",
    "version": 3
   },
   "file_extension": ".py",
   "mimetype": "text/x-python",
   "name": "python",
   "nbconvert_exporter": "python",
   "pygments_lexer": "ipython3",
   "version": "3.10.12"
  }
 },
 "nbformat": 4,
 "nbformat_minor": 5
}
